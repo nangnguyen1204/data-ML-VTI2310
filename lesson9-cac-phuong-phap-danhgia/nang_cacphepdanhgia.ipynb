{
  "nbformat": 4,
  "nbformat_minor": 0,
  "metadata": {
    "colab": {
      "provenance": []
    },
    "kernelspec": {
      "name": "python3",
      "display_name": "Python 3"
    },
    "language_info": {
      "name": "python"
    }
  },
  "cells": [
    {
      "cell_type": "markdown",
      "source": [
        "# Độ chính xác (Accuracy)\n",
        "\n",
        "Tỷ lệ phần trăm các dự đoán đúng."
      ],
      "metadata": {
        "id": "G6iGCc7QW2NI"
      }
    },
    {
      "cell_type": "code",
      "source": [
        "!pip uninstall scikit-learn\n",
        "\n",
        "!pip install scikit-learn==1.1.3"
      ],
      "metadata": {
        "colab": {
          "base_uri": "https://localhost:8080/"
        },
        "id": "UZsZjQ8dnVPE",
        "outputId": "14bbddbb-b2c3-4845-9ef5-e0507f526b75"
      },
      "execution_count": 1,
      "outputs": [
        {
          "output_type": "stream",
          "name": "stdout",
          "text": [
            "Found existing installation: scikit-learn 1.1.3\n",
            "Uninstalling scikit-learn-1.1.3:\n",
            "  Would remove:\n",
            "    /usr/local/lib/python3.10/dist-packages/scikit_learn-1.1.3.dist-info/*\n",
            "    /usr/local/lib/python3.10/dist-packages/scikit_learn.libs/libgomp-a34b3233.so.1.0.0\n",
            "    /usr/local/lib/python3.10/dist-packages/sklearn/*\n",
            "Proceed (Y/n)? y\n",
            "  Successfully uninstalled scikit-learn-1.1.3\n",
            "Collecting scikit-learn==1.1.3\n",
            "  Using cached scikit_learn-1.1.3-cp310-cp310-manylinux_2_17_x86_64.manylinux2014_x86_64.whl (30.5 MB)\n",
            "Requirement already satisfied: numpy>=1.17.3 in /usr/local/lib/python3.10/dist-packages (from scikit-learn==1.1.3) (1.23.5)\n",
            "Requirement already satisfied: scipy>=1.3.2 in /usr/local/lib/python3.10/dist-packages (from scikit-learn==1.1.3) (1.11.2)\n",
            "Requirement already satisfied: joblib>=1.0.0 in /usr/local/lib/python3.10/dist-packages (from scikit-learn==1.1.3) (1.3.2)\n",
            "Requirement already satisfied: threadpoolctl>=2.0.0 in /usr/local/lib/python3.10/dist-packages (from scikit-learn==1.1.3) (3.2.0)\n",
            "Installing collected packages: scikit-learn\n",
            "Successfully installed scikit-learn-1.1.3\n"
          ]
        }
      ]
    },
    {
      "cell_type": "code",
      "execution_count": 3,
      "metadata": {
        "id": "0zKf-DS8WxW8"
      },
      "outputs": [],
      "source": [
        "import numpy as np\n",
        "import pandas as pd\n",
        "import matplotlib.pyplot as plt\n",
        "\n",
        "from sklearn.ensemble import RandomForestClassifier\n",
        "from sklearn.linear_model import LogisticRegression\n",
        "from sklearn.model_selection import train_test_split\n",
        "\n",
        "from sklearn.metrics import accuracy_score\n",
        "\n",
        "import warnings\n",
        "warnings.filterwarnings(\"ignore\")"
      ]
    },
    {
      "cell_type": "markdown",
      "source": [
        "# Load dữ liệu"
      ],
      "metadata": {
        "id": "42CULF4yXmyf"
      }
    },
    {
      "cell_type": "code",
      "source": [
        "# load dữ liệu\n",
        "\n",
        "data = pd.read_csv('kdd2004.csv')\n",
        "\n",
        "# ánh xạ lại target thành 0 và 1\n",
        "data['target'] = data['target'].map({-1:0, 1:1})\n",
        "\n",
        "data.head()"
      ],
      "metadata": {
        "colab": {
          "base_uri": "https://localhost:8080/",
          "height": 236
        },
        "id": "40UHy28vXlZR",
        "outputId": "7658ec59-ad9d-4b21-cad4-fd13547a9714"
      },
      "execution_count": 4,
      "outputs": [
        {
          "output_type": "execute_result",
          "data": {
            "text/plain": [
              "      0      1     2     3     4       5     6     7     8     9  ...      65  \\\n",
              "0  52.0  32.69  0.30   2.5  20.0  1256.8 -0.89  0.33  11.0 -55.0  ...  1595.1   \n",
              "1  58.0  33.33  0.00  16.5   9.5   608.1  0.50  0.07  20.5 -52.5  ...   762.9   \n",
              "2  77.0  27.27 -0.91   6.0  58.5  1623.6 -1.40  0.02  -6.5 -48.0  ...  1491.8   \n",
              "3  41.0  27.91 -0.35   3.0  46.0  1921.6 -1.36 -0.47 -32.0 -51.5  ...  2047.7   \n",
              "4  50.0  28.00 -1.32  -9.0  12.0   464.8  0.88  0.19   8.0 -51.5  ...   479.5   \n",
              "\n",
              "     66    67   68    69     70    71    72    73  target  \n",
              "0 -1.64  2.83 -2.0 -50.0  445.2 -0.35  0.26  0.76       0  \n",
              "1  0.29  0.82 -3.0 -35.0  140.3  1.16  0.39  0.73       0  \n",
              "2  0.32 -1.29  0.0 -34.0  658.2 -0.76  0.26  0.24       0  \n",
              "3 -0.98  1.53  0.0 -49.0  554.2 -0.83  0.39  0.73       0  \n",
              "4  0.68 -0.59  2.0 -36.0   -6.9  2.02  0.14 -0.23       0  \n",
              "\n",
              "[5 rows x 75 columns]"
            ],
            "text/html": [
              "\n",
              "  <div id=\"df-430c602e-e538-4077-a50d-bdf7bf7a9622\" class=\"colab-df-container\">\n",
              "    <div>\n",
              "<style scoped>\n",
              "    .dataframe tbody tr th:only-of-type {\n",
              "        vertical-align: middle;\n",
              "    }\n",
              "\n",
              "    .dataframe tbody tr th {\n",
              "        vertical-align: top;\n",
              "    }\n",
              "\n",
              "    .dataframe thead th {\n",
              "        text-align: right;\n",
              "    }\n",
              "</style>\n",
              "<table border=\"1\" class=\"dataframe\">\n",
              "  <thead>\n",
              "    <tr style=\"text-align: right;\">\n",
              "      <th></th>\n",
              "      <th>0</th>\n",
              "      <th>1</th>\n",
              "      <th>2</th>\n",
              "      <th>3</th>\n",
              "      <th>4</th>\n",
              "      <th>5</th>\n",
              "      <th>6</th>\n",
              "      <th>7</th>\n",
              "      <th>8</th>\n",
              "      <th>9</th>\n",
              "      <th>...</th>\n",
              "      <th>65</th>\n",
              "      <th>66</th>\n",
              "      <th>67</th>\n",
              "      <th>68</th>\n",
              "      <th>69</th>\n",
              "      <th>70</th>\n",
              "      <th>71</th>\n",
              "      <th>72</th>\n",
              "      <th>73</th>\n",
              "      <th>target</th>\n",
              "    </tr>\n",
              "  </thead>\n",
              "  <tbody>\n",
              "    <tr>\n",
              "      <th>0</th>\n",
              "      <td>52.0</td>\n",
              "      <td>32.69</td>\n",
              "      <td>0.30</td>\n",
              "      <td>2.5</td>\n",
              "      <td>20.0</td>\n",
              "      <td>1256.8</td>\n",
              "      <td>-0.89</td>\n",
              "      <td>0.33</td>\n",
              "      <td>11.0</td>\n",
              "      <td>-55.0</td>\n",
              "      <td>...</td>\n",
              "      <td>1595.1</td>\n",
              "      <td>-1.64</td>\n",
              "      <td>2.83</td>\n",
              "      <td>-2.0</td>\n",
              "      <td>-50.0</td>\n",
              "      <td>445.2</td>\n",
              "      <td>-0.35</td>\n",
              "      <td>0.26</td>\n",
              "      <td>0.76</td>\n",
              "      <td>0</td>\n",
              "    </tr>\n",
              "    <tr>\n",
              "      <th>1</th>\n",
              "      <td>58.0</td>\n",
              "      <td>33.33</td>\n",
              "      <td>0.00</td>\n",
              "      <td>16.5</td>\n",
              "      <td>9.5</td>\n",
              "      <td>608.1</td>\n",
              "      <td>0.50</td>\n",
              "      <td>0.07</td>\n",
              "      <td>20.5</td>\n",
              "      <td>-52.5</td>\n",
              "      <td>...</td>\n",
              "      <td>762.9</td>\n",
              "      <td>0.29</td>\n",
              "      <td>0.82</td>\n",
              "      <td>-3.0</td>\n",
              "      <td>-35.0</td>\n",
              "      <td>140.3</td>\n",
              "      <td>1.16</td>\n",
              "      <td>0.39</td>\n",
              "      <td>0.73</td>\n",
              "      <td>0</td>\n",
              "    </tr>\n",
              "    <tr>\n",
              "      <th>2</th>\n",
              "      <td>77.0</td>\n",
              "      <td>27.27</td>\n",
              "      <td>-0.91</td>\n",
              "      <td>6.0</td>\n",
              "      <td>58.5</td>\n",
              "      <td>1623.6</td>\n",
              "      <td>-1.40</td>\n",
              "      <td>0.02</td>\n",
              "      <td>-6.5</td>\n",
              "      <td>-48.0</td>\n",
              "      <td>...</td>\n",
              "      <td>1491.8</td>\n",
              "      <td>0.32</td>\n",
              "      <td>-1.29</td>\n",
              "      <td>0.0</td>\n",
              "      <td>-34.0</td>\n",
              "      <td>658.2</td>\n",
              "      <td>-0.76</td>\n",
              "      <td>0.26</td>\n",
              "      <td>0.24</td>\n",
              "      <td>0</td>\n",
              "    </tr>\n",
              "    <tr>\n",
              "      <th>3</th>\n",
              "      <td>41.0</td>\n",
              "      <td>27.91</td>\n",
              "      <td>-0.35</td>\n",
              "      <td>3.0</td>\n",
              "      <td>46.0</td>\n",
              "      <td>1921.6</td>\n",
              "      <td>-1.36</td>\n",
              "      <td>-0.47</td>\n",
              "      <td>-32.0</td>\n",
              "      <td>-51.5</td>\n",
              "      <td>...</td>\n",
              "      <td>2047.7</td>\n",
              "      <td>-0.98</td>\n",
              "      <td>1.53</td>\n",
              "      <td>0.0</td>\n",
              "      <td>-49.0</td>\n",
              "      <td>554.2</td>\n",
              "      <td>-0.83</td>\n",
              "      <td>0.39</td>\n",
              "      <td>0.73</td>\n",
              "      <td>0</td>\n",
              "    </tr>\n",
              "    <tr>\n",
              "      <th>4</th>\n",
              "      <td>50.0</td>\n",
              "      <td>28.00</td>\n",
              "      <td>-1.32</td>\n",
              "      <td>-9.0</td>\n",
              "      <td>12.0</td>\n",
              "      <td>464.8</td>\n",
              "      <td>0.88</td>\n",
              "      <td>0.19</td>\n",
              "      <td>8.0</td>\n",
              "      <td>-51.5</td>\n",
              "      <td>...</td>\n",
              "      <td>479.5</td>\n",
              "      <td>0.68</td>\n",
              "      <td>-0.59</td>\n",
              "      <td>2.0</td>\n",
              "      <td>-36.0</td>\n",
              "      <td>-6.9</td>\n",
              "      <td>2.02</td>\n",
              "      <td>0.14</td>\n",
              "      <td>-0.23</td>\n",
              "      <td>0</td>\n",
              "    </tr>\n",
              "  </tbody>\n",
              "</table>\n",
              "<p>5 rows × 75 columns</p>\n",
              "</div>\n",
              "    <div class=\"colab-df-buttons\">\n",
              "\n",
              "  <div class=\"colab-df-container\">\n",
              "    <button class=\"colab-df-convert\" onclick=\"convertToInteractive('df-430c602e-e538-4077-a50d-bdf7bf7a9622')\"\n",
              "            title=\"Convert this dataframe to an interactive table.\"\n",
              "            style=\"display:none;\">\n",
              "\n",
              "  <svg xmlns=\"http://www.w3.org/2000/svg\" height=\"24px\" viewBox=\"0 -960 960 960\">\n",
              "    <path d=\"M120-120v-720h720v720H120Zm60-500h600v-160H180v160Zm220 220h160v-160H400v160Zm0 220h160v-160H400v160ZM180-400h160v-160H180v160Zm440 0h160v-160H620v160ZM180-180h160v-160H180v160Zm440 0h160v-160H620v160Z\"/>\n",
              "  </svg>\n",
              "    </button>\n",
              "\n",
              "  <style>\n",
              "    .colab-df-container {\n",
              "      display:flex;\n",
              "      gap: 12px;\n",
              "    }\n",
              "\n",
              "    .colab-df-convert {\n",
              "      background-color: #E8F0FE;\n",
              "      border: none;\n",
              "      border-radius: 50%;\n",
              "      cursor: pointer;\n",
              "      display: none;\n",
              "      fill: #1967D2;\n",
              "      height: 32px;\n",
              "      padding: 0 0 0 0;\n",
              "      width: 32px;\n",
              "    }\n",
              "\n",
              "    .colab-df-convert:hover {\n",
              "      background-color: #E2EBFA;\n",
              "      box-shadow: 0px 1px 2px rgba(60, 64, 67, 0.3), 0px 1px 3px 1px rgba(60, 64, 67, 0.15);\n",
              "      fill: #174EA6;\n",
              "    }\n",
              "\n",
              "    .colab-df-buttons div {\n",
              "      margin-bottom: 4px;\n",
              "    }\n",
              "\n",
              "    [theme=dark] .colab-df-convert {\n",
              "      background-color: #3B4455;\n",
              "      fill: #D2E3FC;\n",
              "    }\n",
              "\n",
              "    [theme=dark] .colab-df-convert:hover {\n",
              "      background-color: #434B5C;\n",
              "      box-shadow: 0px 1px 3px 1px rgba(0, 0, 0, 0.15);\n",
              "      filter: drop-shadow(0px 1px 2px rgba(0, 0, 0, 0.3));\n",
              "      fill: #FFFFFF;\n",
              "    }\n",
              "  </style>\n",
              "\n",
              "    <script>\n",
              "      const buttonEl =\n",
              "        document.querySelector('#df-430c602e-e538-4077-a50d-bdf7bf7a9622 button.colab-df-convert');\n",
              "      buttonEl.style.display =\n",
              "        google.colab.kernel.accessAllowed ? 'block' : 'none';\n",
              "\n",
              "      async function convertToInteractive(key) {\n",
              "        const element = document.querySelector('#df-430c602e-e538-4077-a50d-bdf7bf7a9622');\n",
              "        const dataTable =\n",
              "          await google.colab.kernel.invokeFunction('convertToInteractive',\n",
              "                                                    [key], {});\n",
              "        if (!dataTable) return;\n",
              "\n",
              "        const docLinkHtml = 'Like what you see? Visit the ' +\n",
              "          '<a target=\"_blank\" href=https://colab.research.google.com/notebooks/data_table.ipynb>data table notebook</a>'\n",
              "          + ' to learn more about interactive tables.';\n",
              "        element.innerHTML = '';\n",
              "        dataTable['output_type'] = 'display_data';\n",
              "        await google.colab.output.renderOutput(dataTable, element);\n",
              "        const docLink = document.createElement('div');\n",
              "        docLink.innerHTML = docLinkHtml;\n",
              "        element.appendChild(docLink);\n",
              "      }\n",
              "    </script>\n",
              "  </div>\n",
              "\n",
              "\n",
              "<div id=\"df-0d94309a-f7f2-42e4-af88-ab738896bc99\">\n",
              "  <button class=\"colab-df-quickchart\" onclick=\"quickchart('df-0d94309a-f7f2-42e4-af88-ab738896bc99')\"\n",
              "            title=\"Suggest charts.\"\n",
              "            style=\"display:none;\">\n",
              "\n",
              "<svg xmlns=\"http://www.w3.org/2000/svg\" height=\"24px\"viewBox=\"0 0 24 24\"\n",
              "     width=\"24px\">\n",
              "    <g>\n",
              "        <path d=\"M19 3H5c-1.1 0-2 .9-2 2v14c0 1.1.9 2 2 2h14c1.1 0 2-.9 2-2V5c0-1.1-.9-2-2-2zM9 17H7v-7h2v7zm4 0h-2V7h2v10zm4 0h-2v-4h2v4z\"/>\n",
              "    </g>\n",
              "</svg>\n",
              "  </button>\n",
              "\n",
              "<style>\n",
              "  .colab-df-quickchart {\n",
              "      --bg-color: #E8F0FE;\n",
              "      --fill-color: #1967D2;\n",
              "      --hover-bg-color: #E2EBFA;\n",
              "      --hover-fill-color: #174EA6;\n",
              "      --disabled-fill-color: #AAA;\n",
              "      --disabled-bg-color: #DDD;\n",
              "  }\n",
              "\n",
              "  [theme=dark] .colab-df-quickchart {\n",
              "      --bg-color: #3B4455;\n",
              "      --fill-color: #D2E3FC;\n",
              "      --hover-bg-color: #434B5C;\n",
              "      --hover-fill-color: #FFFFFF;\n",
              "      --disabled-bg-color: #3B4455;\n",
              "      --disabled-fill-color: #666;\n",
              "  }\n",
              "\n",
              "  .colab-df-quickchart {\n",
              "    background-color: var(--bg-color);\n",
              "    border: none;\n",
              "    border-radius: 50%;\n",
              "    cursor: pointer;\n",
              "    display: none;\n",
              "    fill: var(--fill-color);\n",
              "    height: 32px;\n",
              "    padding: 0;\n",
              "    width: 32px;\n",
              "  }\n",
              "\n",
              "  .colab-df-quickchart:hover {\n",
              "    background-color: var(--hover-bg-color);\n",
              "    box-shadow: 0 1px 2px rgba(60, 64, 67, 0.3), 0 1px 3px 1px rgba(60, 64, 67, 0.15);\n",
              "    fill: var(--button-hover-fill-color);\n",
              "  }\n",
              "\n",
              "  .colab-df-quickchart-complete:disabled,\n",
              "  .colab-df-quickchart-complete:disabled:hover {\n",
              "    background-color: var(--disabled-bg-color);\n",
              "    fill: var(--disabled-fill-color);\n",
              "    box-shadow: none;\n",
              "  }\n",
              "\n",
              "  .colab-df-spinner {\n",
              "    border: 2px solid var(--fill-color);\n",
              "    border-color: transparent;\n",
              "    border-bottom-color: var(--fill-color);\n",
              "    animation:\n",
              "      spin 1s steps(1) infinite;\n",
              "  }\n",
              "\n",
              "  @keyframes spin {\n",
              "    0% {\n",
              "      border-color: transparent;\n",
              "      border-bottom-color: var(--fill-color);\n",
              "      border-left-color: var(--fill-color);\n",
              "    }\n",
              "    20% {\n",
              "      border-color: transparent;\n",
              "      border-left-color: var(--fill-color);\n",
              "      border-top-color: var(--fill-color);\n",
              "    }\n",
              "    30% {\n",
              "      border-color: transparent;\n",
              "      border-left-color: var(--fill-color);\n",
              "      border-top-color: var(--fill-color);\n",
              "      border-right-color: var(--fill-color);\n",
              "    }\n",
              "    40% {\n",
              "      border-color: transparent;\n",
              "      border-right-color: var(--fill-color);\n",
              "      border-top-color: var(--fill-color);\n",
              "    }\n",
              "    60% {\n",
              "      border-color: transparent;\n",
              "      border-right-color: var(--fill-color);\n",
              "    }\n",
              "    80% {\n",
              "      border-color: transparent;\n",
              "      border-right-color: var(--fill-color);\n",
              "      border-bottom-color: var(--fill-color);\n",
              "    }\n",
              "    90% {\n",
              "      border-color: transparent;\n",
              "      border-bottom-color: var(--fill-color);\n",
              "    }\n",
              "  }\n",
              "</style>\n",
              "\n",
              "  <script>\n",
              "    async function quickchart(key) {\n",
              "      const quickchartButtonEl =\n",
              "        document.querySelector('#' + key + ' button');\n",
              "      quickchartButtonEl.disabled = true;  // To prevent multiple clicks.\n",
              "      quickchartButtonEl.classList.add('colab-df-spinner');\n",
              "      try {\n",
              "        const charts = await google.colab.kernel.invokeFunction(\n",
              "            'suggestCharts', [key], {});\n",
              "      } catch (error) {\n",
              "        console.error('Error during call to suggestCharts:', error);\n",
              "      }\n",
              "      quickchartButtonEl.classList.remove('colab-df-spinner');\n",
              "      quickchartButtonEl.classList.add('colab-df-quickchart-complete');\n",
              "    }\n",
              "    (() => {\n",
              "      let quickchartButtonEl =\n",
              "        document.querySelector('#df-0d94309a-f7f2-42e4-af88-ab738896bc99 button');\n",
              "      quickchartButtonEl.style.display =\n",
              "        google.colab.kernel.accessAllowed ? 'block' : 'none';\n",
              "    })();\n",
              "  </script>\n",
              "</div>\n",
              "    </div>\n",
              "  </div>\n"
            ]
          },
          "metadata": {},
          "execution_count": 4
        }
      ]
    },
    {
      "cell_type": "code",
      "source": [
        "# kích thước dữ liệu\n",
        "\n",
        "data.shape"
      ],
      "metadata": {
        "colab": {
          "base_uri": "https://localhost:8080/"
        },
        "id": "a0fzsisGYXPY",
        "outputId": "af5a3800-c9bf-405b-bac6-65f9295a10d3"
      },
      "execution_count": 5,
      "outputs": [
        {
          "output_type": "execute_result",
          "data": {
            "text/plain": [
              "(145751, 75)"
            ]
          },
          "metadata": {},
          "execution_count": 5
        }
      ]
    },
    {
      "cell_type": "code",
      "source": [
        "# mục tiêu không cân bằng\n",
        "\n",
        "data.target.value_counts() / len(data)"
      ],
      "metadata": {
        "colab": {
          "base_uri": "https://localhost:8080/"
        },
        "id": "dMVsCmZ7Ycz_",
        "outputId": "2dc100f5-03e1-43f8-e7c8-dc7041d2bc84"
      },
      "execution_count": 6,
      "outputs": [
        {
          "output_type": "execute_result",
          "data": {
            "text/plain": [
              "0    0.991108\n",
              "1    0.008892\n",
              "Name: target, dtype: float64"
            ]
          },
          "metadata": {},
          "execution_count": 6
        }
      ]
    },
    {
      "cell_type": "code",
      "source": [
        "# tách thành tập huấn luyện và tập kiểm tra\n",
        "\n",
        "X_train, X_test, y_train, y_test = train_test_split(\n",
        "    data.drop(labels = ['target'], axis = 1),\n",
        "    data['target'],\n",
        "    test_size = 0.3,\n",
        "    random_state = 0\n",
        ")\n",
        "\n",
        "X_train.shape, X_test.shape"
      ],
      "metadata": {
        "colab": {
          "base_uri": "https://localhost:8080/"
        },
        "id": "IZzi2Ur-Yjoq",
        "outputId": "068684cf-3e76-446b-a2f4-7bb90ebf9984"
      },
      "execution_count": 7,
      "outputs": [
        {
          "output_type": "execute_result",
          "data": {
            "text/plain": [
              "((102025, 74), (43726, 74))"
            ]
          },
          "metadata": {},
          "execution_count": 7
        }
      ]
    },
    {
      "cell_type": "markdown",
      "source": [
        "## Baseline: dự đoán lớp đa số"
      ],
      "metadata": {
        "id": "k3o585UEaB13"
      }
    },
    {
      "cell_type": "code",
      "source": [
        "# Dự đoán cơ sở: dự đoán lớp đa số\n",
        "\n",
        "y_train_base = pd.Series(np.zeros(len(y_train)))\n",
        "y_test_base = pd.Series(np.zeros(len(y_test)))\n",
        "# hàm zeros tạo ra mảng toàn 0"
      ],
      "metadata": {
        "id": "NEjiCLNfZ3B5"
      },
      "execution_count": 8,
      "outputs": []
    },
    {
      "cell_type": "markdown",
      "source": [
        "## Huấn luyện mô hình học máy"
      ],
      "metadata": {
        "id": "ea5In3VdanYI"
      }
    },
    {
      "cell_type": "markdown",
      "source": [
        "### Random Forest"
      ],
      "metadata": {
        "id": "mkBeSrQNaoL4"
      }
    },
    {
      "cell_type": "code",
      "source": [
        "rf = RandomForestClassifier(n_estimators=100, random_state=39, max_depth=2, n_jobs=4)\n",
        "# khởi tạo mô hình RandomForestClassifier\n",
        "# n_estimators : số cây quyết định tạo ra trong mô hình\n",
        "#\n",
        "\n",
        "rf.fit(X_train, y_train)\n",
        "\n",
        "\n",
        "y_train_rf = rf.predict_proba(X_train)[:,1]\n",
        "y_test_rf = rf.predict_proba(X_test)[:,1]"
      ],
      "metadata": {
        "id": "K8FuhJlTarwn"
      },
      "execution_count": 9,
      "outputs": []
    },
    {
      "cell_type": "markdown",
      "source": [
        "### Hồi quy Logistic"
      ],
      "metadata": {
        "id": "9H1SDxa3dOXg"
      }
    },
    {
      "cell_type": "code",
      "source": [
        "logit = LogisticRegression(random_state=0,  max_iter=1000)\n",
        "\n",
        "logit.fit(X_train, y_train)\n",
        "\n",
        "\n",
        "y_train_logit = logit.predict_proba(X_train)[:,1]\n",
        "y_test_logit = logit.predict_proba(X_test)[:,1]"
      ],
      "metadata": {
        "id": "xxKmOi0odPjd"
      },
      "execution_count": 10,
      "outputs": []
    },
    {
      "cell_type": "markdown",
      "source": [
        "## Độ chính xác"
      ],
      "metadata": {
        "id": "B098VjYndfDa"
      }
    },
    {
      "cell_type": "code",
      "source": [
        "print('Accuracy Baseline test: ', accuracy_score(y_test, y_test_base))\n",
        "print('Accuracy Random Forest test:', accuracy_score(y_test, rf.predict(X_test)))\n",
        "print('Accuracy Logistic Regression test:', accuracy_score(y_test, logit.predict(X_test)))"
      ],
      "metadata": {
        "colab": {
          "base_uri": "https://localhost:8080/"
        },
        "id": "7Bd9ozXddhh5",
        "outputId": "3a76b45f-10cd-4d12-b599-de4d2ba1eda6"
      },
      "execution_count": 11,
      "outputs": [
        {
          "output_type": "stream",
          "name": "stdout",
          "text": [
            "Accuracy Baseline test:  0.9907377761514888\n",
            "Accuracy Random Forest test: 0.9962951104605955\n",
            "Accuracy Logistic Regression test: 0.9969354617390112\n"
          ]
        }
      ]
    },
    {
      "cell_type": "markdown",
      "source": [
        "- nhận xét: Mô hình học máy có chất lượng tốt hơn baseline một chút"
      ],
      "metadata": {
        "id": "v7mQb_8pd_S4"
      }
    },
    {
      "cell_type": "markdown",
      "source": [
        "## Phần trăm nhóm thiểu số được phân loại đúng"
      ],
      "metadata": {
        "id": "E6BKWk0weK_f"
      }
    },
    {
      "cell_type": "code",
      "source": [
        "def return_minority_perc(y_true, y_pred):\n",
        "    minority_total = np.sum(y_true)\n",
        "    minority_correct = np.sum(np.where((y_true==1)&(y_pred==1),1,0))\n",
        "    return minority_correct / minority_total *100"
      ],
      "metadata": {
        "id": "Kv-H5SGWeNrl"
      },
      "execution_count": 12,
      "outputs": []
    },
    {
      "cell_type": "code",
      "source": [
        "print('% minority correctly classified, Baseline test: ', return_minority_perc(y_test, y_test_base))\n",
        "print('% minority correctly classified, Random Forest test:', return_minority_perc(y_test, rf.predict(X_test)))\n",
        "print('% minority correctly classified, Regression test:', return_minority_perc(y_test, logit.predict(X_test)))"
      ],
      "metadata": {
        "colab": {
          "base_uri": "https://localhost:8080/"
        },
        "id": "5vBLt5i7eUVX",
        "outputId": "e6cf2cc2-3f3f-466c-c9c7-ea28bf62a935"
      },
      "execution_count": 13,
      "outputs": [
        {
          "output_type": "stream",
          "name": "stdout",
          "text": [
            "% minority correctly classified, Baseline test:  0.0\n",
            "% minority correctly classified, Random Forest test: 60.24691358024692\n",
            "% minority correctly classified, Regression test: 71.11111111111111\n"
          ]
        }
      ]
    },
    {
      "cell_type": "markdown",
      "source": [
        "- nhận xét: baseline không phân loại đúng bất kì quan sát nào của lớp thiểu số"
      ],
      "metadata": {
        "id": "tS70t9apeqKZ"
      }
    },
    {
      "cell_type": "markdown",
      "source": [
        "# Precision, Recall, F-measure, Support\n",
        "\n",
        "- **Precision** = tp / (tp + fp)\n",
        "\n",
        "- **Recall** = tp / (tp + fn)\n",
        "\n",
        "- **F1** = 2 * (precision * recall) / (precision + recall)\n",
        "\n",
        "- **Support** = Số trường hợp ở mỗi lớp\n",
        "\n",
        "\n",
        "Precision, Recall và F-measure phụ thuộc vào ngưỡng xác suất được sử dụng để xác định kết quả phân lớp."
      ],
      "metadata": {
        "id": "_8u6txawe2SY"
      }
    },
    {
      "cell_type": "code",
      "source": [
        "from sklearn.metrics import (\n",
        "    precision_score,\n",
        "    recall_score,\n",
        "    f1_score,\n",
        "    precision_recall_fscore_support,\n",
        ")\n",
        "\n",
        "from yellowbrick.classifier import (\n",
        "    ClassificationReport,\n",
        "    DiscriminationThreshold,\n",
        ")"
      ],
      "metadata": {
        "id": "HW_3YffDe3jU"
      },
      "execution_count": 14,
      "outputs": []
    },
    {
      "cell_type": "markdown",
      "source": [
        "## Precision\n",
        "- số lần dự đoán true đúng trên tổng dự đoán true"
      ],
      "metadata": {
        "id": "WTAHymJqe9q6"
      }
    },
    {
      "cell_type": "code",
      "source": [
        "print('Precision Baseline test: ', precision_score(y_test, y_test_base))\n",
        "print('Precision Random Forest test:', precision_score(y_test, rf.predict(X_test)))\n",
        "print('Precision Logistic Regression test:', precision_score(y_test, logit.predict(X_test)))"
      ],
      "metadata": {
        "colab": {
          "base_uri": "https://localhost:8080/"
        },
        "id": "lbcBmBLZe-64",
        "outputId": "206a4175-a7c3-4d75-fdcc-0c20126a1431"
      },
      "execution_count": 15,
      "outputs": [
        {
          "output_type": "stream",
          "name": "stdout",
          "text": [
            "Precision Baseline test:  0.0\n",
            "Precision Random Forest test: 0.9959183673469387\n",
            "Precision Logistic Regression test: 0.9442622950819672\n"
          ]
        }
      ]
    },
    {
      "cell_type": "markdown",
      "source": [
        "- Nhận xét:  precision của rf cao hơn precision của lr"
      ],
      "metadata": {
        "id": "D6FPF3LJf4yA"
      }
    },
    {
      "cell_type": "markdown",
      "source": [
        "## Recall"
      ],
      "metadata": {
        "id": "kfc3-lk4gTvY"
      }
    },
    {
      "cell_type": "code",
      "source": [
        "print('Recall Baseline test: ', recall_score(y_test, y_test_base, pos_label=1))\n",
        "print('Recall Random Forest test:', recall_score(y_test, rf.predict(X_test), pos_label=1))\n",
        "print('Recall Logistic Regression test:', recall_score(y_test, logit.predict(X_test), pos_label=1))"
      ],
      "metadata": {
        "colab": {
          "base_uri": "https://localhost:8080/"
        },
        "id": "HFQDuZhPgV7l",
        "outputId": "86cc3a70-e7c0-4865-82c8-72071bfb8b19"
      },
      "execution_count": 16,
      "outputs": [
        {
          "output_type": "stream",
          "name": "stdout",
          "text": [
            "Recall Baseline test:  0.0\n",
            "Recall Random Forest test: 0.6024691358024692\n",
            "Recall Logistic Regression test: 0.7111111111111111\n"
          ]
        }
      ]
    },
    {
      "cell_type": "markdown",
      "source": [
        "- recall baseline vẫn bằng 0\n",
        "- recall tỉ lệ nghịch với precision"
      ],
      "metadata": {
        "id": "VQ2oUV8sgimA"
      }
    },
    {
      "cell_type": "markdown",
      "source": [
        "## F-measure/chỉ số F1"
      ],
      "metadata": {
        "id": "l7g0--Evg9ZL"
      }
    },
    {
      "cell_type": "code",
      "source": [
        "print('F-measure Baseline test: ', f1_score(y_test, y_test_base, pos_label=1))\n",
        "print('F-measure Random Forest test:', f1_score(y_test, rf.predict(X_test), pos_label=1))\n",
        "print('F-measure Logistic Regression test:', f1_score(y_test, logit.predict(X_test), pos_label=1))"
      ],
      "metadata": {
        "colab": {
          "base_uri": "https://localhost:8080/"
        },
        "id": "_EFUooLYg_TC",
        "outputId": "7088a47f-396f-48ac-dabd-cf0cf5ecd173"
      },
      "execution_count": 17,
      "outputs": [
        {
          "output_type": "stream",
          "name": "stdout",
          "text": [
            "F-measure Baseline test:  0.0\n",
            "F-measure Random Forest test: 0.7507692307692309\n",
            "F-measure Logistic Regression test: 0.8112676056338028\n"
          ]
        }
      ]
    },
    {
      "cell_type": "markdown",
      "source": [
        "- chỉ số f1 của rf lớn hơn lr"
      ],
      "metadata": {
        "id": "GZxIlmb_hTAB"
      }
    },
    {
      "cell_type": "markdown",
      "source": [
        "## Tất cả phép đo - 1 hàm\n",
        "\n",
        "Chúng ta có thể dùng toàn bộ phép đo cho lớp đa số và thiểu số cùng một lúc với hàm:\n",
        "\n",
        "- [precision_recall_fscore_support](https://scikit-learn.org/stable/modules/generated/sklearn.metrics.precision_recall_fscore_support.html)"
      ],
      "metadata": {
        "id": "Udkca0OfhPuJ"
      }
    },
    {
      "cell_type": "code",
      "source": [
        "precision, recall, fscore, support = precision_recall_fscore_support(\n",
        "    y_test, rf.predict(X_test), pos_label=1,\n",
        ")\n",
        "\n",
        "print('Random Forests Precision: ', precision)\n",
        "print('Random Forests Recall: ', recall)\n",
        "print('Random Forests f-score: ', fscore)\n",
        "print('Support: ', support)"
      ],
      "metadata": {
        "colab": {
          "base_uri": "https://localhost:8080/"
        },
        "id": "GUZrTdOShdHg",
        "outputId": "0069872f-8940-4cc8-f0d1-41615f425186"
      },
      "execution_count": 18,
      "outputs": [
        {
          "output_type": "stream",
          "name": "stdout",
          "text": [
            "Random Forests Precision:  [0.99629723 0.99591837]\n",
            "Random Forests Recall:  [0.99997692 0.60246914]\n",
            "Random Forests f-score:  [0.99813368 0.75076923]\n",
            "Support:  [43321   405]\n"
          ]
        }
      ]
    },
    {
      "cell_type": "markdown",
      "source": [
        "Phần tử đầu tiên trong danh sách tương ứng với phép đo cho lớp đa số, phần tử thứ hai tương ứng với phép đo cho lớp thiểu số (chúng trùng với các giá trị có được khi tính toán từng phép đo riêng lẻ).\n",
        "\n",
        "Chúng ta cũng thấy chúng khớp với các giá trị thu được với Yellowbrick bên dưới:"
      ],
      "metadata": {
        "id": "bY5Vtawrhp2Q"
      }
    },
    {
      "cell_type": "markdown",
      "source": [
        "## Báo cáo phân loại đầy đủ\n",
        "\n",
        "https://www.scikit-yb.org/en/latest/api/classifier/classification_report.html"
      ],
      "metadata": {
        "id": "VuMJrq8KhqYJ"
      }
    },
    {
      "cell_type": "code",
      "source": [
        "visualizer = ClassificationReport(rf)\n",
        "\n",
        "visualizer.fit(X_train, y_train)        # Khớp visualizer và mô hình\n",
        "visualizer.score(X_test, y_test)        # Đánh giá mô hình trên dữ liệu kiểm tra\n",
        "visualizer.show()                       # Hoàn thành và hiển thị kết quả"
      ],
      "metadata": {
        "colab": {
          "base_uri": "https://localhost:8080/",
          "height": 568
        },
        "id": "nlSMLIPjhtIB",
        "outputId": "184b4e77-bf82-49bc-f8b2-b07cf7c94c0c"
      },
      "execution_count": 19,
      "outputs": [
        {
          "output_type": "display_data",
          "data": {
            "text/plain": [
              "<Figure size 800x550 with 2 Axes>"
            ],
            "image/png": "[encoded data removed]"
          },
          "metadata": {}
        },
        {
          "output_type": "execute_result",
          "data": {
            "text/plain": [
              "<Axes: title={'center': 'RandomForestClassifier Classification Report'}>"
            ]
          },
          "metadata": {},
          "execution_count": 19
        }
      ]
    },
    {
      "cell_type": "code",
      "source": [
        "visualizer = ClassificationReport(logit)\n",
        "\n",
        "visualizer.fit(X_train, y_train)        # Khớp visualizer và mô hình\n",
        "visualizer.score(X_test, y_test)        # Đánh giá mô hình trên dữ liệu kiểm tra\n",
        "visualizer.show()"
      ],
      "metadata": {
        "colab": {
          "base_uri": "https://localhost:8080/",
          "height": 568
        },
        "id": "aDtLV1B7iJIw",
        "outputId": "86dcba90-36e3-4b86-8180-4af0dc97e04e"
      },
      "execution_count": 20,
      "outputs": [
        {
          "output_type": "display_data",
          "data": {
            "text/plain": [
              "<Figure size 800x550 with 2 Axes>"
            ],
            "image/png": "[encoded data removed]"
          },
          "metadata": {}
        },
        {
          "output_type": "execute_result",
          "data": {
            "text/plain": [
              "<Axes: title={'center': 'LogisticRegression Classification Report'}>"
            ]
          },
          "metadata": {},
          "execution_count": 20
        }
      ]
    },
    {
      "cell_type": "markdown",
      "source": [
        "## Precision và Recall với ngưỡng xác suất"
      ],
      "metadata": {
        "id": "8irsdYSliyDu"
      }
    },
    {
      "cell_type": "code",
      "source": [
        "visualizer = DiscriminationThreshold(logit,\n",
        "                                     n_trials=1,\n",
        "                                     cv=0.5,\n",
        "                                     argmax='fscore',\n",
        "                                     random_state=0,\n",
        "                                     is_fitted='auto',\n",
        "                                     exclude = \"queue_rate\")\n",
        "\n",
        "visualizer.fit(X_train, y_train)        # Khớp visualizer và mô hình\n",
        "visualizer.score(X_test, y_test)        # Đánh giá mô hình trên dữ liệu kiểm tra\n",
        "visualizer.show()"
      ],
      "metadata": {
        "colab": {
          "base_uri": "https://localhost:8080/",
          "height": 541
        },
        "id": "Xt6K1JlDizbh",
        "outputId": "f9376c0d-ad95-497a-c784-64f15e839698"
      },
      "execution_count": 21,
      "outputs": [
        {
          "output_type": "display_data",
          "data": {
            "text/plain": [
              "<Figure size 800x550 with 1 Axes>"
            ],
            "image/png": "[encoded data removed]"
          },
          "metadata": {}
        },
        {
          "output_type": "execute_result",
          "data": {
            "text/plain": [
              "<Axes: title={'center': 'Threshold Plot for LogisticRegression'}, xlabel='discrimination threshold', ylabel='score'>"
            ]
          },
          "metadata": {},
          "execution_count": 21
        }
      ]
    },
    {
      "cell_type": "markdown",
      "source": [
        "# Ma trận nhầm lẫn, false positive rate (FPR) và false negative rate (FNR)\n",
        "\n",
        "- **FPR** = fp / (tn + fp)\n",
        "\n",
        "- **FNR** = fn / (tp + fn)\n",
        "\n",
        "\n",
        "Ma trận nhầm lẫn, FPR và FNR phụ thuộc vào ngưỡng xác suất được sử dụng để xác đinh kết quả phân lớp."
      ],
      "metadata": {
        "id": "qE0iE-wljECr"
      }
    },
    {
      "cell_type": "code",
      "source": [
        "from sklearn.metrics import confusion_matrix"
      ],
      "metadata": {
        "id": "aXkHuAMqjGY8"
      },
      "execution_count": 22,
      "outputs": []
    },
    {
      "cell_type": "markdown",
      "source": [
        "## Ma trận nhầm lẫn\n",
        "\n",
        "https://scikit-learn.org/stable/modules/generated/sklearn.metrics.confusion_matrix.html\n",
        "\n",
        "TN | FP\n",
        "\n",
        "FN | TP"
      ],
      "metadata": {
        "id": "3uj3gujDjRiJ"
      }
    },
    {
      "cell_type": "markdown",
      "source": [
        "### Baseline"
      ],
      "metadata": {
        "id": "fk5QdUsbjTvj"
      }
    },
    {
      "cell_type": "code",
      "source": [
        "confusion_matrix(y_test, y_test_base, labels=[0,1])"
      ],
      "metadata": {
        "colab": {
          "base_uri": "https://localhost:8080/"
        },
        "id": "3R7aiJ-CjTMS",
        "outputId": "e0720814-9249-4efd-d7de-4e93a532adb2"
      },
      "execution_count": 23,
      "outputs": [
        {
          "output_type": "execute_result",
          "data": {
            "text/plain": [
              "array([[43321,     0],\n",
              "       [  405,     0]])"
            ]
          },
          "metadata": {},
          "execution_count": 23
        }
      ]
    },
    {
      "cell_type": "markdown",
      "source": [
        "### Random Forest"
      ],
      "metadata": {
        "id": "m5f8JOOFj1Rx"
      }
    },
    {
      "cell_type": "code",
      "source": [
        "confusion_matrix(y_test, rf.predict(X_test), labels=[0,1])"
      ],
      "metadata": {
        "colab": {
          "base_uri": "https://localhost:8080/"
        },
        "id": "AKWvQ2STj4Ly",
        "outputId": "448f141f-e719-4f5b-87d0-65c0669e2a42"
      },
      "execution_count": 24,
      "outputs": [
        {
          "output_type": "execute_result",
          "data": {
            "text/plain": [
              "array([[43320,     1],\n",
              "       [  161,   244]])"
            ]
          },
          "metadata": {},
          "execution_count": 24
        }
      ]
    },
    {
      "cell_type": "markdown",
      "source": [
        "### Hồi quy Logistic"
      ],
      "metadata": {
        "id": "8JL87pAnkCN5"
      }
    },
    {
      "cell_type": "code",
      "source": [
        "confusion_matrix(y_test, logit.predict(X_test), labels=[0,1])"
      ],
      "metadata": {
        "colab": {
          "base_uri": "https://localhost:8080/"
        },
        "id": "kDYUZKlMkE3p",
        "outputId": "160c3781-28ab-4153-806f-0910143d267b"
      },
      "execution_count": 25,
      "outputs": [
        {
          "output_type": "execute_result",
          "data": {
            "text/plain": [
              "array([[43304,    17],\n",
              "       [  117,   288]])"
            ]
          },
          "metadata": {},
          "execution_count": 25
        }
      ]
    },
    {
      "cell_type": "markdown",
      "source": [
        "## FPR và FNR"
      ],
      "metadata": {
        "id": "HuLfEaXlkLE4"
      }
    },
    {
      "cell_type": "markdown",
      "source": [
        "- **FPR** = fp / (tn + fp)\n",
        "\n",
        "- **FNR** = fn / (tp + fn)"
      ],
      "metadata": {
        "id": "bV2p8aCPkd0T"
      }
    },
    {
      "cell_type": "code",
      "source": [
        "tn, fp, fn, tp = confusion_matrix(y_test, y_test_base, labels=[0,1]).ravel()\n",
        "\n",
        "FPR = fp / (tn + fp)\n",
        "\n",
        "FNR = fn / (tp + fn)\n",
        "\n",
        "print('False Positive Rate, baseline: ', FPR)\n",
        "print('False Negative Rate, baseline: ', FNR)"
      ],
      "metadata": {
        "colab": {
          "base_uri": "https://localhost:8080/"
        },
        "id": "_dCMGmvmkMpr",
        "outputId": "fb1c5017-7b08-46b8-b184-65218aa5d7e6"
      },
      "execution_count": 26,
      "outputs": [
        {
          "output_type": "stream",
          "name": "stdout",
          "text": [
            "False Positive Rate, baseline:  0.0\n",
            "False Negative Rate, baseline:  1.0\n"
          ]
        }
      ]
    },
    {
      "cell_type": "code",
      "source": [
        "tn, fp, fn, tp = confusion_matrix(y_test, logit.predict(X_test), labels=[0,1]).ravel()\n",
        "\n",
        "FPR = fp / (tn + fp)\n",
        "\n",
        "FNR = fn / (tp + fn)\n",
        "\n",
        "print('False Positive Rate, Logistic Regression: ', FPR)\n",
        "print('False Negative Rate, Logistic Regression: ', FNR)"
      ],
      "metadata": {
        "colab": {
          "base_uri": "https://localhost:8080/"
        },
        "id": "kspHO_cdkydq",
        "outputId": "6670175b-17b8-4fd6-87fc-86987a98baeb"
      },
      "execution_count": 27,
      "outputs": [
        {
          "output_type": "stream",
          "name": "stdout",
          "text": [
            "False Positive Rate, Logistic Regression:  0.0003924193809007179\n",
            "False Negative Rate, Logistic Regression:  0.28888888888888886\n"
          ]
        }
      ]
    },
    {
      "cell_type": "markdown",
      "source": [
        "## FPR và FNR với ngưỡng xác suất"
      ],
      "metadata": {
        "id": "93MI1U2Kk-hC"
      }
    },
    {
      "cell_type": "code",
      "source": [
        "thresholds = np.linspace(0, 1, 100)\n",
        "\n",
        "thresholds"
      ],
      "metadata": {
        "colab": {
          "base_uri": "https://localhost:8080/"
        },
        "id": "k667QVJbk_kK",
        "outputId": "669e5a1b-60d9-4ca5-db79-dc0a7f1d8d98"
      },
      "execution_count": 28,
      "outputs": [
        {
          "output_type": "execute_result",
          "data": {
            "text/plain": [
              "array([0.        , 0.01010101, 0.02020202, 0.03030303, 0.04040404,\n",
              "       0.05050505, 0.06060606, 0.07070707, 0.08080808, 0.09090909,\n",
              "       0.1010101 , 0.11111111, 0.12121212, 0.13131313, 0.14141414,\n",
              "       0.15151515, 0.16161616, 0.17171717, 0.18181818, 0.19191919,\n",
              "       0.2020202 , 0.21212121, 0.22222222, 0.23232323, 0.24242424,\n",
              "       0.25252525, 0.26262626, 0.27272727, 0.28282828, 0.29292929,\n",
              "       0.3030303 , 0.31313131, 0.32323232, 0.33333333, 0.34343434,\n",
              "       0.35353535, 0.36363636, 0.37373737, 0.38383838, 0.39393939,\n",
              "       0.4040404 , 0.41414141, 0.42424242, 0.43434343, 0.44444444,\n",
              "       0.45454545, 0.46464646, 0.47474747, 0.48484848, 0.49494949,\n",
              "       0.50505051, 0.51515152, 0.52525253, 0.53535354, 0.54545455,\n",
              "       0.55555556, 0.56565657, 0.57575758, 0.58585859, 0.5959596 ,\n",
              "       0.60606061, 0.61616162, 0.62626263, 0.63636364, 0.64646465,\n",
              "       0.65656566, 0.66666667, 0.67676768, 0.68686869, 0.6969697 ,\n",
              "       0.70707071, 0.71717172, 0.72727273, 0.73737374, 0.74747475,\n",
              "       0.75757576, 0.76767677, 0.77777778, 0.78787879, 0.7979798 ,\n",
              "       0.80808081, 0.81818182, 0.82828283, 0.83838384, 0.84848485,\n",
              "       0.85858586, 0.86868687, 0.87878788, 0.88888889, 0.8989899 ,\n",
              "       0.90909091, 0.91919192, 0.92929293, 0.93939394, 0.94949495,\n",
              "       0.95959596, 0.96969697, 0.97979798, 0.98989899, 1.        ])"
            ]
          },
          "metadata": {},
          "execution_count": 28
        }
      ]
    },
    {
      "cell_type": "code",
      "source": [
        "fpr_ls = []\n",
        "fnr_ls = []\n",
        "\n",
        "# lấy xác suất\n",
        "probs = logit.predict_proba(X_test)[:,1]\n",
        "\n",
        "for threshold in thresholds:\n",
        "\n",
        "    # lấy dự đoán lớp dựa trên ngưỡng\n",
        "\n",
        "    preds = np.where(probs>=threshold, 1, 0)\n",
        "\n",
        "    # lấy ma trận nhầm lẫn\n",
        "    tn, fp, fn, tp = confusion_matrix(y_test, preds, labels=[0,1]).ravel()\n",
        "\n",
        "    #  lấy FRP và FNR\n",
        "    FPR = fp/(tn + fp)\n",
        "    FNR = fn/(tp + fn)\n",
        "\n",
        "    fpr_ls.append(FPR)\n",
        "    fnr_ls.append(FNR)\n",
        "\n",
        "metrics = pd.concat([\n",
        "    pd.Series(fpr_ls),\n",
        "    pd.Series(fnr_ls)], axis=1)\n",
        "\n",
        "metrics.columns = ['fpr', 'fnr']\n",
        "metrics.index = thresholds\n",
        "\n",
        "metrics.head()"
      ],
      "metadata": {
        "colab": {
          "base_uri": "https://localhost:8080/",
          "height": 206
        },
        "id": "5UZcto0elFDS",
        "outputId": "eeac8717-483f-4c2b-aa45-51d50ec7d63e"
      },
      "execution_count": 29,
      "outputs": [
        {
          "output_type": "execute_result",
          "data": {
            "text/plain": [
              "               fpr       fnr\n",
              "0.000000  1.000000  0.000000\n",
              "0.010101  0.040073  0.064198\n",
              "0.020202  0.020290  0.083951\n",
              "0.030303  0.013204  0.098765\n",
              "0.040404  0.009741  0.125926"
            ],
            "text/html": [
              "\n",
              "  <div id=\"df-491a4a34-03e9-4d6a-84f3-147ffafcbeca\" class=\"colab-df-container\">\n",
              "    <div>\n",
              "<style scoped>\n",
              "    .dataframe tbody tr th:only-of-type {\n",
              "        vertical-align: middle;\n",
              "    }\n",
              "\n",
              "    .dataframe tbody tr th {\n",
              "        vertical-align: top;\n",
              "    }\n",
              "\n",
              "    .dataframe thead th {\n",
              "        text-align: right;\n",
              "    }\n",
              "</style>\n",
              "<table border=\"1\" class=\"dataframe\">\n",
              "  <thead>\n",
              "    <tr style=\"text-align: right;\">\n",
              "      <th></th>\n",
              "      <th>fpr</th>\n",
              "      <th>fnr</th>\n",
              "    </tr>\n",
              "  </thead>\n",
              "  <tbody>\n",
              "    <tr>\n",
              "      <th>0.000000</th>\n",
              "      <td>1.000000</td>\n",
              "      <td>0.000000</td>\n",
              "    </tr>\n",
              "    <tr>\n",
              "      <th>0.010101</th>\n",
              "      <td>0.040073</td>\n",
              "      <td>0.064198</td>\n",
              "    </tr>\n",
              "    <tr>\n",
              "      <th>0.020202</th>\n",
              "      <td>0.020290</td>\n",
              "      <td>0.083951</td>\n",
              "    </tr>\n",
              "    <tr>\n",
              "      <th>0.030303</th>\n",
              "      <td>0.013204</td>\n",
              "      <td>0.098765</td>\n",
              "    </tr>\n",
              "    <tr>\n",
              "      <th>0.040404</th>\n",
              "      <td>0.009741</td>\n",
              "      <td>0.125926</td>\n",
              "    </tr>\n",
              "  </tbody>\n",
              "</table>\n",
              "</div>\n",
              "    <div class=\"colab-df-buttons\">\n",
              "\n",
              "  <div class=\"colab-df-container\">\n",
              "    <button class=\"colab-df-convert\" onclick=\"convertToInteractive('df-491a4a34-03e9-4d6a-84f3-147ffafcbeca')\"\n",
              "            title=\"Convert this dataframe to an interactive table.\"\n",
              "            style=\"display:none;\">\n",
              "\n",
              "  <svg xmlns=\"http://www.w3.org/2000/svg\" height=\"24px\" viewBox=\"0 -960 960 960\">\n",
              "    <path d=\"M120-120v-720h720v720H120Zm60-500h600v-160H180v160Zm220 220h160v-160H400v160Zm0 220h160v-160H400v160ZM180-400h160v-160H180v160Zm440 0h160v-160H620v160ZM180-180h160v-160H180v160Zm440 0h160v-160H620v160Z\"/>\n",
              "  </svg>\n",
              "    </button>\n",
              "\n",
              "  <style>\n",
              "    .colab-df-container {\n",
              "      display:flex;\n",
              "      gap: 12px;\n",
              "    }\n",
              "\n",
              "    .colab-df-convert {\n",
              "      background-color: #E8F0FE;\n",
              "      border: none;\n",
              "      border-radius: 50%;\n",
              "      cursor: pointer;\n",
              "      display: none;\n",
              "      fill: #1967D2;\n",
              "      height: 32px;\n",
              "      padding: 0 0 0 0;\n",
              "      width: 32px;\n",
              "    }\n",
              "\n",
              "    .colab-df-convert:hover {\n",
              "      background-color: #E2EBFA;\n",
              "      box-shadow: 0px 1px 2px rgba(60, 64, 67, 0.3), 0px 1px 3px 1px rgba(60, 64, 67, 0.15);\n",
              "      fill: #174EA6;\n",
              "    }\n",
              "\n",
              "    .colab-df-buttons div {\n",
              "      margin-bottom: 4px;\n",
              "    }\n",
              "\n",
              "    [theme=dark] .colab-df-convert {\n",
              "      background-color: #3B4455;\n",
              "      fill: #D2E3FC;\n",
              "    }\n",
              "\n",
              "    [theme=dark] .colab-df-convert:hover {\n",
              "      background-color: #434B5C;\n",
              "      box-shadow: 0px 1px 3px 1px rgba(0, 0, 0, 0.15);\n",
              "      filter: drop-shadow(0px 1px 2px rgba(0, 0, 0, 0.3));\n",
              "      fill: #FFFFFF;\n",
              "    }\n",
              "  </style>\n",
              "\n",
              "    <script>\n",
              "      const buttonEl =\n",
              "        document.querySelector('#df-491a4a34-03e9-4d6a-84f3-147ffafcbeca button.colab-df-convert');\n",
              "      buttonEl.style.display =\n",
              "        google.colab.kernel.accessAllowed ? 'block' : 'none';\n",
              "\n",
              "      async function convertToInteractive(key) {\n",
              "        const element = document.querySelector('#df-491a4a34-03e9-4d6a-84f3-147ffafcbeca');\n",
              "        const dataTable =\n",
              "          await google.colab.kernel.invokeFunction('convertToInteractive',\n",
              "                                                    [key], {});\n",
              "        if (!dataTable) return;\n",
              "\n",
              "        const docLinkHtml = 'Like what you see? Visit the ' +\n",
              "          '<a target=\"_blank\" href=https://colab.research.google.com/notebooks/data_table.ipynb>data table notebook</a>'\n",
              "          + ' to learn more about interactive tables.';\n",
              "        element.innerHTML = '';\n",
              "        dataTable['output_type'] = 'display_data';\n",
              "        await google.colab.output.renderOutput(dataTable, element);\n",
              "        const docLink = document.createElement('div');\n",
              "        docLink.innerHTML = docLinkHtml;\n",
              "        element.appendChild(docLink);\n",
              "      }\n",
              "    </script>\n",
              "  </div>\n",
              "\n",
              "\n",
              "<div id=\"df-1751022b-f8b6-49e9-ab5a-346a74db5c8a\">\n",
              "  <button class=\"colab-df-quickchart\" onclick=\"quickchart('df-1751022b-f8b6-49e9-ab5a-346a74db5c8a')\"\n",
              "            title=\"Suggest charts.\"\n",
              "            style=\"display:none;\">\n",
              "\n",
              "<svg xmlns=\"http://www.w3.org/2000/svg\" height=\"24px\"viewBox=\"0 0 24 24\"\n",
              "     width=\"24px\">\n",
              "    <g>\n",
              "        <path d=\"M19 3H5c-1.1 0-2 .9-2 2v14c0 1.1.9 2 2 2h14c1.1 0 2-.9 2-2V5c0-1.1-.9-2-2-2zM9 17H7v-7h2v7zm4 0h-2V7h2v10zm4 0h-2v-4h2v4z\"/>\n",
              "    </g>\n",
              "</svg>\n",
              "  </button>\n",
              "\n",
              "<style>\n",
              "  .colab-df-quickchart {\n",
              "      --bg-color: #E8F0FE;\n",
              "      --fill-color: #1967D2;\n",
              "      --hover-bg-color: #E2EBFA;\n",
              "      --hover-fill-color: #174EA6;\n",
              "      --disabled-fill-color: #AAA;\n",
              "      --disabled-bg-color: #DDD;\n",
              "  }\n",
              "\n",
              "  [theme=dark] .colab-df-quickchart {\n",
              "      --bg-color: #3B4455;\n",
              "      --fill-color: #D2E3FC;\n",
              "      --hover-bg-color: #434B5C;\n",
              "      --hover-fill-color: #FFFFFF;\n",
              "      --disabled-bg-color: #3B4455;\n",
              "      --disabled-fill-color: #666;\n",
              "  }\n",
              "\n",
              "  .colab-df-quickchart {\n",
              "    background-color: var(--bg-color);\n",
              "    border: none;\n",
              "    border-radius: 50%;\n",
              "    cursor: pointer;\n",
              "    display: none;\n",
              "    fill: var(--fill-color);\n",
              "    height: 32px;\n",
              "    padding: 0;\n",
              "    width: 32px;\n",
              "  }\n",
              "\n",
              "  .colab-df-quickchart:hover {\n",
              "    background-color: var(--hover-bg-color);\n",
              "    box-shadow: 0 1px 2px rgba(60, 64, 67, 0.3), 0 1px 3px 1px rgba(60, 64, 67, 0.15);\n",
              "    fill: var(--button-hover-fill-color);\n",
              "  }\n",
              "\n",
              "  .colab-df-quickchart-complete:disabled,\n",
              "  .colab-df-quickchart-complete:disabled:hover {\n",
              "    background-color: var(--disabled-bg-color);\n",
              "    fill: var(--disabled-fill-color);\n",
              "    box-shadow: none;\n",
              "  }\n",
              "\n",
              "  .colab-df-spinner {\n",
              "    border: 2px solid var(--fill-color);\n",
              "    border-color: transparent;\n",
              "    border-bottom-color: var(--fill-color);\n",
              "    animation:\n",
              "      spin 1s steps(1) infinite;\n",
              "  }\n",
              "\n",
              "  @keyframes spin {\n",
              "    0% {\n",
              "      border-color: transparent;\n",
              "      border-bottom-color: var(--fill-color);\n",
              "      border-left-color: var(--fill-color);\n",
              "    }\n",
              "    20% {\n",
              "      border-color: transparent;\n",
              "      border-left-color: var(--fill-color);\n",
              "      border-top-color: var(--fill-color);\n",
              "    }\n",
              "    30% {\n",
              "      border-color: transparent;\n",
              "      border-left-color: var(--fill-color);\n",
              "      border-top-color: var(--fill-color);\n",
              "      border-right-color: var(--fill-color);\n",
              "    }\n",
              "    40% {\n",
              "      border-color: transparent;\n",
              "      border-right-color: var(--fill-color);\n",
              "      border-top-color: var(--fill-color);\n",
              "    }\n",
              "    60% {\n",
              "      border-color: transparent;\n",
              "      border-right-color: var(--fill-color);\n",
              "    }\n",
              "    80% {\n",
              "      border-color: transparent;\n",
              "      border-right-color: var(--fill-color);\n",
              "      border-bottom-color: var(--fill-color);\n",
              "    }\n",
              "    90% {\n",
              "      border-color: transparent;\n",
              "      border-bottom-color: var(--fill-color);\n",
              "    }\n",
              "  }\n",
              "</style>\n",
              "\n",
              "  <script>\n",
              "    async function quickchart(key) {\n",
              "      const quickchartButtonEl =\n",
              "        document.querySelector('#' + key + ' button');\n",
              "      quickchartButtonEl.disabled = true;  // To prevent multiple clicks.\n",
              "      quickchartButtonEl.classList.add('colab-df-spinner');\n",
              "      try {\n",
              "        const charts = await google.colab.kernel.invokeFunction(\n",
              "            'suggestCharts', [key], {});\n",
              "      } catch (error) {\n",
              "        console.error('Error during call to suggestCharts:', error);\n",
              "      }\n",
              "      quickchartButtonEl.classList.remove('colab-df-spinner');\n",
              "      quickchartButtonEl.classList.add('colab-df-quickchart-complete');\n",
              "    }\n",
              "    (() => {\n",
              "      let quickchartButtonEl =\n",
              "        document.querySelector('#df-1751022b-f8b6-49e9-ab5a-346a74db5c8a button');\n",
              "      quickchartButtonEl.style.display =\n",
              "        google.colab.kernel.accessAllowed ? 'block' : 'none';\n",
              "    })();\n",
              "  </script>\n",
              "</div>\n",
              "    </div>\n",
              "  </div>\n"
            ]
          },
          "metadata": {},
          "execution_count": 29
        }
      ]
    },
    {
      "cell_type": "code",
      "source": [
        "metrics.plot()\n",
        "plt.xlabel('Probability Threshold')\n",
        "plt.ylabel('FPR / FNR')\n",
        "plt.title('FPR and FNR vs Discriminant Threshold')"
      ],
      "metadata": {
        "colab": {
          "base_uri": "https://localhost:8080/",
          "height": 541
        },
        "id": "gvdclSbPlmC0",
        "outputId": "5feabd0d-8ace-4d82-98c6-2c4536d965ba"
      },
      "execution_count": 30,
      "outputs": [
        {
          "output_type": "execute_result",
          "data": {
            "text/plain": [
              "Text(0.5, 1.0, 'FPR and FNR vs Discriminant Threshold')"
            ]
          },
          "metadata": {},
          "execution_count": 30
        },
        {
          "output_type": "display_data",
          "data": {
            "text/plain": [
              "<Figure size 800x550 with 1 Axes>"
            ],
            "image/png": "[encoded data removed]"
          },
          "metadata": {}
        }
      ]
    },
    {
      "cell_type": "markdown",
      "source": [
        "# Đường cong Precision-Recall"
      ],
      "metadata": {
        "id": "lWPkR4YLlsJ4"
      }
    },
    {
      "cell_type": "code",
      "source": [
        "from sklearn.metrics import plot_precision_recall_curve\n",
        "\n",
        "from yellowbrick.classifier import PrecisionRecallCurve"
      ],
      "metadata": {
        "id": "MEJK7XlNltlp"
      },
      "execution_count": 31,
      "outputs": []
    },
    {
      "cell_type": "code",
      "source": [
        "rf_disp = plot_precision_recall_curve(rf, X_test, y_test)\n",
        "logit_disp = plot_precision_recall_curve(logit, X_test, y_test)"
      ],
      "metadata": {
        "colab": {
          "base_uri": "https://localhost:8080/",
          "height": 989
        },
        "id": "v4t_-m7Jo5uC",
        "outputId": "d3966ccd-8642-4b8f-eb2f-97698aaa6f1b"
      },
      "execution_count": 32,
      "outputs": [
        {
          "output_type": "display_data",
          "data": {
            "text/plain": [
              "<Figure size 800x550 with 1 Axes>"
            ],
            "image/png": "[encoded data removed]"
          },
          "metadata": {}
        },
        {
          "output_type": "display_data",
          "data": {
            "text/plain": [
              "<Figure size 800x550 with 1 Axes>"
            ],
            "image/png": "[encoded data removed]"
          },
          "metadata": {}
        }
      ]
    },
    {
      "cell_type": "code",
      "source": [
        "ax = plt.gca()\n",
        "rf_disp.plot(ax=ax, alpha=0.8)\n",
        "logit_disp.plot(ax=ax, alpha=0.8)"
      ],
      "metadata": {
        "colab": {
          "base_uri": "https://localhost:8080/",
          "height": 520
        },
        "id": "iIQdrujSqjWi",
        "outputId": "7982f01f-cc97-4622-df77-11e72919c24d"
      },
      "execution_count": 33,
      "outputs": [
        {
          "output_type": "execute_result",
          "data": {
            "text/plain": [
              "<sklearn.metrics._plot.precision_recall_curve.PrecisionRecallDisplay at 0x7a5d5f132f50>"
            ]
          },
          "metadata": {},
          "execution_count": 33
        },
        {
          "output_type": "display_data",
          "data": {
            "text/plain": [
              "<Figure size 800x550 with 1 Axes>"
            ],
            "image/png": "[encoded data removed]"
          },
          "metadata": {}
        }
      ]
    },
    {
      "cell_type": "markdown",
      "source": [
        "### Yellowbrick\n",
        "\n",
        "https://www.scikit-yb.org/en/latest/api/classifier/prcurve.html"
      ],
      "metadata": {
        "id": "0gLDrMbpqzry"
      }
    },
    {
      "cell_type": "code",
      "source": [
        "visualizer = PrecisionRecallCurve(rf, classes=[0, 1])\n",
        "\n",
        "visualizer.fit(X_train, y_train)        # Khớp dữ liệu huấn luyện với visualizer\n",
        "visualizer.score(X_test, y_test)                # Đánh giá mô hình trên dữ liệu kiểm tra\n",
        "visualizer.show()                       # Hoàn thành và hiển thị kết quả"
      ],
      "metadata": {
        "colab": {
          "base_uri": "https://localhost:8080/",
          "height": 541
        },
        "id": "OGOueKfjq0zj",
        "outputId": "a3237c51-1b5b-48b1-d820-aca02f40c7f6"
      },
      "execution_count": 34,
      "outputs": [
        {
          "output_type": "display_data",
          "data": {
            "text/plain": [
              "<Figure size 800x550 with 1 Axes>"
            ],
            "image/png": "[encoded data removed]"
          },
          "metadata": {}
        },
        {
          "output_type": "execute_result",
          "data": {
            "text/plain": [
              "<Axes: title={'center': 'Precision-Recall Curve for RandomForestClassifier'}, xlabel='Recall', ylabel='Precision'>"
            ]
          },
          "metadata": {},
          "execution_count": 34
        }
      ]
    },
    {
      "cell_type": "code",
      "source": [
        "visualizer = PrecisionRecallCurve(logit, classes=[0, 1])\n",
        "\n",
        "visualizer.fit(X_train, y_train)        # Khớp dữ liệu huấn luyện với visualizer\n",
        "visualizer.score(X_test, y_test)                # Đánh giá mô hình trên dữ liệu kiểm tra\n",
        "visualizer.show()                       # Hoàn thành và hiển thị kết quả"
      ],
      "metadata": {
        "colab": {
          "base_uri": "https://localhost:8080/",
          "height": 541
        },
        "id": "3noX9DQHrRMb",
        "outputId": "ae093b50-8794-495b-92b6-8c174a7e4566"
      },
      "execution_count": 36,
      "outputs": [
        {
          "output_type": "display_data",
          "data": {
            "text/plain": [
              "<Figure size 800x550 with 1 Axes>"
            ],
            "image/png": "[encoded data removed]"
          },
          "metadata": {}
        },
        {
          "output_type": "execute_result",
          "data": {
            "text/plain": [
              "<Axes: title={'center': 'Precision-Recall Curve for LogisticRegression'}, xlabel='Recall', ylabel='Precision'>"
            ]
          },
          "metadata": {},
          "execution_count": 36
        }
      ]
    },
    {
      "cell_type": "markdown",
      "source": [
        "## Tài liệu đọc thêm\n",
        "\n",
        "https://towardsdatascience.com/on-roc-and-precision-recall-curves-c23e9b63820c"
      ],
      "metadata": {
        "id": "q5twIm3cr2Rb"
      }
    },
    {
      "cell_type": "markdown",
      "source": [
        "#  Độ chính xác cân bằng\n",
        "\n",
        "Recall trung bình trên các lớp."
      ],
      "metadata": {
        "id": "WFZlCs-lr3Bz"
      }
    },
    {
      "cell_type": "code",
      "source": [
        "from sklearn.metrics import (\n",
        "    accuracy_score,\n",
        "    balanced_accuracy_score,\n",
        "    recall_score,\n",
        ")"
      ],
      "metadata": {
        "id": "_6owI5ZFrqu6"
      },
      "execution_count": 37,
      "outputs": []
    },
    {
      "cell_type": "markdown",
      "source": [
        "## Độ chính xác"
      ],
      "metadata": {
        "id": "k0EW417Or8bK"
      }
    },
    {
      "cell_type": "code",
      "source": [
        "print('Accuracy Baseline test: ', accuracy_score(y_test, y_test_base))\n",
        "print('Accuracy Random Forest test:', accuracy_score(y_test, rf.predict(X_test)))\n",
        "print('Accuracy Logistic Regression test:', accuracy_score(y_test, logit.predict(X_test)))"
      ],
      "metadata": {
        "colab": {
          "base_uri": "https://localhost:8080/"
        },
        "id": "XcuVxShasdWr",
        "outputId": "623e674a-8856-4335-ce17-345da6d83913"
      },
      "execution_count": 38,
      "outputs": [
        {
          "output_type": "stream",
          "name": "stdout",
          "text": [
            "Accuracy Baseline test:  0.9907377761514888\n",
            "Accuracy Random Forest test: 0.9962951104605955\n",
            "Accuracy Logistic Regression test: 0.9969354617390112\n"
          ]
        }
      ]
    },
    {
      "cell_type": "markdown",
      "source": [
        "Căn cứ vào độ chính xác, có vẻ như các mô hình học máy chỉ tăng một chút chất lượng so với baseline."
      ],
      "metadata": {
        "id": "PsBq6sWns6nU"
      }
    },
    {
      "cell_type": "markdown",
      "source": [
        "## Độ chính xác cân bằng\n",
        "\n",
        "- [balanced_accuracy_score](https://scikit-learn.org/stable/modules/generated/sklearn.metrics.balanced_accuracy_score.html)"
      ],
      "metadata": {
        "id": "jS0iE6XFtAn7"
      }
    },
    {
      "cell_type": "code",
      "source": [
        "print('Balanced accuracy, Baseline test: ', balanced_accuracy_score(y_test, y_test_base))\n",
        "print('Balanced accuracy, Random Forest test:', balanced_accuracy_score(y_test, rf.predict(X_test)))\n",
        "print('Balanced accuracy, Regression test:',  balanced_accuracy_score(y_test, logit.predict(X_test)))"
      ],
      "metadata": {
        "colab": {
          "base_uri": "https://localhost:8080/"
        },
        "id": "RJazfhrcsp2N",
        "outputId": "036d1592-8ee1-404e-eea7-a14be60f67ae"
      },
      "execution_count": 39,
      "outputs": [
        {
          "output_type": "stream",
          "name": "stdout",
          "text": [
            "Balanced accuracy, Baseline test:  0.5\n",
            "Balanced accuracy, Random Forest test: 0.8012230261547375\n",
            "Balanced accuracy, Regression test: 0.8553593458651052\n"
          ]
        }
      ]
    },
    {
      "cell_type": "markdown",
      "source": [
        "## Recall ở mỗi phân lớp"
      ],
      "metadata": {
        "id": "QLhdID3XtdzM"
      }
    },
    {
      "cell_type": "code",
      "source": [
        "# với các tham số dưới đây trong hàm recall_score, chúng ta thu được recall\n",
        "# ở mỗi phân lớp:\n",
        "\n",
        "print('Recall, class 0 and 1: ', recall_score(\n",
        "    y_test, y_test_base, labels=[0,1], average=None))\n",
        "\n",
        "print('Recall, class 0 and 1:', recall_score(\n",
        "    y_test, rf.predict(X_test), labels=[0,1], average=None))\n",
        "\n",
        "print('Recall, class 0 and 1:',  recall_score(\n",
        "    y_test, logit.predict(X_test), labels=[0,1], average=None))"
      ],
      "metadata": {
        "colab": {
          "base_uri": "https://localhost:8080/"
        },
        "id": "4h2rENJutgoq",
        "outputId": "26a6a87a-d1d0-4464-d37a-95c4687a7f8e"
      },
      "execution_count": 40,
      "outputs": [
        {
          "output_type": "stream",
          "name": "stdout",
          "text": [
            "Recall, class 0 and 1:  [1. 0.]\n",
            "Recall, class 0 and 1: [0.99997692 0.60246914]\n",
            "Recall, class 0 and 1: [0.99960758 0.71111111]\n"
          ]
        }
      ]
    }
  ]
}