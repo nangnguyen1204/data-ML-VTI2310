{
  "nbformat": 4,
  "nbformat_minor": 0,
  "metadata": {
    "colab": {
      "provenance": []
    },
    "kernelspec": {
      "name": "python3",
      "display_name": "Python 3"
    },
    "language_info": {
      "name": "python"
    }
  },
  "cells": [
    {
      "cell_type": "code",
      "source": [
        "!pip uninstall scikit-learn"
      ],
      "metadata": {
        "id": "I9chphwL6RLp",
        "colab": {
          "base_uri": "https://localhost:8080/"
        },
        "outputId": "f73bb3ef-6694-49ac-96cc-10ac63afc5bc"
      },
      "execution_count": null,
      "outputs": [
        {
          "output_type": "stream",
          "name": "stdout",
          "text": [
            "Found existing installation: scikit-learn 1.2.2\n",
            "Uninstalling scikit-learn-1.2.2:\n",
            "  Would remove:\n",
            "    /usr/local/lib/python3.10/dist-packages/scikit_learn-1.2.2.dist-info/*\n",
            "    /usr/local/lib/python3.10/dist-packages/scikit_learn.libs/libgomp-a34b3233.so.1.0.0\n",
            "    /usr/local/lib/python3.10/dist-packages/sklearn/*\n",
            "Proceed (Y/n)? y\n",
            "  Successfully uninstalled scikit-learn-1.2.2\n"
          ]
        }
      ]
    },
    {
      "cell_type": "code",
      "source": [
        "!pip install scikit-learn==1.1.3"
      ],
      "metadata": {
        "colab": {
          "base_uri": "https://localhost:8080/"
        },
        "id": "uTCljEmb8Ngp",
        "outputId": "16318667-9f90-4733-b88f-899694dc83b2"
      },
      "execution_count": null,
      "outputs": [
        {
          "output_type": "stream",
          "name": "stdout",
          "text": [
            "Collecting scikit-learn==1.1.3\n",
            "  Downloading scikit_learn-1.1.3-cp310-cp310-manylinux_2_17_x86_64.manylinux2014_x86_64.whl (30.5 MB)\n",
            "\u001b[2K     \u001b[90m━━━━━━━━━━━━━━━━━━━━━━━━━━━━━━━━━━━━━━━━\u001b[0m \u001b[32m30.5/30.5 MB\u001b[0m \u001b[31m38.4 MB/s\u001b[0m eta \u001b[36m0:00:00\u001b[0m\n",
            "\u001b[?25hRequirement already satisfied: numpy>=1.17.3 in /usr/local/lib/python3.10/dist-packages (from scikit-learn==1.1.3) (1.23.5)\n",
            "Requirement already satisfied: scipy>=1.3.2 in /usr/local/lib/python3.10/dist-packages (from scikit-learn==1.1.3) (1.11.2)\n",
            "Requirement already satisfied: joblib>=1.0.0 in /usr/local/lib/python3.10/dist-packages (from scikit-learn==1.1.3) (1.3.2)\n",
            "Requirement already satisfied: threadpoolctl>=2.0.0 in /usr/local/lib/python3.10/dist-packages (from scikit-learn==1.1.3) (3.2.0)\n",
            "Installing collected packages: scikit-learn\n",
            "Successfully installed scikit-learn-1.1.3\n"
          ]
        }
      ]
    },
    {
      "cell_type": "markdown",
      "source": [
        "## B1: Thu thập dữ liệu"
      ],
      "metadata": {
        "id": "8clFVtEUC6H3"
      }
    },
    {
      "cell_type": "markdown",
      "source": [
        "###Package Requirements"
      ],
      "metadata": {
        "id": "bTyUF6MoC_0n"
      }
    },
    {
      "cell_type": "code",
      "source": [
        "%matplotlib inline\n",
        "import numpy as np\n",
        "\n",
        "import matplotlib\n",
        "import matplotlib.pyplot as plt\n",
        "import seaborn as sns\n",
        "\n",
        "import pandas as pd"
      ],
      "metadata": {
        "id": "zB37H1bE6QPB"
      },
      "execution_count": null,
      "outputs": []
    },
    {
      "cell_type": "code",
      "source": [
        "import sklearn\n",
        "from sklearn.linear_model import LinearRegression\n",
        "from sklearn.model_selection import train_test_split\n",
        "from sklearn import metrics"
      ],
      "metadata": {
        "id": "S7MAnbMrDE2Q"
      },
      "execution_count": null,
      "outputs": []
    },
    {
      "cell_type": "code",
      "source": [
        "from sklearn.datasets import load_boston\n",
        "\n",
        "boston_data = load_boston()"
      ],
      "metadata": {
        "colab": {
          "base_uri": "https://localhost:8080/"
        },
        "id": "fSTSEYtzDHH3",
        "outputId": "50e5405f-02da-4176-f532-4b3a5aa3ae00"
      },
      "execution_count": null,
      "outputs": [
        {
          "output_type": "stream",
          "name": "stderr",
          "text": [
            "/usr/local/lib/python3.10/dist-packages/sklearn/utils/deprecation.py:87: FutureWarning: Function load_boston is deprecated; `load_boston` is deprecated in 1.0 and will be removed in 1.2.\n",
            "\n",
            "    The Boston housing prices dataset has an ethical problem. You can refer to\n",
            "    the documentation of this function for further details.\n",
            "\n",
            "    The scikit-learn maintainers therefore strongly discourage the use of this\n",
            "    dataset unless the purpose of the code is to study and educate about\n",
            "    ethical issues in data science and machine learning.\n",
            "\n",
            "    In this special case, you can fetch the dataset from the original\n",
            "    source::\n",
            "\n",
            "        import pandas as pd\n",
            "        import numpy as np\n",
            "\n",
            "        data_url = \"http://lib.stat.cmu.edu/datasets/boston\"\n",
            "        raw_df = pd.read_csv(data_url, sep=\"\\s+\", skiprows=22, header=None)\n",
            "        data = np.hstack([raw_df.values[::2, :], raw_df.values[1::2, :2]])\n",
            "        target = raw_df.values[1::2, 2]\n",
            "\n",
            "    Alternative datasets include the California housing dataset (i.e.\n",
            "    :func:`~sklearn.datasets.fetch_california_housing`) and the Ames housing\n",
            "    dataset. You can load the datasets as follows::\n",
            "\n",
            "        from sklearn.datasets import fetch_california_housing\n",
            "        housing = fetch_california_housing()\n",
            "\n",
            "    for the California housing dataset and::\n",
            "\n",
            "        from sklearn.datasets import fetch_openml\n",
            "        housing = fetch_openml(name=\"house_prices\", as_frame=True)\n",
            "\n",
            "    for the Ames housing dataset.\n",
            "  warnings.warn(msg, category=FutureWarning)\n"
          ]
        }
      ]
    },
    {
      "cell_type": "code",
      "source": [
        "print(boston_data.DESCR)\n",
        "# lệnh in ra mô tả chi tiết về tập dữ liệu boston_data"
      ],
      "metadata": {
        "colab": {
          "base_uri": "https://localhost:8080/"
        },
        "id": "TKotdoB4EOVV",
        "outputId": "7a80cd56-ea28-47c2-b8a0-67b4dbd13692"
      },
      "execution_count": null,
      "outputs": [
        {
          "output_type": "stream",
          "name": "stdout",
          "text": [
            ".. _boston_dataset:\n",
            "\n",
            "Boston house prices dataset\n",
            "---------------------------\n",
            "\n",
            "**Data Set Characteristics:**  \n",
            "\n",
            "    :Number of Instances: 506 \n",
            "\n",
            "    :Number of Attributes: 13 numeric/categorical predictive. Median Value (attribute 14) is usually the target.\n",
            "\n",
            "    :Attribute Information (in order):\n",
            "        - CRIM     per capita crime rate by town\n",
            "        - ZN       proportion of residential land zoned for lots over 25,000 sq.ft.\n",
            "        - INDUS    proportion of non-retail business acres per town\n",
            "        - CHAS     Charles River dummy variable (= 1 if tract bounds river; 0 otherwise)\n",
            "        - NOX      nitric oxides concentration (parts per 10 million)\n",
            "        - RM       average number of rooms per dwelling\n",
            "        - AGE      proportion of owner-occupied units built prior to 1940\n",
            "        - DIS      weighted distances to five Boston employment centres\n",
            "        - RAD      index of accessibility to radial highways\n",
            "        - TAX      full-value property-tax rate per $10,000\n",
            "        - PTRATIO  pupil-teacher ratio by town\n",
            "        - B        1000(Bk - 0.63)^2 where Bk is the proportion of black people by town\n",
            "        - LSTAT    % lower status of the population\n",
            "        - MEDV     Median value of owner-occupied homes in $1000's\n",
            "\n",
            "    :Missing Attribute Values: None\n",
            "\n",
            "    :Creator: Harrison, D. and Rubinfeld, D.L.\n",
            "\n",
            "This is a copy of UCI ML housing dataset.\n",
            "https://archive.ics.uci.edu/ml/machine-learning-databases/housing/\n",
            "\n",
            "\n",
            "This dataset was taken from the StatLib library which is maintained at Carnegie Mellon University.\n",
            "\n",
            "The Boston house-price data of Harrison, D. and Rubinfeld, D.L. 'Hedonic\n",
            "prices and the demand for clean air', J. Environ. Economics & Management,\n",
            "vol.5, 81-102, 1978.   Used in Belsley, Kuh & Welsch, 'Regression diagnostics\n",
            "...', Wiley, 1980.   N.B. Various transformations are used in the table on\n",
            "pages 244-261 of the latter.\n",
            "\n",
            "The Boston house-price data has been used in many machine learning papers that address regression\n",
            "problems.   \n",
            "     \n",
            ".. topic:: References\n",
            "\n",
            "   - Belsley, Kuh & Welsch, 'Regression diagnostics: Identifying Influential Data and Sources of Collinearity', Wiley, 1980. 244-261.\n",
            "   - Quinlan,R. (1993). Combining Instance-Based and Model-Based Learning. In Proceedings on the Tenth International Conference of Machine Learning, 236-243, University of Massachusetts, Amherst. Morgan Kaufmann.\n",
            "\n"
          ]
        }
      ]
    },
    {
      "cell_type": "code",
      "source": [
        "print(\"Keys: \", boston_data.keys())\n",
        "#in ra các khóa đại diện thành phần khác nhau của tệp"
      ],
      "metadata": {
        "colab": {
          "base_uri": "https://localhost:8080/"
        },
        "id": "kcqgPI-pEQN2",
        "outputId": "28884086-cc0f-4bfe-a2f9-e73fe0d11e4d"
      },
      "execution_count": null,
      "outputs": [
        {
          "output_type": "stream",
          "name": "stdout",
          "text": [
            "Keys:  dict_keys(['data', 'target', 'feature_names', 'DESCR', 'filename', 'data_module'])\n"
          ]
        }
      ]
    },
    {
      "cell_type": "code",
      "source": [
        "print(\"Shape: \", boston_data.data.shape)\n",
        "# in ra shape của dữ liệu"
      ],
      "metadata": {
        "colab": {
          "base_uri": "https://localhost:8080/"
        },
        "id": "O7uBWPaCEU4m",
        "outputId": "a7ad30b4-c633-4d23-ddfe-b3286301a89c"
      },
      "execution_count": null,
      "outputs": [
        {
          "output_type": "stream",
          "name": "stdout",
          "text": [
            "Shape:  (506, 13)\n"
          ]
        }
      ]
    },
    {
      "cell_type": "code",
      "source": [
        "print(\"Feature Names: \", boston_data.feature_names)\n",
        "# in ra tên cột trong boston_data"
      ],
      "metadata": {
        "colab": {
          "base_uri": "https://localhost:8080/"
        },
        "id": "b_xdw77PEXr-",
        "outputId": "1c1d6666-5a58-429b-a962-9e6a57b072d4"
      },
      "execution_count": null,
      "outputs": [
        {
          "output_type": "stream",
          "name": "stdout",
          "text": [
            "Feature Names:  ['CRIM' 'ZN' 'INDUS' 'CHAS' 'NOX' 'RM' 'AGE' 'DIS' 'RAD' 'TAX' 'PTRATIO'\n",
            " 'B' 'LSTAT']\n"
          ]
        }
      ]
    },
    {
      "cell_type": "markdown",
      "source": [
        "## Tiền xử lí dữ liệu"
      ],
      "metadata": {
        "id": "lizqIuLgEqKm"
      }
    },
    {
      "cell_type": "markdown",
      "source": [
        "## Extract Data\n",
        "Pass the data into a Pandas dataframe"
      ],
      "metadata": {
        "id": "kQa_6MwxEtau"
      }
    },
    {
      "cell_type": "code",
      "source": [
        "bos_pd = pd.DataFrame(boston_data.data)\n",
        "# tạo DataFrame bos_pd từ tập dữ liệu boston_data\n",
        "bos_pd.head()\n",
        "# in ra 5 hàng đầu của dataframe"
      ],
      "metadata": {
        "colab": {
          "base_uri": "https://localhost:8080/",
          "height": 226
        },
        "id": "uQigmOJxEzK2",
        "outputId": "6e839d84-f6ef-45cb-add9-b177dcf7d167"
      },
      "execution_count": null,
      "outputs": [
        {
          "output_type": "execute_result",
          "data": {
            "text/plain": [
              "        0     1     2    3      4      5     6       7    8      9     10  \\\n",
              "0  0.00632  18.0  2.31  0.0  0.538  6.575  65.2  4.0900  1.0  296.0  15.3   \n",
              "1  0.02731   0.0  7.07  0.0  0.469  6.421  78.9  4.9671  2.0  242.0  17.8   \n",
              "2  0.02729   0.0  7.07  0.0  0.469  7.185  61.1  4.9671  2.0  242.0  17.8   \n",
              "3  0.03237   0.0  2.18  0.0  0.458  6.998  45.8  6.0622  3.0  222.0  18.7   \n",
              "4  0.06905   0.0  2.18  0.0  0.458  7.147  54.2  6.0622  3.0  222.0  18.7   \n",
              "\n",
              "       11    12  \n",
              "0  396.90  4.98  \n",
              "1  396.90  9.14  \n",
              "2  392.83  4.03  \n",
              "3  394.63  2.94  \n",
              "4  396.90  5.33  "
            ],
            "text/html": [
              "\n",
              "  <div id=\"df-db9eb161-d222-440f-8b0f-01bc54b46243\" class=\"colab-df-container\">\n",
              "    <div>\n",
              "<style scoped>\n",
              "    .dataframe tbody tr th:only-of-type {\n",
              "        vertical-align: middle;\n",
              "    }\n",
              "\n",
              "    .dataframe tbody tr th {\n",
              "        vertical-align: top;\n",
              "    }\n",
              "\n",
              "    .dataframe thead th {\n",
              "        text-align: right;\n",
              "    }\n",
              "</style>\n",
              "<table border=\"1\" class=\"dataframe\">\n",
              "  <thead>\n",
              "    <tr style=\"text-align: right;\">\n",
              "      <th></th>\n",
              "      <th>0</th>\n",
              "      <th>1</th>\n",
              "      <th>2</th>\n",
              "      <th>3</th>\n",
              "      <th>4</th>\n",
              "      <th>5</th>\n",
              "      <th>6</th>\n",
              "      <th>7</th>\n",
              "      <th>8</th>\n",
              "      <th>9</th>\n",
              "      <th>10</th>\n",
              "      <th>11</th>\n",
              "      <th>12</th>\n",
              "    </tr>\n",
              "  </thead>\n",
              "  <tbody>\n",
              "    <tr>\n",
              "      <th>0</th>\n",
              "      <td>0.00632</td>\n",
              "      <td>18.0</td>\n",
              "      <td>2.31</td>\n",
              "      <td>0.0</td>\n",
              "      <td>0.538</td>\n",
              "      <td>6.575</td>\n",
              "      <td>65.2</td>\n",
              "      <td>4.0900</td>\n",
              "      <td>1.0</td>\n",
              "      <td>296.0</td>\n",
              "      <td>15.3</td>\n",
              "      <td>396.90</td>\n",
              "      <td>4.98</td>\n",
              "    </tr>\n",
              "    <tr>\n",
              "      <th>1</th>\n",
              "      <td>0.02731</td>\n",
              "      <td>0.0</td>\n",
              "      <td>7.07</td>\n",
              "      <td>0.0</td>\n",
              "      <td>0.469</td>\n",
              "      <td>6.421</td>\n",
              "      <td>78.9</td>\n",
              "      <td>4.9671</td>\n",
              "      <td>2.0</td>\n",
              "      <td>242.0</td>\n",
              "      <td>17.8</td>\n",
              "      <td>396.90</td>\n",
              "      <td>9.14</td>\n",
              "    </tr>\n",
              "    <tr>\n",
              "      <th>2</th>\n",
              "      <td>0.02729</td>\n",
              "      <td>0.0</td>\n",
              "      <td>7.07</td>\n",
              "      <td>0.0</td>\n",
              "      <td>0.469</td>\n",
              "      <td>7.185</td>\n",
              "      <td>61.1</td>\n",
              "      <td>4.9671</td>\n",
              "      <td>2.0</td>\n",
              "      <td>242.0</td>\n",
              "      <td>17.8</td>\n",
              "      <td>392.83</td>\n",
              "      <td>4.03</td>\n",
              "    </tr>\n",
              "    <tr>\n",
              "      <th>3</th>\n",
              "      <td>0.03237</td>\n",
              "      <td>0.0</td>\n",
              "      <td>2.18</td>\n",
              "      <td>0.0</td>\n",
              "      <td>0.458</td>\n",
              "      <td>6.998</td>\n",
              "      <td>45.8</td>\n",
              "      <td>6.0622</td>\n",
              "      <td>3.0</td>\n",
              "      <td>222.0</td>\n",
              "      <td>18.7</td>\n",
              "      <td>394.63</td>\n",
              "      <td>2.94</td>\n",
              "    </tr>\n",
              "    <tr>\n",
              "      <th>4</th>\n",
              "      <td>0.06905</td>\n",
              "      <td>0.0</td>\n",
              "      <td>2.18</td>\n",
              "      <td>0.0</td>\n",
              "      <td>0.458</td>\n",
              "      <td>7.147</td>\n",
              "      <td>54.2</td>\n",
              "      <td>6.0622</td>\n",
              "      <td>3.0</td>\n",
              "      <td>222.0</td>\n",
              "      <td>18.7</td>\n",
              "      <td>396.90</td>\n",
              "      <td>5.33</td>\n",
              "    </tr>\n",
              "  </tbody>\n",
              "</table>\n",
              "</div>\n",
              "    <div class=\"colab-df-buttons\">\n",
              "\n",
              "  <div class=\"colab-df-container\">\n",
              "    <button class=\"colab-df-convert\" onclick=\"convertToInteractive('df-db9eb161-d222-440f-8b0f-01bc54b46243')\"\n",
              "            title=\"Convert this dataframe to an interactive table.\"\n",
              "            style=\"display:none;\">\n",
              "\n",
              "  <svg xmlns=\"http://www.w3.org/2000/svg\" height=\"24px\" viewBox=\"0 -960 960 960\">\n",
              "    <path d=\"M120-120v-720h720v720H120Zm60-500h600v-160H180v160Zm220 220h160v-160H400v160Zm0 220h160v-160H400v160ZM180-400h160v-160H180v160Zm440 0h160v-160H620v160ZM180-180h160v-160H180v160Zm440 0h160v-160H620v160Z\"/>\n",
              "  </svg>\n",
              "    </button>\n",
              "\n",
              "  <style>\n",
              "    .colab-df-container {\n",
              "      display:flex;\n",
              "      gap: 12px;\n",
              "    }\n",
              "\n",
              "    .colab-df-convert {\n",
              "      background-color: #E8F0FE;\n",
              "      border: none;\n",
              "      border-radius: 50%;\n",
              "      cursor: pointer;\n",
              "      display: none;\n",
              "      fill: #1967D2;\n",
              "      height: 32px;\n",
              "      padding: 0 0 0 0;\n",
              "      width: 32px;\n",
              "    }\n",
              "\n",
              "    .colab-df-convert:hover {\n",
              "      background-color: #E2EBFA;\n",
              "      box-shadow: 0px 1px 2px rgba(60, 64, 67, 0.3), 0px 1px 3px 1px rgba(60, 64, 67, 0.15);\n",
              "      fill: #174EA6;\n",
              "    }\n",
              "\n",
              "    .colab-df-buttons div {\n",
              "      margin-bottom: 4px;\n",
              "    }\n",
              "\n",
              "    [theme=dark] .colab-df-convert {\n",
              "      background-color: #3B4455;\n",
              "      fill: #D2E3FC;\n",
              "    }\n",
              "\n",
              "    [theme=dark] .colab-df-convert:hover {\n",
              "      background-color: #434B5C;\n",
              "      box-shadow: 0px 1px 3px 1px rgba(0, 0, 0, 0.15);\n",
              "      filter: drop-shadow(0px 1px 2px rgba(0, 0, 0, 0.3));\n",
              "      fill: #FFFFFF;\n",
              "    }\n",
              "  </style>\n",
              "\n",
              "    <script>\n",
              "      const buttonEl =\n",
              "        document.querySelector('#df-db9eb161-d222-440f-8b0f-01bc54b46243 button.colab-df-convert');\n",
              "      buttonEl.style.display =\n",
              "        google.colab.kernel.accessAllowed ? 'block' : 'none';\n",
              "\n",
              "      async function convertToInteractive(key) {\n",
              "        const element = document.querySelector('#df-db9eb161-d222-440f-8b0f-01bc54b46243');\n",
              "        const dataTable =\n",
              "          await google.colab.kernel.invokeFunction('convertToInteractive',\n",
              "                                                    [key], {});\n",
              "        if (!dataTable) return;\n",
              "\n",
              "        const docLinkHtml = 'Like what you see? Visit the ' +\n",
              "          '<a target=\"_blank\" href=https://colab.research.google.com/notebooks/data_table.ipynb>data table notebook</a>'\n",
              "          + ' to learn more about interactive tables.';\n",
              "        element.innerHTML = '';\n",
              "        dataTable['output_type'] = 'display_data';\n",
              "        await google.colab.output.renderOutput(dataTable, element);\n",
              "        const docLink = document.createElement('div');\n",
              "        docLink.innerHTML = docLinkHtml;\n",
              "        element.appendChild(docLink);\n",
              "      }\n",
              "    </script>\n",
              "  </div>\n",
              "\n",
              "\n",
              "<div id=\"df-df75cc03-a7bf-4624-8bd7-73723acf5309\">\n",
              "  <button class=\"colab-df-quickchart\" onclick=\"quickchart('df-df75cc03-a7bf-4624-8bd7-73723acf5309')\"\n",
              "            title=\"Suggest charts.\"\n",
              "            style=\"display:none;\">\n",
              "\n",
              "<svg xmlns=\"http://www.w3.org/2000/svg\" height=\"24px\"viewBox=\"0 0 24 24\"\n",
              "     width=\"24px\">\n",
              "    <g>\n",
              "        <path d=\"M19 3H5c-1.1 0-2 .9-2 2v14c0 1.1.9 2 2 2h14c1.1 0 2-.9 2-2V5c0-1.1-.9-2-2-2zM9 17H7v-7h2v7zm4 0h-2V7h2v10zm4 0h-2v-4h2v4z\"/>\n",
              "    </g>\n",
              "</svg>\n",
              "  </button>\n",
              "\n",
              "<style>\n",
              "  .colab-df-quickchart {\n",
              "      --bg-color: #E8F0FE;\n",
              "      --fill-color: #1967D2;\n",
              "      --hover-bg-color: #E2EBFA;\n",
              "      --hover-fill-color: #174EA6;\n",
              "      --disabled-fill-color: #AAA;\n",
              "      --disabled-bg-color: #DDD;\n",
              "  }\n",
              "\n",
              "  [theme=dark] .colab-df-quickchart {\n",
              "      --bg-color: #3B4455;\n",
              "      --fill-color: #D2E3FC;\n",
              "      --hover-bg-color: #434B5C;\n",
              "      --hover-fill-color: #FFFFFF;\n",
              "      --disabled-bg-color: #3B4455;\n",
              "      --disabled-fill-color: #666;\n",
              "  }\n",
              "\n",
              "  .colab-df-quickchart {\n",
              "    background-color: var(--bg-color);\n",
              "    border: none;\n",
              "    border-radius: 50%;\n",
              "    cursor: pointer;\n",
              "    display: none;\n",
              "    fill: var(--fill-color);\n",
              "    height: 32px;\n",
              "    padding: 0;\n",
              "    width: 32px;\n",
              "  }\n",
              "\n",
              "  .colab-df-quickchart:hover {\n",
              "    background-color: var(--hover-bg-color);\n",
              "    box-shadow: 0 1px 2px rgba(60, 64, 67, 0.3), 0 1px 3px 1px rgba(60, 64, 67, 0.15);\n",
              "    fill: var(--button-hover-fill-color);\n",
              "  }\n",
              "\n",
              "  .colab-df-quickchart-complete:disabled,\n",
              "  .colab-df-quickchart-complete:disabled:hover {\n",
              "    background-color: var(--disabled-bg-color);\n",
              "    fill: var(--disabled-fill-color);\n",
              "    box-shadow: none;\n",
              "  }\n",
              "\n",
              "  .colab-df-spinner {\n",
              "    border: 2px solid var(--fill-color);\n",
              "    border-color: transparent;\n",
              "    border-bottom-color: var(--fill-color);\n",
              "    animation:\n",
              "      spin 1s steps(1) infinite;\n",
              "  }\n",
              "\n",
              "  @keyframes spin {\n",
              "    0% {\n",
              "      border-color: transparent;\n",
              "      border-bottom-color: var(--fill-color);\n",
              "      border-left-color: var(--fill-color);\n",
              "    }\n",
              "    20% {\n",
              "      border-color: transparent;\n",
              "      border-left-color: var(--fill-color);\n",
              "      border-top-color: var(--fill-color);\n",
              "    }\n",
              "    30% {\n",
              "      border-color: transparent;\n",
              "      border-left-color: var(--fill-color);\n",
              "      border-top-color: var(--fill-color);\n",
              "      border-right-color: var(--fill-color);\n",
              "    }\n",
              "    40% {\n",
              "      border-color: transparent;\n",
              "      border-right-color: var(--fill-color);\n",
              "      border-top-color: var(--fill-color);\n",
              "    }\n",
              "    60% {\n",
              "      border-color: transparent;\n",
              "      border-right-color: var(--fill-color);\n",
              "    }\n",
              "    80% {\n",
              "      border-color: transparent;\n",
              "      border-right-color: var(--fill-color);\n",
              "      border-bottom-color: var(--fill-color);\n",
              "    }\n",
              "    90% {\n",
              "      border-color: transparent;\n",
              "      border-bottom-color: var(--fill-color);\n",
              "    }\n",
              "  }\n",
              "</style>\n",
              "\n",
              "  <script>\n",
              "    async function quickchart(key) {\n",
              "      const quickchartButtonEl =\n",
              "        document.querySelector('#' + key + ' button');\n",
              "      quickchartButtonEl.disabled = true;  // To prevent multiple clicks.\n",
              "      quickchartButtonEl.classList.add('colab-df-spinner');\n",
              "      try {\n",
              "        const charts = await google.colab.kernel.invokeFunction(\n",
              "            'suggestCharts', [key], {});\n",
              "      } catch (error) {\n",
              "        console.error('Error during call to suggestCharts:', error);\n",
              "      }\n",
              "      quickchartButtonEl.classList.remove('colab-df-spinner');\n",
              "      quickchartButtonEl.classList.add('colab-df-quickchart-complete');\n",
              "    }\n",
              "    (() => {\n",
              "      let quickchartButtonEl =\n",
              "        document.querySelector('#df-df75cc03-a7bf-4624-8bd7-73723acf5309 button');\n",
              "      quickchartButtonEl.style.display =\n",
              "        google.colab.kernel.accessAllowed ? 'block' : 'none';\n",
              "    })();\n",
              "  </script>\n",
              "</div>\n",
              "    </div>\n",
              "  </div>\n"
            ]
          },
          "metadata": {},
          "execution_count": 7
        }
      ]
    },
    {
      "cell_type": "markdown",
      "source": [
        "Relabel the columns using the Boston dataset feature names"
      ],
      "metadata": {
        "id": "ZF2MDlRiE3Tu"
      }
    },
    {
      "cell_type": "code",
      "source": [
        "bos_pd.columns = boston_data.feature_names\n",
        "# thêm tên columns bằng feature_names của boston_data\n",
        "bos_pd.head()"
      ],
      "metadata": {
        "colab": {
          "base_uri": "https://localhost:8080/",
          "height": 226
        },
        "id": "j6YIhbubE6_G",
        "outputId": "0e25de2b-7ab7-40ed-a898-4597b83e654b"
      },
      "execution_count": null,
      "outputs": [
        {
          "output_type": "execute_result",
          "data": {
            "text/plain": [
              "      CRIM    ZN  INDUS  CHAS    NOX     RM   AGE     DIS  RAD    TAX  \\\n",
              "0  0.00632  18.0   2.31   0.0  0.538  6.575  65.2  4.0900  1.0  296.0   \n",
              "1  0.02731   0.0   7.07   0.0  0.469  6.421  78.9  4.9671  2.0  242.0   \n",
              "2  0.02729   0.0   7.07   0.0  0.469  7.185  61.1  4.9671  2.0  242.0   \n",
              "3  0.03237   0.0   2.18   0.0  0.458  6.998  45.8  6.0622  3.0  222.0   \n",
              "4  0.06905   0.0   2.18   0.0  0.458  7.147  54.2  6.0622  3.0  222.0   \n",
              "\n",
              "   PTRATIO       B  LSTAT  \n",
              "0     15.3  396.90   4.98  \n",
              "1     17.8  396.90   9.14  \n",
              "2     17.8  392.83   4.03  \n",
              "3     18.7  394.63   2.94  \n",
              "4     18.7  396.90   5.33  "
            ],
            "text/html": [
              "\n",
              "  <div id=\"df-54498837-7dac-4776-9950-3c28df46bf0f\" class=\"colab-df-container\">\n",
              "    <div>\n",
              "<style scoped>\n",
              "    .dataframe tbody tr th:only-of-type {\n",
              "        vertical-align: middle;\n",
              "    }\n",
              "\n",
              "    .dataframe tbody tr th {\n",
              "        vertical-align: top;\n",
              "    }\n",
              "\n",
              "    .dataframe thead th {\n",
              "        text-align: right;\n",
              "    }\n",
              "</style>\n",
              "<table border=\"1\" class=\"dataframe\">\n",
              "  <thead>\n",
              "    <tr style=\"text-align: right;\">\n",
              "      <th></th>\n",
              "      <th>CRIM</th>\n",
              "      <th>ZN</th>\n",
              "      <th>INDUS</th>\n",
              "      <th>CHAS</th>\n",
              "      <th>NOX</th>\n",
              "      <th>RM</th>\n",
              "      <th>AGE</th>\n",
              "      <th>DIS</th>\n",
              "      <th>RAD</th>\n",
              "      <th>TAX</th>\n",
              "      <th>PTRATIO</th>\n",
              "      <th>B</th>\n",
              "      <th>LSTAT</th>\n",
              "    </tr>\n",
              "  </thead>\n",
              "  <tbody>\n",
              "    <tr>\n",
              "      <th>0</th>\n",
              "      <td>0.00632</td>\n",
              "      <td>18.0</td>\n",
              "      <td>2.31</td>\n",
              "      <td>0.0</td>\n",
              "      <td>0.538</td>\n",
              "      <td>6.575</td>\n",
              "      <td>65.2</td>\n",
              "      <td>4.0900</td>\n",
              "      <td>1.0</td>\n",
              "      <td>296.0</td>\n",
              "      <td>15.3</td>\n",
              "      <td>396.90</td>\n",
              "      <td>4.98</td>\n",
              "    </tr>\n",
              "    <tr>\n",
              "      <th>1</th>\n",
              "      <td>0.02731</td>\n",
              "      <td>0.0</td>\n",
              "      <td>7.07</td>\n",
              "      <td>0.0</td>\n",
              "      <td>0.469</td>\n",
              "      <td>6.421</td>\n",
              "      <td>78.9</td>\n",
              "      <td>4.9671</td>\n",
              "      <td>2.0</td>\n",
              "      <td>242.0</td>\n",
              "      <td>17.8</td>\n",
              "      <td>396.90</td>\n",
              "      <td>9.14</td>\n",
              "    </tr>\n",
              "    <tr>\n",
              "      <th>2</th>\n",
              "      <td>0.02729</td>\n",
              "      <td>0.0</td>\n",
              "      <td>7.07</td>\n",
              "      <td>0.0</td>\n",
              "      <td>0.469</td>\n",
              "      <td>7.185</td>\n",
              "      <td>61.1</td>\n",
              "      <td>4.9671</td>\n",
              "      <td>2.0</td>\n",
              "      <td>242.0</td>\n",
              "      <td>17.8</td>\n",
              "      <td>392.83</td>\n",
              "      <td>4.03</td>\n",
              "    </tr>\n",
              "    <tr>\n",
              "      <th>3</th>\n",
              "      <td>0.03237</td>\n",
              "      <td>0.0</td>\n",
              "      <td>2.18</td>\n",
              "      <td>0.0</td>\n",
              "      <td>0.458</td>\n",
              "      <td>6.998</td>\n",
              "      <td>45.8</td>\n",
              "      <td>6.0622</td>\n",
              "      <td>3.0</td>\n",
              "      <td>222.0</td>\n",
              "      <td>18.7</td>\n",
              "      <td>394.63</td>\n",
              "      <td>2.94</td>\n",
              "    </tr>\n",
              "    <tr>\n",
              "      <th>4</th>\n",
              "      <td>0.06905</td>\n",
              "      <td>0.0</td>\n",
              "      <td>2.18</td>\n",
              "      <td>0.0</td>\n",
              "      <td>0.458</td>\n",
              "      <td>7.147</td>\n",
              "      <td>54.2</td>\n",
              "      <td>6.0622</td>\n",
              "      <td>3.0</td>\n",
              "      <td>222.0</td>\n",
              "      <td>18.7</td>\n",
              "      <td>396.90</td>\n",
              "      <td>5.33</td>\n",
              "    </tr>\n",
              "  </tbody>\n",
              "</table>\n",
              "</div>\n",
              "    <div class=\"colab-df-buttons\">\n",
              "\n",
              "  <div class=\"colab-df-container\">\n",
              "    <button class=\"colab-df-convert\" onclick=\"convertToInteractive('df-54498837-7dac-4776-9950-3c28df46bf0f')\"\n",
              "            title=\"Convert this dataframe to an interactive table.\"\n",
              "            style=\"display:none;\">\n",
              "\n",
              "  <svg xmlns=\"http://www.w3.org/2000/svg\" height=\"24px\" viewBox=\"0 -960 960 960\">\n",
              "    <path d=\"M120-120v-720h720v720H120Zm60-500h600v-160H180v160Zm220 220h160v-160H400v160Zm0 220h160v-160H400v160ZM180-400h160v-160H180v160Zm440 0h160v-160H620v160ZM180-180h160v-160H180v160Zm440 0h160v-160H620v160Z\"/>\n",
              "  </svg>\n",
              "    </button>\n",
              "\n",
              "  <style>\n",
              "    .colab-df-container {\n",
              "      display:flex;\n",
              "      gap: 12px;\n",
              "    }\n",
              "\n",
              "    .colab-df-convert {\n",
              "      background-color: #E8F0FE;\n",
              "      border: none;\n",
              "      border-radius: 50%;\n",
              "      cursor: pointer;\n",
              "      display: none;\n",
              "      fill: #1967D2;\n",
              "      height: 32px;\n",
              "      padding: 0 0 0 0;\n",
              "      width: 32px;\n",
              "    }\n",
              "\n",
              "    .colab-df-convert:hover {\n",
              "      background-color: #E2EBFA;\n",
              "      box-shadow: 0px 1px 2px rgba(60, 64, 67, 0.3), 0px 1px 3px 1px rgba(60, 64, 67, 0.15);\n",
              "      fill: #174EA6;\n",
              "    }\n",
              "\n",
              "    .colab-df-buttons div {\n",
              "      margin-bottom: 4px;\n",
              "    }\n",
              "\n",
              "    [theme=dark] .colab-df-convert {\n",
              "      background-color: #3B4455;\n",
              "      fill: #D2E3FC;\n",
              "    }\n",
              "\n",
              "    [theme=dark] .colab-df-convert:hover {\n",
              "      background-color: #434B5C;\n",
              "      box-shadow: 0px 1px 3px 1px rgba(0, 0, 0, 0.15);\n",
              "      filter: drop-shadow(0px 1px 2px rgba(0, 0, 0, 0.3));\n",
              "      fill: #FFFFFF;\n",
              "    }\n",
              "  </style>\n",
              "\n",
              "    <script>\n",
              "      const buttonEl =\n",
              "        document.querySelector('#df-54498837-7dac-4776-9950-3c28df46bf0f button.colab-df-convert');\n",
              "      buttonEl.style.display =\n",
              "        google.colab.kernel.accessAllowed ? 'block' : 'none';\n",
              "\n",
              "      async function convertToInteractive(key) {\n",
              "        const element = document.querySelector('#df-54498837-7dac-4776-9950-3c28df46bf0f');\n",
              "        const dataTable =\n",
              "          await google.colab.kernel.invokeFunction('convertToInteractive',\n",
              "                                                    [key], {});\n",
              "        if (!dataTable) return;\n",
              "\n",
              "        const docLinkHtml = 'Like what you see? Visit the ' +\n",
              "          '<a target=\"_blank\" href=https://colab.research.google.com/notebooks/data_table.ipynb>data table notebook</a>'\n",
              "          + ' to learn more about interactive tables.';\n",
              "        element.innerHTML = '';\n",
              "        dataTable['output_type'] = 'display_data';\n",
              "        await google.colab.output.renderOutput(dataTable, element);\n",
              "        const docLink = document.createElement('div');\n",
              "        docLink.innerHTML = docLinkHtml;\n",
              "        element.appendChild(docLink);\n",
              "      }\n",
              "    </script>\n",
              "  </div>\n",
              "\n",
              "\n",
              "<div id=\"df-ad705e7e-f2f9-4221-8f86-0477c9cc0996\">\n",
              "  <button class=\"colab-df-quickchart\" onclick=\"quickchart('df-ad705e7e-f2f9-4221-8f86-0477c9cc0996')\"\n",
              "            title=\"Suggest charts.\"\n",
              "            style=\"display:none;\">\n",
              "\n",
              "<svg xmlns=\"http://www.w3.org/2000/svg\" height=\"24px\"viewBox=\"0 0 24 24\"\n",
              "     width=\"24px\">\n",
              "    <g>\n",
              "        <path d=\"M19 3H5c-1.1 0-2 .9-2 2v14c0 1.1.9 2 2 2h14c1.1 0 2-.9 2-2V5c0-1.1-.9-2-2-2zM9 17H7v-7h2v7zm4 0h-2V7h2v10zm4 0h-2v-4h2v4z\"/>\n",
              "    </g>\n",
              "</svg>\n",
              "  </button>\n",
              "\n",
              "<style>\n",
              "  .colab-df-quickchart {\n",
              "      --bg-color: #E8F0FE;\n",
              "      --fill-color: #1967D2;\n",
              "      --hover-bg-color: #E2EBFA;\n",
              "      --hover-fill-color: #174EA6;\n",
              "      --disabled-fill-color: #AAA;\n",
              "      --disabled-bg-color: #DDD;\n",
              "  }\n",
              "\n",
              "  [theme=dark] .colab-df-quickchart {\n",
              "      --bg-color: #3B4455;\n",
              "      --fill-color: #D2E3FC;\n",
              "      --hover-bg-color: #434B5C;\n",
              "      --hover-fill-color: #FFFFFF;\n",
              "      --disabled-bg-color: #3B4455;\n",
              "      --disabled-fill-color: #666;\n",
              "  }\n",
              "\n",
              "  .colab-df-quickchart {\n",
              "    background-color: var(--bg-color);\n",
              "    border: none;\n",
              "    border-radius: 50%;\n",
              "    cursor: pointer;\n",
              "    display: none;\n",
              "    fill: var(--fill-color);\n",
              "    height: 32px;\n",
              "    padding: 0;\n",
              "    width: 32px;\n",
              "  }\n",
              "\n",
              "  .colab-df-quickchart:hover {\n",
              "    background-color: var(--hover-bg-color);\n",
              "    box-shadow: 0 1px 2px rgba(60, 64, 67, 0.3), 0 1px 3px 1px rgba(60, 64, 67, 0.15);\n",
              "    fill: var(--button-hover-fill-color);\n",
              "  }\n",
              "\n",
              "  .colab-df-quickchart-complete:disabled,\n",
              "  .colab-df-quickchart-complete:disabled:hover {\n",
              "    background-color: var(--disabled-bg-color);\n",
              "    fill: var(--disabled-fill-color);\n",
              "    box-shadow: none;\n",
              "  }\n",
              "\n",
              "  .colab-df-spinner {\n",
              "    border: 2px solid var(--fill-color);\n",
              "    border-color: transparent;\n",
              "    border-bottom-color: var(--fill-color);\n",
              "    animation:\n",
              "      spin 1s steps(1) infinite;\n",
              "  }\n",
              "\n",
              "  @keyframes spin {\n",
              "    0% {\n",
              "      border-color: transparent;\n",
              "      border-bottom-color: var(--fill-color);\n",
              "      border-left-color: var(--fill-color);\n",
              "    }\n",
              "    20% {\n",
              "      border-color: transparent;\n",
              "      border-left-color: var(--fill-color);\n",
              "      border-top-color: var(--fill-color);\n",
              "    }\n",
              "    30% {\n",
              "      border-color: transparent;\n",
              "      border-left-color: var(--fill-color);\n",
              "      border-top-color: var(--fill-color);\n",
              "      border-right-color: var(--fill-color);\n",
              "    }\n",
              "    40% {\n",
              "      border-color: transparent;\n",
              "      border-right-color: var(--fill-color);\n",
              "      border-top-color: var(--fill-color);\n",
              "    }\n",
              "    60% {\n",
              "      border-color: transparent;\n",
              "      border-right-color: var(--fill-color);\n",
              "    }\n",
              "    80% {\n",
              "      border-color: transparent;\n",
              "      border-right-color: var(--fill-color);\n",
              "      border-bottom-color: var(--fill-color);\n",
              "    }\n",
              "    90% {\n",
              "      border-color: transparent;\n",
              "      border-bottom-color: var(--fill-color);\n",
              "    }\n",
              "  }\n",
              "</style>\n",
              "\n",
              "  <script>\n",
              "    async function quickchart(key) {\n",
              "      const quickchartButtonEl =\n",
              "        document.querySelector('#' + key + ' button');\n",
              "      quickchartButtonEl.disabled = true;  // To prevent multiple clicks.\n",
              "      quickchartButtonEl.classList.add('colab-df-spinner');\n",
              "      try {\n",
              "        const charts = await google.colab.kernel.invokeFunction(\n",
              "            'suggestCharts', [key], {});\n",
              "      } catch (error) {\n",
              "        console.error('Error during call to suggestCharts:', error);\n",
              "      }\n",
              "      quickchartButtonEl.classList.remove('colab-df-spinner');\n",
              "      quickchartButtonEl.classList.add('colab-df-quickchart-complete');\n",
              "    }\n",
              "    (() => {\n",
              "      let quickchartButtonEl =\n",
              "        document.querySelector('#df-ad705e7e-f2f9-4221-8f86-0477c9cc0996 button');\n",
              "      quickchartButtonEl.style.display =\n",
              "        google.colab.kernel.accessAllowed ? 'block' : 'none';\n",
              "    })();\n",
              "  </script>\n",
              "</div>\n",
              "    </div>\n",
              "  </div>\n"
            ]
          },
          "metadata": {},
          "execution_count": 8
        }
      ]
    },
    {
      "cell_type": "markdown",
      "source": [
        "Add home prices to the Pandas dataframe"
      ],
      "metadata": {
        "id": "tuctoes4E9h-"
      }
    },
    {
      "cell_type": "code",
      "source": [
        "boston_data.target[:5]\n",
        "# in ra giá trị target của tập boston cho 5 điểm dữ liệu đầu tiên\n",
        "# giá trị target đại diện cho giá trị trung bình ngôi nhà"
      ],
      "metadata": {
        "colab": {
          "base_uri": "https://localhost:8080/"
        },
        "id": "ZauA6GQIFARA",
        "outputId": "0c6502ac-033f-4abc-dba7-5530138d770f"
      },
      "execution_count": null,
      "outputs": [
        {
          "output_type": "execute_result",
          "data": {
            "text/plain": [
              "array([24. , 21.6, 34.7, 33.4, 36.2])"
            ]
          },
          "metadata": {},
          "execution_count": 26
        }
      ]
    },
    {
      "cell_type": "code",
      "source": [
        "print(\"Shape of the target data: \", boston_data.target.shape)\n"
      ],
      "metadata": {
        "colab": {
          "base_uri": "https://localhost:8080/"
        },
        "id": "evZHZHN1FCpu",
        "outputId": "8b6ebebd-338d-4349-82ae-01a24bbe7b2f"
      },
      "execution_count": null,
      "outputs": [
        {
          "output_type": "stream",
          "name": "stdout",
          "text": [
            "Shape of the target data:  (506,)\n"
          ]
        }
      ]
    },
    {
      "cell_type": "code",
      "source": [
        "bos_pd['PRICE']=boston_data.target\n",
        "#thêm cột PRICE gán giá trị target\n",
        "bos_pd.head()"
      ],
      "metadata": {
        "colab": {
          "base_uri": "https://localhost:8080/",
          "height": 206
        },
        "id": "1oU08Y6vFFHH",
        "outputId": "0db9e81f-22e3-4bb1-b5d5-5b77374a81d2"
      },
      "execution_count": null,
      "outputs": [
        {
          "output_type": "execute_result",
          "data": {
            "text/plain": [
              "      CRIM    ZN  INDUS  CHAS    NOX     RM   AGE     DIS  RAD    TAX  \\\n",
              "0  0.00632  18.0   2.31   0.0  0.538  6.575  65.2  4.0900  1.0  296.0   \n",
              "1  0.02731   0.0   7.07   0.0  0.469  6.421  78.9  4.9671  2.0  242.0   \n",
              "2  0.02729   0.0   7.07   0.0  0.469  7.185  61.1  4.9671  2.0  242.0   \n",
              "3  0.03237   0.0   2.18   0.0  0.458  6.998  45.8  6.0622  3.0  222.0   \n",
              "4  0.06905   0.0   2.18   0.0  0.458  7.147  54.2  6.0622  3.0  222.0   \n",
              "\n",
              "   PTRATIO       B  LSTAT  PRICE  \n",
              "0     15.3  396.90   4.98   24.0  \n",
              "1     17.8  396.90   9.14   21.6  \n",
              "2     17.8  392.83   4.03   34.7  \n",
              "3     18.7  394.63   2.94   33.4  \n",
              "4     18.7  396.90   5.33   36.2  "
            ],
            "text/html": [
              "\n",
              "  <div id=\"df-8187607b-482e-424e-bc96-725d78b47e28\" class=\"colab-df-container\">\n",
              "    <div>\n",
              "<style scoped>\n",
              "    .dataframe tbody tr th:only-of-type {\n",
              "        vertical-align: middle;\n",
              "    }\n",
              "\n",
              "    .dataframe tbody tr th {\n",
              "        vertical-align: top;\n",
              "    }\n",
              "\n",
              "    .dataframe thead th {\n",
              "        text-align: right;\n",
              "    }\n",
              "</style>\n",
              "<table border=\"1\" class=\"dataframe\">\n",
              "  <thead>\n",
              "    <tr style=\"text-align: right;\">\n",
              "      <th></th>\n",
              "      <th>CRIM</th>\n",
              "      <th>ZN</th>\n",
              "      <th>INDUS</th>\n",
              "      <th>CHAS</th>\n",
              "      <th>NOX</th>\n",
              "      <th>RM</th>\n",
              "      <th>AGE</th>\n",
              "      <th>DIS</th>\n",
              "      <th>RAD</th>\n",
              "      <th>TAX</th>\n",
              "      <th>PTRATIO</th>\n",
              "      <th>B</th>\n",
              "      <th>LSTAT</th>\n",
              "      <th>PRICE</th>\n",
              "    </tr>\n",
              "  </thead>\n",
              "  <tbody>\n",
              "    <tr>\n",
              "      <th>0</th>\n",
              "      <td>0.00632</td>\n",
              "      <td>18.0</td>\n",
              "      <td>2.31</td>\n",
              "      <td>0.0</td>\n",
              "      <td>0.538</td>\n",
              "      <td>6.575</td>\n",
              "      <td>65.2</td>\n",
              "      <td>4.0900</td>\n",
              "      <td>1.0</td>\n",
              "      <td>296.0</td>\n",
              "      <td>15.3</td>\n",
              "      <td>396.90</td>\n",
              "      <td>4.98</td>\n",
              "      <td>24.0</td>\n",
              "    </tr>\n",
              "    <tr>\n",
              "      <th>1</th>\n",
              "      <td>0.02731</td>\n",
              "      <td>0.0</td>\n",
              "      <td>7.07</td>\n",
              "      <td>0.0</td>\n",
              "      <td>0.469</td>\n",
              "      <td>6.421</td>\n",
              "      <td>78.9</td>\n",
              "      <td>4.9671</td>\n",
              "      <td>2.0</td>\n",
              "      <td>242.0</td>\n",
              "      <td>17.8</td>\n",
              "      <td>396.90</td>\n",
              "      <td>9.14</td>\n",
              "      <td>21.6</td>\n",
              "    </tr>\n",
              "    <tr>\n",
              "      <th>2</th>\n",
              "      <td>0.02729</td>\n",
              "      <td>0.0</td>\n",
              "      <td>7.07</td>\n",
              "      <td>0.0</td>\n",
              "      <td>0.469</td>\n",
              "      <td>7.185</td>\n",
              "      <td>61.1</td>\n",
              "      <td>4.9671</td>\n",
              "      <td>2.0</td>\n",
              "      <td>242.0</td>\n",
              "      <td>17.8</td>\n",
              "      <td>392.83</td>\n",
              "      <td>4.03</td>\n",
              "      <td>34.7</td>\n",
              "    </tr>\n",
              "    <tr>\n",
              "      <th>3</th>\n",
              "      <td>0.03237</td>\n",
              "      <td>0.0</td>\n",
              "      <td>2.18</td>\n",
              "      <td>0.0</td>\n",
              "      <td>0.458</td>\n",
              "      <td>6.998</td>\n",
              "      <td>45.8</td>\n",
              "      <td>6.0622</td>\n",
              "      <td>3.0</td>\n",
              "      <td>222.0</td>\n",
              "      <td>18.7</td>\n",
              "      <td>394.63</td>\n",
              "      <td>2.94</td>\n",
              "      <td>33.4</td>\n",
              "    </tr>\n",
              "    <tr>\n",
              "      <th>4</th>\n",
              "      <td>0.06905</td>\n",
              "      <td>0.0</td>\n",
              "      <td>2.18</td>\n",
              "      <td>0.0</td>\n",
              "      <td>0.458</td>\n",
              "      <td>7.147</td>\n",
              "      <td>54.2</td>\n",
              "      <td>6.0622</td>\n",
              "      <td>3.0</td>\n",
              "      <td>222.0</td>\n",
              "      <td>18.7</td>\n",
              "      <td>396.90</td>\n",
              "      <td>5.33</td>\n",
              "      <td>36.2</td>\n",
              "    </tr>\n",
              "  </tbody>\n",
              "</table>\n",
              "</div>\n",
              "    <div class=\"colab-df-buttons\">\n",
              "\n",
              "  <div class=\"colab-df-container\">\n",
              "    <button class=\"colab-df-convert\" onclick=\"convertToInteractive('df-8187607b-482e-424e-bc96-725d78b47e28')\"\n",
              "            title=\"Convert this dataframe to an interactive table.\"\n",
              "            style=\"display:none;\">\n",
              "\n",
              "  <svg xmlns=\"http://www.w3.org/2000/svg\" height=\"24px\" viewBox=\"0 -960 960 960\">\n",
              "    <path d=\"M120-120v-720h720v720H120Zm60-500h600v-160H180v160Zm220 220h160v-160H400v160Zm0 220h160v-160H400v160ZM180-400h160v-160H180v160Zm440 0h160v-160H620v160ZM180-180h160v-160H180v160Zm440 0h160v-160H620v160Z\"/>\n",
              "  </svg>\n",
              "    </button>\n",
              "\n",
              "  <style>\n",
              "    .colab-df-container {\n",
              "      display:flex;\n",
              "      gap: 12px;\n",
              "    }\n",
              "\n",
              "    .colab-df-convert {\n",
              "      background-color: #E8F0FE;\n",
              "      border: none;\n",
              "      border-radius: 50%;\n",
              "      cursor: pointer;\n",
              "      display: none;\n",
              "      fill: #1967D2;\n",
              "      height: 32px;\n",
              "      padding: 0 0 0 0;\n",
              "      width: 32px;\n",
              "    }\n",
              "\n",
              "    .colab-df-convert:hover {\n",
              "      background-color: #E2EBFA;\n",
              "      box-shadow: 0px 1px 2px rgba(60, 64, 67, 0.3), 0px 1px 3px 1px rgba(60, 64, 67, 0.15);\n",
              "      fill: #174EA6;\n",
              "    }\n",
              "\n",
              "    .colab-df-buttons div {\n",
              "      margin-bottom: 4px;\n",
              "    }\n",
              "\n",
              "    [theme=dark] .colab-df-convert {\n",
              "      background-color: #3B4455;\n",
              "      fill: #D2E3FC;\n",
              "    }\n",
              "\n",
              "    [theme=dark] .colab-df-convert:hover {\n",
              "      background-color: #434B5C;\n",
              "      box-shadow: 0px 1px 3px 1px rgba(0, 0, 0, 0.15);\n",
              "      filter: drop-shadow(0px 1px 2px rgba(0, 0, 0, 0.3));\n",
              "      fill: #FFFFFF;\n",
              "    }\n",
              "  </style>\n",
              "\n",
              "    <script>\n",
              "      const buttonEl =\n",
              "        document.querySelector('#df-8187607b-482e-424e-bc96-725d78b47e28 button.colab-df-convert');\n",
              "      buttonEl.style.display =\n",
              "        google.colab.kernel.accessAllowed ? 'block' : 'none';\n",
              "\n",
              "      async function convertToInteractive(key) {\n",
              "        const element = document.querySelector('#df-8187607b-482e-424e-bc96-725d78b47e28');\n",
              "        const dataTable =\n",
              "          await google.colab.kernel.invokeFunction('convertToInteractive',\n",
              "                                                    [key], {});\n",
              "        if (!dataTable) return;\n",
              "\n",
              "        const docLinkHtml = 'Like what you see? Visit the ' +\n",
              "          '<a target=\"_blank\" href=https://colab.research.google.com/notebooks/data_table.ipynb>data table notebook</a>'\n",
              "          + ' to learn more about interactive tables.';\n",
              "        element.innerHTML = '';\n",
              "        dataTable['output_type'] = 'display_data';\n",
              "        await google.colab.output.renderOutput(dataTable, element);\n",
              "        const docLink = document.createElement('div');\n",
              "        docLink.innerHTML = docLinkHtml;\n",
              "        element.appendChild(docLink);\n",
              "      }\n",
              "    </script>\n",
              "  </div>\n",
              "\n",
              "\n",
              "<div id=\"df-075d81fd-e110-43ed-8c74-c2c4d21fa026\">\n",
              "  <button class=\"colab-df-quickchart\" onclick=\"quickchart('df-075d81fd-e110-43ed-8c74-c2c4d21fa026')\"\n",
              "            title=\"Suggest charts.\"\n",
              "            style=\"display:none;\">\n",
              "\n",
              "<svg xmlns=\"http://www.w3.org/2000/svg\" height=\"24px\"viewBox=\"0 0 24 24\"\n",
              "     width=\"24px\">\n",
              "    <g>\n",
              "        <path d=\"M19 3H5c-1.1 0-2 .9-2 2v14c0 1.1.9 2 2 2h14c1.1 0 2-.9 2-2V5c0-1.1-.9-2-2-2zM9 17H7v-7h2v7zm4 0h-2V7h2v10zm4 0h-2v-4h2v4z\"/>\n",
              "    </g>\n",
              "</svg>\n",
              "  </button>\n",
              "\n",
              "<style>\n",
              "  .colab-df-quickchart {\n",
              "      --bg-color: #E8F0FE;\n",
              "      --fill-color: #1967D2;\n",
              "      --hover-bg-color: #E2EBFA;\n",
              "      --hover-fill-color: #174EA6;\n",
              "      --disabled-fill-color: #AAA;\n",
              "      --disabled-bg-color: #DDD;\n",
              "  }\n",
              "\n",
              "  [theme=dark] .colab-df-quickchart {\n",
              "      --bg-color: #3B4455;\n",
              "      --fill-color: #D2E3FC;\n",
              "      --hover-bg-color: #434B5C;\n",
              "      --hover-fill-color: #FFFFFF;\n",
              "      --disabled-bg-color: #3B4455;\n",
              "      --disabled-fill-color: #666;\n",
              "  }\n",
              "\n",
              "  .colab-df-quickchart {\n",
              "    background-color: var(--bg-color);\n",
              "    border: none;\n",
              "    border-radius: 50%;\n",
              "    cursor: pointer;\n",
              "    display: none;\n",
              "    fill: var(--fill-color);\n",
              "    height: 32px;\n",
              "    padding: 0;\n",
              "    width: 32px;\n",
              "  }\n",
              "\n",
              "  .colab-df-quickchart:hover {\n",
              "    background-color: var(--hover-bg-color);\n",
              "    box-shadow: 0 1px 2px rgba(60, 64, 67, 0.3), 0 1px 3px 1px rgba(60, 64, 67, 0.15);\n",
              "    fill: var(--button-hover-fill-color);\n",
              "  }\n",
              "\n",
              "  .colab-df-quickchart-complete:disabled,\n",
              "  .colab-df-quickchart-complete:disabled:hover {\n",
              "    background-color: var(--disabled-bg-color);\n",
              "    fill: var(--disabled-fill-color);\n",
              "    box-shadow: none;\n",
              "  }\n",
              "\n",
              "  .colab-df-spinner {\n",
              "    border: 2px solid var(--fill-color);\n",
              "    border-color: transparent;\n",
              "    border-bottom-color: var(--fill-color);\n",
              "    animation:\n",
              "      spin 1s steps(1) infinite;\n",
              "  }\n",
              "\n",
              "  @keyframes spin {\n",
              "    0% {\n",
              "      border-color: transparent;\n",
              "      border-bottom-color: var(--fill-color);\n",
              "      border-left-color: var(--fill-color);\n",
              "    }\n",
              "    20% {\n",
              "      border-color: transparent;\n",
              "      border-left-color: var(--fill-color);\n",
              "      border-top-color: var(--fill-color);\n",
              "    }\n",
              "    30% {\n",
              "      border-color: transparent;\n",
              "      border-left-color: var(--fill-color);\n",
              "      border-top-color: var(--fill-color);\n",
              "      border-right-color: var(--fill-color);\n",
              "    }\n",
              "    40% {\n",
              "      border-color: transparent;\n",
              "      border-right-color: var(--fill-color);\n",
              "      border-top-color: var(--fill-color);\n",
              "    }\n",
              "    60% {\n",
              "      border-color: transparent;\n",
              "      border-right-color: var(--fill-color);\n",
              "    }\n",
              "    80% {\n",
              "      border-color: transparent;\n",
              "      border-right-color: var(--fill-color);\n",
              "      border-bottom-color: var(--fill-color);\n",
              "    }\n",
              "    90% {\n",
              "      border-color: transparent;\n",
              "      border-bottom-color: var(--fill-color);\n",
              "    }\n",
              "  }\n",
              "</style>\n",
              "\n",
              "  <script>\n",
              "    async function quickchart(key) {\n",
              "      const quickchartButtonEl =\n",
              "        document.querySelector('#' + key + ' button');\n",
              "      quickchartButtonEl.disabled = true;  // To prevent multiple clicks.\n",
              "      quickchartButtonEl.classList.add('colab-df-spinner');\n",
              "      try {\n",
              "        const charts = await google.colab.kernel.invokeFunction(\n",
              "            'suggestCharts', [key], {});\n",
              "      } catch (error) {\n",
              "        console.error('Error during call to suggestCharts:', error);\n",
              "      }\n",
              "      quickchartButtonEl.classList.remove('colab-df-spinner');\n",
              "      quickchartButtonEl.classList.add('colab-df-quickchart-complete');\n",
              "    }\n",
              "    (() => {\n",
              "      let quickchartButtonEl =\n",
              "        document.querySelector('#df-075d81fd-e110-43ed-8c74-c2c4d21fa026 button');\n",
              "      quickchartButtonEl.style.display =\n",
              "        google.colab.kernel.accessAllowed ? 'block' : 'none';\n",
              "    })();\n",
              "  </script>\n",
              "</div>\n",
              "    </div>\n",
              "  </div>\n"
            ]
          },
          "metadata": {},
          "execution_count": 28
        }
      ]
    },
    {
      "cell_type": "code",
      "source": [
        "bos_pd.dtypes\n",
        "# in ra kiểu dữ liệu của các columns trong bos_pd\n",
        "#tất cả đều float có thể tính toán nên không cần chuyển"
      ],
      "metadata": {
        "colab": {
          "base_uri": "https://localhost:8080/"
        },
        "id": "ILin7VuQFHx_",
        "outputId": "2ce87106-90ae-4f92-f4db-f08bdca56ee8"
      },
      "execution_count": null,
      "outputs": [
        {
          "output_type": "execute_result",
          "data": {
            "text/plain": [
              "CRIM       float64\n",
              "ZN         float64\n",
              "INDUS      float64\n",
              "CHAS       float64\n",
              "NOX        float64\n",
              "RM         float64\n",
              "AGE        float64\n",
              "DIS        float64\n",
              "RAD        float64\n",
              "TAX        float64\n",
              "PTRATIO    float64\n",
              "B          float64\n",
              "LSTAT      float64\n",
              "PRICE      float64\n",
              "dtype: object"
            ]
          },
          "metadata": {},
          "execution_count": 29
        }
      ]
    },
    {
      "cell_type": "markdown",
      "source": [
        "### Exploratory Data Analysis"
      ],
      "metadata": {
        "id": "ragYvWYbFMuO"
      }
    },
    {
      "cell_type": "markdown",
      "source": [
        "Check Missing Values"
      ],
      "metadata": {
        "id": "FZtx18f3FT0Q"
      }
    },
    {
      "cell_type": "code",
      "source": [
        "bos_pd.isnull().sum()\n",
        "# kiểm tra dữ liệu bị thiếu"
      ],
      "metadata": {
        "colab": {
          "base_uri": "https://localhost:8080/"
        },
        "id": "kaCk9LH4FVj_",
        "outputId": "f40150c6-a420-41e9-dc6b-4e2608335491"
      },
      "execution_count": null,
      "outputs": [
        {
          "output_type": "execute_result",
          "data": {
            "text/plain": [
              "CRIM       0\n",
              "ZN         0\n",
              "INDUS      0\n",
              "CHAS       0\n",
              "NOX        0\n",
              "RM         0\n",
              "AGE        0\n",
              "DIS        0\n",
              "RAD        0\n",
              "TAX        0\n",
              "PTRATIO    0\n",
              "B          0\n",
              "LSTAT      0\n",
              "PRICE      0\n",
              "dtype: int64"
            ]
          },
          "metadata": {},
          "execution_count": 30
        }
      ]
    },
    {
      "cell_type": "code",
      "source": [
        "bos_pd"
      ],
      "metadata": {
        "colab": {
          "base_uri": "https://localhost:8080/",
          "height": 424
        },
        "id": "vbjFqMXrFXrX",
        "outputId": "fc5e0107-5b32-4529-892c-e7b78aa4bd91"
      },
      "execution_count": null,
      "outputs": [
        {
          "output_type": "execute_result",
          "data": {
            "text/plain": [
              "        CRIM    ZN  INDUS  CHAS    NOX     RM   AGE     DIS  RAD    TAX  \\\n",
              "0    0.00632  18.0   2.31   0.0  0.538  6.575  65.2  4.0900  1.0  296.0   \n",
              "1    0.02731   0.0   7.07   0.0  0.469  6.421  78.9  4.9671  2.0  242.0   \n",
              "2    0.02729   0.0   7.07   0.0  0.469  7.185  61.1  4.9671  2.0  242.0   \n",
              "3    0.03237   0.0   2.18   0.0  0.458  6.998  45.8  6.0622  3.0  222.0   \n",
              "4    0.06905   0.0   2.18   0.0  0.458  7.147  54.2  6.0622  3.0  222.0   \n",
              "..       ...   ...    ...   ...    ...    ...   ...     ...  ...    ...   \n",
              "501  0.06263   0.0  11.93   0.0  0.573  6.593  69.1  2.4786  1.0  273.0   \n",
              "502  0.04527   0.0  11.93   0.0  0.573  6.120  76.7  2.2875  1.0  273.0   \n",
              "503  0.06076   0.0  11.93   0.0  0.573  6.976  91.0  2.1675  1.0  273.0   \n",
              "504  0.10959   0.0  11.93   0.0  0.573  6.794  89.3  2.3889  1.0  273.0   \n",
              "505  0.04741   0.0  11.93   0.0  0.573  6.030  80.8  2.5050  1.0  273.0   \n",
              "\n",
              "     PTRATIO       B  LSTAT  PRICE  \n",
              "0       15.3  396.90   4.98   24.0  \n",
              "1       17.8  396.90   9.14   21.6  \n",
              "2       17.8  392.83   4.03   34.7  \n",
              "3       18.7  394.63   2.94   33.4  \n",
              "4       18.7  396.90   5.33   36.2  \n",
              "..       ...     ...    ...    ...  \n",
              "501     21.0  391.99   9.67   22.4  \n",
              "502     21.0  396.90   9.08   20.6  \n",
              "503     21.0  396.90   5.64   23.9  \n",
              "504     21.0  393.45   6.48   22.0  \n",
              "505     21.0  396.90   7.88   11.9  \n",
              "\n",
              "[506 rows x 14 columns]"
            ],
            "text/html": [
              "\n",
              "  <div id=\"df-628bda9f-5456-40ed-8f32-fb2d5096a790\" class=\"colab-df-container\">\n",
              "    <div>\n",
              "<style scoped>\n",
              "    .dataframe tbody tr th:only-of-type {\n",
              "        vertical-align: middle;\n",
              "    }\n",
              "\n",
              "    .dataframe tbody tr th {\n",
              "        vertical-align: top;\n",
              "    }\n",
              "\n",
              "    .dataframe thead th {\n",
              "        text-align: right;\n",
              "    }\n",
              "</style>\n",
              "<table border=\"1\" class=\"dataframe\">\n",
              "  <thead>\n",
              "    <tr style=\"text-align: right;\">\n",
              "      <th></th>\n",
              "      <th>CRIM</th>\n",
              "      <th>ZN</th>\n",
              "      <th>INDUS</th>\n",
              "      <th>CHAS</th>\n",
              "      <th>NOX</th>\n",
              "      <th>RM</th>\n",
              "      <th>AGE</th>\n",
              "      <th>DIS</th>\n",
              "      <th>RAD</th>\n",
              "      <th>TAX</th>\n",
              "      <th>PTRATIO</th>\n",
              "      <th>B</th>\n",
              "      <th>LSTAT</th>\n",
              "      <th>PRICE</th>\n",
              "    </tr>\n",
              "  </thead>\n",
              "  <tbody>\n",
              "    <tr>\n",
              "      <th>0</th>\n",
              "      <td>0.00632</td>\n",
              "      <td>18.0</td>\n",
              "      <td>2.31</td>\n",
              "      <td>0.0</td>\n",
              "      <td>0.538</td>\n",
              "      <td>6.575</td>\n",
              "      <td>65.2</td>\n",
              "      <td>4.0900</td>\n",
              "      <td>1.0</td>\n",
              "      <td>296.0</td>\n",
              "      <td>15.3</td>\n",
              "      <td>396.90</td>\n",
              "      <td>4.98</td>\n",
              "      <td>24.0</td>\n",
              "    </tr>\n",
              "    <tr>\n",
              "      <th>1</th>\n",
              "      <td>0.02731</td>\n",
              "      <td>0.0</td>\n",
              "      <td>7.07</td>\n",
              "      <td>0.0</td>\n",
              "      <td>0.469</td>\n",
              "      <td>6.421</td>\n",
              "      <td>78.9</td>\n",
              "      <td>4.9671</td>\n",
              "      <td>2.0</td>\n",
              "      <td>242.0</td>\n",
              "      <td>17.8</td>\n",
              "      <td>396.90</td>\n",
              "      <td>9.14</td>\n",
              "      <td>21.6</td>\n",
              "    </tr>\n",
              "    <tr>\n",
              "      <th>2</th>\n",
              "      <td>0.02729</td>\n",
              "      <td>0.0</td>\n",
              "      <td>7.07</td>\n",
              "      <td>0.0</td>\n",
              "      <td>0.469</td>\n",
              "      <td>7.185</td>\n",
              "      <td>61.1</td>\n",
              "      <td>4.9671</td>\n",
              "      <td>2.0</td>\n",
              "      <td>242.0</td>\n",
              "      <td>17.8</td>\n",
              "      <td>392.83</td>\n",
              "      <td>4.03</td>\n",
              "      <td>34.7</td>\n",
              "    </tr>\n",
              "    <tr>\n",
              "      <th>3</th>\n",
              "      <td>0.03237</td>\n",
              "      <td>0.0</td>\n",
              "      <td>2.18</td>\n",
              "      <td>0.0</td>\n",
              "      <td>0.458</td>\n",
              "      <td>6.998</td>\n",
              "      <td>45.8</td>\n",
              "      <td>6.0622</td>\n",
              "      <td>3.0</td>\n",
              "      <td>222.0</td>\n",
              "      <td>18.7</td>\n",
              "      <td>394.63</td>\n",
              "      <td>2.94</td>\n",
              "      <td>33.4</td>\n",
              "    </tr>\n",
              "    <tr>\n",
              "      <th>4</th>\n",
              "      <td>0.06905</td>\n",
              "      <td>0.0</td>\n",
              "      <td>2.18</td>\n",
              "      <td>0.0</td>\n",
              "      <td>0.458</td>\n",
              "      <td>7.147</td>\n",
              "      <td>54.2</td>\n",
              "      <td>6.0622</td>\n",
              "      <td>3.0</td>\n",
              "      <td>222.0</td>\n",
              "      <td>18.7</td>\n",
              "      <td>396.90</td>\n",
              "      <td>5.33</td>\n",
              "      <td>36.2</td>\n",
              "    </tr>\n",
              "    <tr>\n",
              "      <th>...</th>\n",
              "      <td>...</td>\n",
              "      <td>...</td>\n",
              "      <td>...</td>\n",
              "      <td>...</td>\n",
              "      <td>...</td>\n",
              "      <td>...</td>\n",
              "      <td>...</td>\n",
              "      <td>...</td>\n",
              "      <td>...</td>\n",
              "      <td>...</td>\n",
              "      <td>...</td>\n",
              "      <td>...</td>\n",
              "      <td>...</td>\n",
              "      <td>...</td>\n",
              "    </tr>\n",
              "    <tr>\n",
              "      <th>501</th>\n",
              "      <td>0.06263</td>\n",
              "      <td>0.0</td>\n",
              "      <td>11.93</td>\n",
              "      <td>0.0</td>\n",
              "      <td>0.573</td>\n",
              "      <td>6.593</td>\n",
              "      <td>69.1</td>\n",
              "      <td>2.4786</td>\n",
              "      <td>1.0</td>\n",
              "      <td>273.0</td>\n",
              "      <td>21.0</td>\n",
              "      <td>391.99</td>\n",
              "      <td>9.67</td>\n",
              "      <td>22.4</td>\n",
              "    </tr>\n",
              "    <tr>\n",
              "      <th>502</th>\n",
              "      <td>0.04527</td>\n",
              "      <td>0.0</td>\n",
              "      <td>11.93</td>\n",
              "      <td>0.0</td>\n",
              "      <td>0.573</td>\n",
              "      <td>6.120</td>\n",
              "      <td>76.7</td>\n",
              "      <td>2.2875</td>\n",
              "      <td>1.0</td>\n",
              "      <td>273.0</td>\n",
              "      <td>21.0</td>\n",
              "      <td>396.90</td>\n",
              "      <td>9.08</td>\n",
              "      <td>20.6</td>\n",
              "    </tr>\n",
              "    <tr>\n",
              "      <th>503</th>\n",
              "      <td>0.06076</td>\n",
              "      <td>0.0</td>\n",
              "      <td>11.93</td>\n",
              "      <td>0.0</td>\n",
              "      <td>0.573</td>\n",
              "      <td>6.976</td>\n",
              "      <td>91.0</td>\n",
              "      <td>2.1675</td>\n",
              "      <td>1.0</td>\n",
              "      <td>273.0</td>\n",
              "      <td>21.0</td>\n",
              "      <td>396.90</td>\n",
              "      <td>5.64</td>\n",
              "      <td>23.9</td>\n",
              "    </tr>\n",
              "    <tr>\n",
              "      <th>504</th>\n",
              "      <td>0.10959</td>\n",
              "      <td>0.0</td>\n",
              "      <td>11.93</td>\n",
              "      <td>0.0</td>\n",
              "      <td>0.573</td>\n",
              "      <td>6.794</td>\n",
              "      <td>89.3</td>\n",
              "      <td>2.3889</td>\n",
              "      <td>1.0</td>\n",
              "      <td>273.0</td>\n",
              "      <td>21.0</td>\n",
              "      <td>393.45</td>\n",
              "      <td>6.48</td>\n",
              "      <td>22.0</td>\n",
              "    </tr>\n",
              "    <tr>\n",
              "      <th>505</th>\n",
              "      <td>0.04741</td>\n",
              "      <td>0.0</td>\n",
              "      <td>11.93</td>\n",
              "      <td>0.0</td>\n",
              "      <td>0.573</td>\n",
              "      <td>6.030</td>\n",
              "      <td>80.8</td>\n",
              "      <td>2.5050</td>\n",
              "      <td>1.0</td>\n",
              "      <td>273.0</td>\n",
              "      <td>21.0</td>\n",
              "      <td>396.90</td>\n",
              "      <td>7.88</td>\n",
              "      <td>11.9</td>\n",
              "    </tr>\n",
              "  </tbody>\n",
              "</table>\n",
              "<p>506 rows × 14 columns</p>\n",
              "</div>\n",
              "    <div class=\"colab-df-buttons\">\n",
              "\n",
              "  <div class=\"colab-df-container\">\n",
              "    <button class=\"colab-df-convert\" onclick=\"convertToInteractive('df-628bda9f-5456-40ed-8f32-fb2d5096a790')\"\n",
              "            title=\"Convert this dataframe to an interactive table.\"\n",
              "            style=\"display:none;\">\n",
              "\n",
              "  <svg xmlns=\"http://www.w3.org/2000/svg\" height=\"24px\" viewBox=\"0 -960 960 960\">\n",
              "    <path d=\"M120-120v-720h720v720H120Zm60-500h600v-160H180v160Zm220 220h160v-160H400v160Zm0 220h160v-160H400v160ZM180-400h160v-160H180v160Zm440 0h160v-160H620v160ZM180-180h160v-160H180v160Zm440 0h160v-160H620v160Z\"/>\n",
              "  </svg>\n",
              "    </button>\n",
              "\n",
              "  <style>\n",
              "    .colab-df-container {\n",
              "      display:flex;\n",
              "      gap: 12px;\n",
              "    }\n",
              "\n",
              "    .colab-df-convert {\n",
              "      background-color: #E8F0FE;\n",
              "      border: none;\n",
              "      border-radius: 50%;\n",
              "      cursor: pointer;\n",
              "      display: none;\n",
              "      fill: #1967D2;\n",
              "      height: 32px;\n",
              "      padding: 0 0 0 0;\n",
              "      width: 32px;\n",
              "    }\n",
              "\n",
              "    .colab-df-convert:hover {\n",
              "      background-color: #E2EBFA;\n",
              "      box-shadow: 0px 1px 2px rgba(60, 64, 67, 0.3), 0px 1px 3px 1px rgba(60, 64, 67, 0.15);\n",
              "      fill: #174EA6;\n",
              "    }\n",
              "\n",
              "    .colab-df-buttons div {\n",
              "      margin-bottom: 4px;\n",
              "    }\n",
              "\n",
              "    [theme=dark] .colab-df-convert {\n",
              "      background-color: #3B4455;\n",
              "      fill: #D2E3FC;\n",
              "    }\n",
              "\n",
              "    [theme=dark] .colab-df-convert:hover {\n",
              "      background-color: #434B5C;\n",
              "      box-shadow: 0px 1px 3px 1px rgba(0, 0, 0, 0.15);\n",
              "      filter: drop-shadow(0px 1px 2px rgba(0, 0, 0, 0.3));\n",
              "      fill: #FFFFFF;\n",
              "    }\n",
              "  </style>\n",
              "\n",
              "    <script>\n",
              "      const buttonEl =\n",
              "        document.querySelector('#df-628bda9f-5456-40ed-8f32-fb2d5096a790 button.colab-df-convert');\n",
              "      buttonEl.style.display =\n",
              "        google.colab.kernel.accessAllowed ? 'block' : 'none';\n",
              "\n",
              "      async function convertToInteractive(key) {\n",
              "        const element = document.querySelector('#df-628bda9f-5456-40ed-8f32-fb2d5096a790');\n",
              "        const dataTable =\n",
              "          await google.colab.kernel.invokeFunction('convertToInteractive',\n",
              "                                                    [key], {});\n",
              "        if (!dataTable) return;\n",
              "\n",
              "        const docLinkHtml = 'Like what you see? Visit the ' +\n",
              "          '<a target=\"_blank\" href=https://colab.research.google.com/notebooks/data_table.ipynb>data table notebook</a>'\n",
              "          + ' to learn more about interactive tables.';\n",
              "        element.innerHTML = '';\n",
              "        dataTable['output_type'] = 'display_data';\n",
              "        await google.colab.output.renderOutput(dataTable, element);\n",
              "        const docLink = document.createElement('div');\n",
              "        docLink.innerHTML = docLinkHtml;\n",
              "        element.appendChild(docLink);\n",
              "      }\n",
              "    </script>\n",
              "  </div>\n",
              "\n",
              "\n",
              "<div id=\"df-f9c07709-9d4b-4517-bec4-6fba953caed2\">\n",
              "  <button class=\"colab-df-quickchart\" onclick=\"quickchart('df-f9c07709-9d4b-4517-bec4-6fba953caed2')\"\n",
              "            title=\"Suggest charts.\"\n",
              "            style=\"display:none;\">\n",
              "\n",
              "<svg xmlns=\"http://www.w3.org/2000/svg\" height=\"24px\"viewBox=\"0 0 24 24\"\n",
              "     width=\"24px\">\n",
              "    <g>\n",
              "        <path d=\"M19 3H5c-1.1 0-2 .9-2 2v14c0 1.1.9 2 2 2h14c1.1 0 2-.9 2-2V5c0-1.1-.9-2-2-2zM9 17H7v-7h2v7zm4 0h-2V7h2v10zm4 0h-2v-4h2v4z\"/>\n",
              "    </g>\n",
              "</svg>\n",
              "  </button>\n",
              "\n",
              "<style>\n",
              "  .colab-df-quickchart {\n",
              "      --bg-color: #E8F0FE;\n",
              "      --fill-color: #1967D2;\n",
              "      --hover-bg-color: #E2EBFA;\n",
              "      --hover-fill-color: #174EA6;\n",
              "      --disabled-fill-color: #AAA;\n",
              "      --disabled-bg-color: #DDD;\n",
              "  }\n",
              "\n",
              "  [theme=dark] .colab-df-quickchart {\n",
              "      --bg-color: #3B4455;\n",
              "      --fill-color: #D2E3FC;\n",
              "      --hover-bg-color: #434B5C;\n",
              "      --hover-fill-color: #FFFFFF;\n",
              "      --disabled-bg-color: #3B4455;\n",
              "      --disabled-fill-color: #666;\n",
              "  }\n",
              "\n",
              "  .colab-df-quickchart {\n",
              "    background-color: var(--bg-color);\n",
              "    border: none;\n",
              "    border-radius: 50%;\n",
              "    cursor: pointer;\n",
              "    display: none;\n",
              "    fill: var(--fill-color);\n",
              "    height: 32px;\n",
              "    padding: 0;\n",
              "    width: 32px;\n",
              "  }\n",
              "\n",
              "  .colab-df-quickchart:hover {\n",
              "    background-color: var(--hover-bg-color);\n",
              "    box-shadow: 0 1px 2px rgba(60, 64, 67, 0.3), 0 1px 3px 1px rgba(60, 64, 67, 0.15);\n",
              "    fill: var(--button-hover-fill-color);\n",
              "  }\n",
              "\n",
              "  .colab-df-quickchart-complete:disabled,\n",
              "  .colab-df-quickchart-complete:disabled:hover {\n",
              "    background-color: var(--disabled-bg-color);\n",
              "    fill: var(--disabled-fill-color);\n",
              "    box-shadow: none;\n",
              "  }\n",
              "\n",
              "  .colab-df-spinner {\n",
              "    border: 2px solid var(--fill-color);\n",
              "    border-color: transparent;\n",
              "    border-bottom-color: var(--fill-color);\n",
              "    animation:\n",
              "      spin 1s steps(1) infinite;\n",
              "  }\n",
              "\n",
              "  @keyframes spin {\n",
              "    0% {\n",
              "      border-color: transparent;\n",
              "      border-bottom-color: var(--fill-color);\n",
              "      border-left-color: var(--fill-color);\n",
              "    }\n",
              "    20% {\n",
              "      border-color: transparent;\n",
              "      border-left-color: var(--fill-color);\n",
              "      border-top-color: var(--fill-color);\n",
              "    }\n",
              "    30% {\n",
              "      border-color: transparent;\n",
              "      border-left-color: var(--fill-color);\n",
              "      border-top-color: var(--fill-color);\n",
              "      border-right-color: var(--fill-color);\n",
              "    }\n",
              "    40% {\n",
              "      border-color: transparent;\n",
              "      border-right-color: var(--fill-color);\n",
              "      border-top-color: var(--fill-color);\n",
              "    }\n",
              "    60% {\n",
              "      border-color: transparent;\n",
              "      border-right-color: var(--fill-color);\n",
              "    }\n",
              "    80% {\n",
              "      border-color: transparent;\n",
              "      border-right-color: var(--fill-color);\n",
              "      border-bottom-color: var(--fill-color);\n",
              "    }\n",
              "    90% {\n",
              "      border-color: transparent;\n",
              "      border-bottom-color: var(--fill-color);\n",
              "    }\n",
              "  }\n",
              "</style>\n",
              "\n",
              "  <script>\n",
              "    async function quickchart(key) {\n",
              "      const quickchartButtonEl =\n",
              "        document.querySelector('#' + key + ' button');\n",
              "      quickchartButtonEl.disabled = true;  // To prevent multiple clicks.\n",
              "      quickchartButtonEl.classList.add('colab-df-spinner');\n",
              "      try {\n",
              "        const charts = await google.colab.kernel.invokeFunction(\n",
              "            'suggestCharts', [key], {});\n",
              "      } catch (error) {\n",
              "        console.error('Error during call to suggestCharts:', error);\n",
              "      }\n",
              "      quickchartButtonEl.classList.remove('colab-df-spinner');\n",
              "      quickchartButtonEl.classList.add('colab-df-quickchart-complete');\n",
              "    }\n",
              "    (() => {\n",
              "      let quickchartButtonEl =\n",
              "        document.querySelector('#df-f9c07709-9d4b-4517-bec4-6fba953caed2 button');\n",
              "      quickchartButtonEl.style.display =\n",
              "        google.colab.kernel.accessAllowed ? 'block' : 'none';\n",
              "    })();\n",
              "  </script>\n",
              "</div>\n",
              "    </div>\n",
              "  </div>\n"
            ]
          },
          "metadata": {},
          "execution_count": 31
        }
      ]
    },
    {
      "cell_type": "code",
      "source": [
        "bos_pd.describe().transpose()\n",
        "# Hàm describe() tính : count, mean, std ,min, max,..\n",
        "#transpose() chuyển đổi dataframe từ dọc thành ngang và ngược lại"
      ],
      "metadata": {
        "colab": {
          "base_uri": "https://localhost:8080/",
          "height": 488
        },
        "id": "pG552KTcFZqm",
        "outputId": "7e2adb16-8f8a-4fe4-c43b-e847052395e6"
      },
      "execution_count": null,
      "outputs": [
        {
          "output_type": "execute_result",
          "data": {
            "text/plain": [
              "         count        mean         std        min         25%        50%  \\\n",
              "CRIM     506.0    3.613524    8.601545    0.00632    0.082045    0.25651   \n",
              "ZN       506.0   11.363636   23.322453    0.00000    0.000000    0.00000   \n",
              "INDUS    506.0   11.136779    6.860353    0.46000    5.190000    9.69000   \n",
              "CHAS     506.0    0.069170    0.253994    0.00000    0.000000    0.00000   \n",
              "NOX      506.0    0.554695    0.115878    0.38500    0.449000    0.53800   \n",
              "RM       506.0    6.284634    0.702617    3.56100    5.885500    6.20850   \n",
              "AGE      506.0   68.574901   28.148861    2.90000   45.025000   77.50000   \n",
              "DIS      506.0    3.795043    2.105710    1.12960    2.100175    3.20745   \n",
              "RAD      506.0    9.549407    8.707259    1.00000    4.000000    5.00000   \n",
              "TAX      506.0  408.237154  168.537116  187.00000  279.000000  330.00000   \n",
              "PTRATIO  506.0   18.455534    2.164946   12.60000   17.400000   19.05000   \n",
              "B        506.0  356.674032   91.294864    0.32000  375.377500  391.44000   \n",
              "LSTAT    506.0   12.653063    7.141062    1.73000    6.950000   11.36000   \n",
              "PRICE    506.0   22.532806    9.197104    5.00000   17.025000   21.20000   \n",
              "\n",
              "                75%       max  \n",
              "CRIM       3.677083   88.9762  \n",
              "ZN        12.500000  100.0000  \n",
              "INDUS     18.100000   27.7400  \n",
              "CHAS       0.000000    1.0000  \n",
              "NOX        0.624000    0.8710  \n",
              "RM         6.623500    8.7800  \n",
              "AGE       94.075000  100.0000  \n",
              "DIS        5.188425   12.1265  \n",
              "RAD       24.000000   24.0000  \n",
              "TAX      666.000000  711.0000  \n",
              "PTRATIO   20.200000   22.0000  \n",
              "B        396.225000  396.9000  \n",
              "LSTAT     16.955000   37.9700  \n",
              "PRICE     25.000000   50.0000  "
            ],
            "text/html": [
              "\n",
              "  <div id=\"df-844ee845-b3f0-4ad7-b905-ea9d02260afa\" class=\"colab-df-container\">\n",
              "    <div>\n",
              "<style scoped>\n",
              "    .dataframe tbody tr th:only-of-type {\n",
              "        vertical-align: middle;\n",
              "    }\n",
              "\n",
              "    .dataframe tbody tr th {\n",
              "        vertical-align: top;\n",
              "    }\n",
              "\n",
              "    .dataframe thead th {\n",
              "        text-align: right;\n",
              "    }\n",
              "</style>\n",
              "<table border=\"1\" class=\"dataframe\">\n",
              "  <thead>\n",
              "    <tr style=\"text-align: right;\">\n",
              "      <th></th>\n",
              "      <th>count</th>\n",
              "      <th>mean</th>\n",
              "      <th>std</th>\n",
              "      <th>min</th>\n",
              "      <th>25%</th>\n",
              "      <th>50%</th>\n",
              "      <th>75%</th>\n",
              "      <th>max</th>\n",
              "    </tr>\n",
              "  </thead>\n",
              "  <tbody>\n",
              "    <tr>\n",
              "      <th>CRIM</th>\n",
              "      <td>506.0</td>\n",
              "      <td>3.613524</td>\n",
              "      <td>8.601545</td>\n",
              "      <td>0.00632</td>\n",
              "      <td>0.082045</td>\n",
              "      <td>0.25651</td>\n",
              "      <td>3.677083</td>\n",
              "      <td>88.9762</td>\n",
              "    </tr>\n",
              "    <tr>\n",
              "      <th>ZN</th>\n",
              "      <td>506.0</td>\n",
              "      <td>11.363636</td>\n",
              "      <td>23.322453</td>\n",
              "      <td>0.00000</td>\n",
              "      <td>0.000000</td>\n",
              "      <td>0.00000</td>\n",
              "      <td>12.500000</td>\n",
              "      <td>100.0000</td>\n",
              "    </tr>\n",
              "    <tr>\n",
              "      <th>INDUS</th>\n",
              "      <td>506.0</td>\n",
              "      <td>11.136779</td>\n",
              "      <td>6.860353</td>\n",
              "      <td>0.46000</td>\n",
              "      <td>5.190000</td>\n",
              "      <td>9.69000</td>\n",
              "      <td>18.100000</td>\n",
              "      <td>27.7400</td>\n",
              "    </tr>\n",
              "    <tr>\n",
              "      <th>CHAS</th>\n",
              "      <td>506.0</td>\n",
              "      <td>0.069170</td>\n",
              "      <td>0.253994</td>\n",
              "      <td>0.00000</td>\n",
              "      <td>0.000000</td>\n",
              "      <td>0.00000</td>\n",
              "      <td>0.000000</td>\n",
              "      <td>1.0000</td>\n",
              "    </tr>\n",
              "    <tr>\n",
              "      <th>NOX</th>\n",
              "      <td>506.0</td>\n",
              "      <td>0.554695</td>\n",
              "      <td>0.115878</td>\n",
              "      <td>0.38500</td>\n",
              "      <td>0.449000</td>\n",
              "      <td>0.53800</td>\n",
              "      <td>0.624000</td>\n",
              "      <td>0.8710</td>\n",
              "    </tr>\n",
              "    <tr>\n",
              "      <th>RM</th>\n",
              "      <td>506.0</td>\n",
              "      <td>6.284634</td>\n",
              "      <td>0.702617</td>\n",
              "      <td>3.56100</td>\n",
              "      <td>5.885500</td>\n",
              "      <td>6.20850</td>\n",
              "      <td>6.623500</td>\n",
              "      <td>8.7800</td>\n",
              "    </tr>\n",
              "    <tr>\n",
              "      <th>AGE</th>\n",
              "      <td>506.0</td>\n",
              "      <td>68.574901</td>\n",
              "      <td>28.148861</td>\n",
              "      <td>2.90000</td>\n",
              "      <td>45.025000</td>\n",
              "      <td>77.50000</td>\n",
              "      <td>94.075000</td>\n",
              "      <td>100.0000</td>\n",
              "    </tr>\n",
              "    <tr>\n",
              "      <th>DIS</th>\n",
              "      <td>506.0</td>\n",
              "      <td>3.795043</td>\n",
              "      <td>2.105710</td>\n",
              "      <td>1.12960</td>\n",
              "      <td>2.100175</td>\n",
              "      <td>3.20745</td>\n",
              "      <td>5.188425</td>\n",
              "      <td>12.1265</td>\n",
              "    </tr>\n",
              "    <tr>\n",
              "      <th>RAD</th>\n",
              "      <td>506.0</td>\n",
              "      <td>9.549407</td>\n",
              "      <td>8.707259</td>\n",
              "      <td>1.00000</td>\n",
              "      <td>4.000000</td>\n",
              "      <td>5.00000</td>\n",
              "      <td>24.000000</td>\n",
              "      <td>24.0000</td>\n",
              "    </tr>\n",
              "    <tr>\n",
              "      <th>TAX</th>\n",
              "      <td>506.0</td>\n",
              "      <td>408.237154</td>\n",
              "      <td>168.537116</td>\n",
              "      <td>187.00000</td>\n",
              "      <td>279.000000</td>\n",
              "      <td>330.00000</td>\n",
              "      <td>666.000000</td>\n",
              "      <td>711.0000</td>\n",
              "    </tr>\n",
              "    <tr>\n",
              "      <th>PTRATIO</th>\n",
              "      <td>506.0</td>\n",
              "      <td>18.455534</td>\n",
              "      <td>2.164946</td>\n",
              "      <td>12.60000</td>\n",
              "      <td>17.400000</td>\n",
              "      <td>19.05000</td>\n",
              "      <td>20.200000</td>\n",
              "      <td>22.0000</td>\n",
              "    </tr>\n",
              "    <tr>\n",
              "      <th>B</th>\n",
              "      <td>506.0</td>\n",
              "      <td>356.674032</td>\n",
              "      <td>91.294864</td>\n",
              "      <td>0.32000</td>\n",
              "      <td>375.377500</td>\n",
              "      <td>391.44000</td>\n",
              "      <td>396.225000</td>\n",
              "      <td>396.9000</td>\n",
              "    </tr>\n",
              "    <tr>\n",
              "      <th>LSTAT</th>\n",
              "      <td>506.0</td>\n",
              "      <td>12.653063</td>\n",
              "      <td>7.141062</td>\n",
              "      <td>1.73000</td>\n",
              "      <td>6.950000</td>\n",
              "      <td>11.36000</td>\n",
              "      <td>16.955000</td>\n",
              "      <td>37.9700</td>\n",
              "    </tr>\n",
              "    <tr>\n",
              "      <th>PRICE</th>\n",
              "      <td>506.0</td>\n",
              "      <td>22.532806</td>\n",
              "      <td>9.197104</td>\n",
              "      <td>5.00000</td>\n",
              "      <td>17.025000</td>\n",
              "      <td>21.20000</td>\n",
              "      <td>25.000000</td>\n",
              "      <td>50.0000</td>\n",
              "    </tr>\n",
              "  </tbody>\n",
              "</table>\n",
              "</div>\n",
              "    <div class=\"colab-df-buttons\">\n",
              "\n",
              "  <div class=\"colab-df-container\">\n",
              "    <button class=\"colab-df-convert\" onclick=\"convertToInteractive('df-844ee845-b3f0-4ad7-b905-ea9d02260afa')\"\n",
              "            title=\"Convert this dataframe to an interactive table.\"\n",
              "            style=\"display:none;\">\n",
              "\n",
              "  <svg xmlns=\"http://www.w3.org/2000/svg\" height=\"24px\" viewBox=\"0 -960 960 960\">\n",
              "    <path d=\"M120-120v-720h720v720H120Zm60-500h600v-160H180v160Zm220 220h160v-160H400v160Zm0 220h160v-160H400v160ZM180-400h160v-160H180v160Zm440 0h160v-160H620v160ZM180-180h160v-160H180v160Zm440 0h160v-160H620v160Z\"/>\n",
              "  </svg>\n",
              "    </button>\n",
              "\n",
              "  <style>\n",
              "    .colab-df-container {\n",
              "      display:flex;\n",
              "      gap: 12px;\n",
              "    }\n",
              "\n",
              "    .colab-df-convert {\n",
              "      background-color: #E8F0FE;\n",
              "      border: none;\n",
              "      border-radius: 50%;\n",
              "      cursor: pointer;\n",
              "      display: none;\n",
              "      fill: #1967D2;\n",
              "      height: 32px;\n",
              "      padding: 0 0 0 0;\n",
              "      width: 32px;\n",
              "    }\n",
              "\n",
              "    .colab-df-convert:hover {\n",
              "      background-color: #E2EBFA;\n",
              "      box-shadow: 0px 1px 2px rgba(60, 64, 67, 0.3), 0px 1px 3px 1px rgba(60, 64, 67, 0.15);\n",
              "      fill: #174EA6;\n",
              "    }\n",
              "\n",
              "    .colab-df-buttons div {\n",
              "      margin-bottom: 4px;\n",
              "    }\n",
              "\n",
              "    [theme=dark] .colab-df-convert {\n",
              "      background-color: #3B4455;\n",
              "      fill: #D2E3FC;\n",
              "    }\n",
              "\n",
              "    [theme=dark] .colab-df-convert:hover {\n",
              "      background-color: #434B5C;\n",
              "      box-shadow: 0px 1px 3px 1px rgba(0, 0, 0, 0.15);\n",
              "      filter: drop-shadow(0px 1px 2px rgba(0, 0, 0, 0.3));\n",
              "      fill: #FFFFFF;\n",
              "    }\n",
              "  </style>\n",
              "\n",
              "    <script>\n",
              "      const buttonEl =\n",
              "        document.querySelector('#df-844ee845-b3f0-4ad7-b905-ea9d02260afa button.colab-df-convert');\n",
              "      buttonEl.style.display =\n",
              "        google.colab.kernel.accessAllowed ? 'block' : 'none';\n",
              "\n",
              "      async function convertToInteractive(key) {\n",
              "        const element = document.querySelector('#df-844ee845-b3f0-4ad7-b905-ea9d02260afa');\n",
              "        const dataTable =\n",
              "          await google.colab.kernel.invokeFunction('convertToInteractive',\n",
              "                                                    [key], {});\n",
              "        if (!dataTable) return;\n",
              "\n",
              "        const docLinkHtml = 'Like what you see? Visit the ' +\n",
              "          '<a target=\"_blank\" href=https://colab.research.google.com/notebooks/data_table.ipynb>data table notebook</a>'\n",
              "          + ' to learn more about interactive tables.';\n",
              "        element.innerHTML = '';\n",
              "        dataTable['output_type'] = 'display_data';\n",
              "        await google.colab.output.renderOutput(dataTable, element);\n",
              "        const docLink = document.createElement('div');\n",
              "        docLink.innerHTML = docLinkHtml;\n",
              "        element.appendChild(docLink);\n",
              "      }\n",
              "    </script>\n",
              "  </div>\n",
              "\n",
              "\n",
              "<div id=\"df-0339ca92-6572-4545-bbce-366f65a6c76c\">\n",
              "  <button class=\"colab-df-quickchart\" onclick=\"quickchart('df-0339ca92-6572-4545-bbce-366f65a6c76c')\"\n",
              "            title=\"Suggest charts.\"\n",
              "            style=\"display:none;\">\n",
              "\n",
              "<svg xmlns=\"http://www.w3.org/2000/svg\" height=\"24px\"viewBox=\"0 0 24 24\"\n",
              "     width=\"24px\">\n",
              "    <g>\n",
              "        <path d=\"M19 3H5c-1.1 0-2 .9-2 2v14c0 1.1.9 2 2 2h14c1.1 0 2-.9 2-2V5c0-1.1-.9-2-2-2zM9 17H7v-7h2v7zm4 0h-2V7h2v10zm4 0h-2v-4h2v4z\"/>\n",
              "    </g>\n",
              "</svg>\n",
              "  </button>\n",
              "\n",
              "<style>\n",
              "  .colab-df-quickchart {\n",
              "      --bg-color: #E8F0FE;\n",
              "      --fill-color: #1967D2;\n",
              "      --hover-bg-color: #E2EBFA;\n",
              "      --hover-fill-color: #174EA6;\n",
              "      --disabled-fill-color: #AAA;\n",
              "      --disabled-bg-color: #DDD;\n",
              "  }\n",
              "\n",
              "  [theme=dark] .colab-df-quickchart {\n",
              "      --bg-color: #3B4455;\n",
              "      --fill-color: #D2E3FC;\n",
              "      --hover-bg-color: #434B5C;\n",
              "      --hover-fill-color: #FFFFFF;\n",
              "      --disabled-bg-color: #3B4455;\n",
              "      --disabled-fill-color: #666;\n",
              "  }\n",
              "\n",
              "  .colab-df-quickchart {\n",
              "    background-color: var(--bg-color);\n",
              "    border: none;\n",
              "    border-radius: 50%;\n",
              "    cursor: pointer;\n",
              "    display: none;\n",
              "    fill: var(--fill-color);\n",
              "    height: 32px;\n",
              "    padding: 0;\n",
              "    width: 32px;\n",
              "  }\n",
              "\n",
              "  .colab-df-quickchart:hover {\n",
              "    background-color: var(--hover-bg-color);\n",
              "    box-shadow: 0 1px 2px rgba(60, 64, 67, 0.3), 0 1px 3px 1px rgba(60, 64, 67, 0.15);\n",
              "    fill: var(--button-hover-fill-color);\n",
              "  }\n",
              "\n",
              "  .colab-df-quickchart-complete:disabled,\n",
              "  .colab-df-quickchart-complete:disabled:hover {\n",
              "    background-color: var(--disabled-bg-color);\n",
              "    fill: var(--disabled-fill-color);\n",
              "    box-shadow: none;\n",
              "  }\n",
              "\n",
              "  .colab-df-spinner {\n",
              "    border: 2px solid var(--fill-color);\n",
              "    border-color: transparent;\n",
              "    border-bottom-color: var(--fill-color);\n",
              "    animation:\n",
              "      spin 1s steps(1) infinite;\n",
              "  }\n",
              "\n",
              "  @keyframes spin {\n",
              "    0% {\n",
              "      border-color: transparent;\n",
              "      border-bottom-color: var(--fill-color);\n",
              "      border-left-color: var(--fill-color);\n",
              "    }\n",
              "    20% {\n",
              "      border-color: transparent;\n",
              "      border-left-color: var(--fill-color);\n",
              "      border-top-color: var(--fill-color);\n",
              "    }\n",
              "    30% {\n",
              "      border-color: transparent;\n",
              "      border-left-color: var(--fill-color);\n",
              "      border-top-color: var(--fill-color);\n",
              "      border-right-color: var(--fill-color);\n",
              "    }\n",
              "    40% {\n",
              "      border-color: transparent;\n",
              "      border-right-color: var(--fill-color);\n",
              "      border-top-color: var(--fill-color);\n",
              "    }\n",
              "    60% {\n",
              "      border-color: transparent;\n",
              "      border-right-color: var(--fill-color);\n",
              "    }\n",
              "    80% {\n",
              "      border-color: transparent;\n",
              "      border-right-color: var(--fill-color);\n",
              "      border-bottom-color: var(--fill-color);\n",
              "    }\n",
              "    90% {\n",
              "      border-color: transparent;\n",
              "      border-bottom-color: var(--fill-color);\n",
              "    }\n",
              "  }\n",
              "</style>\n",
              "\n",
              "  <script>\n",
              "    async function quickchart(key) {\n",
              "      const quickchartButtonEl =\n",
              "        document.querySelector('#' + key + ' button');\n",
              "      quickchartButtonEl.disabled = true;  // To prevent multiple clicks.\n",
              "      quickchartButtonEl.classList.add('colab-df-spinner');\n",
              "      try {\n",
              "        const charts = await google.colab.kernel.invokeFunction(\n",
              "            'suggestCharts', [key], {});\n",
              "      } catch (error) {\n",
              "        console.error('Error during call to suggestCharts:', error);\n",
              "      }\n",
              "      quickchartButtonEl.classList.remove('colab-df-spinner');\n",
              "      quickchartButtonEl.classList.add('colab-df-quickchart-complete');\n",
              "    }\n",
              "    (() => {\n",
              "      let quickchartButtonEl =\n",
              "        document.querySelector('#df-0339ca92-6572-4545-bbce-366f65a6c76c button');\n",
              "      quickchartButtonEl.style.display =\n",
              "        google.colab.kernel.accessAllowed ? 'block' : 'none';\n",
              "    })();\n",
              "  </script>\n",
              "</div>\n",
              "    </div>\n",
              "  </div>\n"
            ]
          },
          "metadata": {},
          "execution_count": 32
        }
      ]
    },
    {
      "cell_type": "markdown",
      "source": [
        "Distribution of the target variable </br>\n",
        "Phân phối biến mục tiêu"
      ],
      "metadata": {
        "id": "9LRDP3WzFfKG"
      }
    },
    {
      "cell_type": "code",
      "source": [
        "plt.figure(figsize=(8, 6))# tạo 1 figure có kích thước 8x6 inches\n",
        "plt.hist(bos_pd['PRICE'])# tạo biểu đồ histogram vẽ cho cột price\n",
        "plt.title('Boston Housing Prices and Count Histogram')\n",
        "plt.xlabel('price ($1000s)')\n",
        "plt.ylabel('count')\n",
        "plt.show()"
      ],
      "metadata": {
        "colab": {
          "base_uri": "https://localhost:8080/",
          "height": 564
        },
        "id": "WOsuiCEEFc11",
        "outputId": "273e8862-949a-4fa4-f3c2-3b1541238186"
      },
      "execution_count": null,
      "outputs": [
        {
          "output_type": "display_data",
          "data": {
            "text/plain": [
              "<Figure size 800x600 with 1 Axes>"
            ],
            "image/png": "[encoded data removed]"
          },
          "metadata": {}
        }
      ]
    },
    {
      "cell_type": "code",
      "source": [
        "plt.figure(figsize=(8, 6)) # tạo figure có kích thước 8x6 inches\n",
        "sns.distplot(bos_pd['PRICE'])# vẽ biểu đồ phân bố đường cong của PRICE"
      ],
      "metadata": {
        "colab": {
          "base_uri": "https://localhost:8080/",
          "height": 750
        },
        "id": "r67B-6VBFpm2",
        "outputId": "18d521f1-4f11-4caf-865e-78dcd402d5f1"
      },
      "execution_count": null,
      "outputs": [
        {
          "output_type": "stream",
          "name": "stderr",
          "text": [
            "<ipython-input-34-1eb166cbf4b2>:2: UserWarning: \n",
            "\n",
            "`distplot` is a deprecated function and will be removed in seaborn v0.14.0.\n",
            "\n",
            "Please adapt your code to use either `displot` (a figure-level function with\n",
            "similar flexibility) or `histplot` (an axes-level function for histograms).\n",
            "\n",
            "For a guide to updating your code to use the new functions, please see\n",
            "https://gist.github.com/mwaskom/de44147ed2974457ad6372750bbe5751\n",
            "\n",
            "  sns.distplot(bos_pd['PRICE'])\n"
          ]
        },
        {
          "output_type": "execute_result",
          "data": {
            "text/plain": [
              "<Axes: xlabel='PRICE', ylabel='Density'>"
            ]
          },
          "metadata": {},
          "execution_count": 34
        },
        {
          "output_type": "display_data",
          "data": {
            "text/plain": [
              "<Figure size 800x600 with 1 Axes>"
            ],
            "image/png": "[encoded data removed]"
          },
          "metadata": {}
        }
      ]
    },
    {
      "cell_type": "markdown",
      "source": [
        "Heatmap: Two-Dimensional Graphical Representation"
      ],
      "metadata": {
        "id": "K1UsQwA4Ft4l"
      }
    },
    {
      "cell_type": "code",
      "source": [
        "plt.figure(figsize=(12, 9)) # tạo figure có kích thước 12x9\n",
        "correlation_matrix = bos_pd.corr().round(2);\n",
        "# tính ma trận tương quan của cali_pd làm tròn tới 2 chữ số thập phân\n",
        "sns.heatmap(correlation_matrix, cmap=\"YlGnBu\", annot=True);\n",
        "# vẽ bản đồ nhiệt heatmap tương quan bằng màu sắc\n",
        "# cmap=\"YlGnBu\" đặt màu sắc từ dải màu  \"YlGnBu\"\n",
        "#annot = True: cho phép hiển thị giá trị trên từng ô"
      ],
      "metadata": {
        "colab": {
          "base_uri": "https://localhost:8080/",
          "height": 759
        },
        "id": "yhw7tXpIIA3W",
        "outputId": "d805ec78-1f8f-465e-df49-f67c4b6bba5e"
      },
      "execution_count": null,
      "outputs": [
        {
          "output_type": "display_data",
          "data": {
            "text/plain": [
              "<Figure size 1200x900 with 2 Axes>"
            ],
            "image/png": "[encoded data removed]"
          },
          "metadata": {}
        }
      ]
    },
    {
      "cell_type": "markdown",
      "source": [
        "Nhận xét:</br>\n",
        "Từ biểu đồ heatmap, ta có thể thấy PRICE tỉ lệ thuận lớn nhất với RM và tỉ lệ nghịch lớn nhất với LSTAT</br>\n",
        "Ta sử dụng RM và LSTAT để huẩn luyện mô hình\n"
      ],
      "metadata": {
        "id": "hzJkOkeO1seu"
      }
    },
    {
      "cell_type": "code",
      "source": [
        "for feature_name in boston_data.feature_names:\n",
        "# vòng lặp for chạy trong tập feature_names của boston_data\n",
        "    plt.figure(figsize=(5, 4))# tạo figure có kích thước 5x4\n",
        "    plt.scatter(bos_pd[feature_name], bos_pd['PRICE'])\n",
        "    # vẽ biểu đồ scatter với cột x là các feature_name và cột y là PRICE\n",
        "    # từ biểu đồ để tìm sự tương quan giữa PRICE với từng feature_name\n",
        "    plt.ylabel('Price', size=12)\n",
        "    #label cột y là Price và font-size là 12\n",
        "    plt.xlabel(feature_name, size=12)\n",
        "plt.show()"
      ],
      "metadata": {
        "id": "W7QhFQ9JFwQN"
      },
      "execution_count": null,
      "outputs": []
    },
    {
      "cell_type": "code",
      "source": [
        "sns.lmplot(x = 'RM', y = 'PRICE', data = bos_pd);\n",
        "#lmplot vẽ đồ thị scatter plot với đường hồi quy tương ứng\n",
        "# lmplot kết hợp tính năng của regplot và FacetGrid"
      ],
      "metadata": {
        "colab": {
          "base_uri": "https://localhost:8080/",
          "height": 506
        },
        "id": "POXmsokaGFSZ",
        "outputId": "b5783cfb-58f4-4bd5-b662-6856d90075dd"
      },
      "execution_count": null,
      "outputs": [
        {
          "output_type": "display_data",
          "data": {
            "text/plain": [
              "<Figure size 500x500 with 1 Axes>"
            ],
            "image/png": "[encoded data removed]"
          },
          "metadata": {}
        }
      ]
    },
    {
      "cell_type": "code",
      "source": [
        "sns.lmplot(x = 'LSTAT', y= 'PRICE', data = bos_pd)\n",
        "#lmplot vẽ đồ thị scatter plot với đường hồi quy tương ứng\n",
        "# lmplot kết hợp tính năng của regplot và FacetGrid"
      ],
      "metadata": {
        "colab": {
          "base_uri": "https://localhost:8080/",
          "height": 523
        },
        "id": "lMGOReRLPWzs",
        "outputId": "88dc184d-ba13-4b5a-a4af-5f4591385b61"
      },
      "execution_count": null,
      "outputs": [
        {
          "output_type": "execute_result",
          "data": {
            "text/plain": [
              "<seaborn.axisgrid.FacetGrid at 0x7fd1675b3970>"
            ]
          },
          "metadata": {},
          "execution_count": 44
        },
        {
          "output_type": "display_data",
          "data": {
            "text/plain": [
              "<Figure size 500x500 with 1 Axes>"
            ],
            "image/png": "[encoded data removed]"
          },
          "metadata": {}
        }
      ]
    },
    {
      "cell_type": "code",
      "source": [
        "X_rooms = bos_pd.RM\n",
        "y_price = bos_pd.PRICE\n",
        "\n",
        "# chuyển đổi về mảng 2 chiều có số cột là 1 số hàng không xác định\n",
        "X_rooms = np.array(X_rooms).reshape(-1,1)\n",
        "y_price = np.array(y_price).reshape(-1,1)\n",
        "\n",
        "print(X_rooms.shape)\n",
        "print(y_price.shape)"
      ],
      "metadata": {
        "colab": {
          "base_uri": "https://localhost:8080/"
        },
        "id": "B8iFg-JwGgKW",
        "outputId": "e23e44a8-4bec-4968-aeb3-47f71c3698e4"
      },
      "execution_count": null,
      "outputs": [
        {
          "output_type": "stream",
          "name": "stdout",
          "text": [
            "(506, 1)\n",
            "(506, 1)\n"
          ]
        }
      ]
    },
    {
      "cell_type": "markdown",
      "source": [
        "Splitting the data into training and testing sets"
      ],
      "metadata": {
        "id": "Nv-SYKoGGod1"
      }
    },
    {
      "cell_type": "code",
      "source": [
        "X_train_1, X_test_1, Y_train_1, Y_test_1 = \\\n",
        "             train_test_split(X_rooms, y_price, test_size = 0.2, random_state=5)\n",
        "# câu lệnh trên chia X_rooms, y_price thành 4 tập dữ liệu\n",
        "#Test theo tỉ lệ chỉ định\n",
        "# test_size =0.2 : 20% dữ liệu sẽ được chọn ngẫu nhiên để tạo thành tập test\n",
        "# 80% dữ liệu sẽ là tập train\n",
        "# random_state = 0 thì nhận được cùng 1 tập huấn luyện qua các lần thực thi khác nhau\n",
        "# random_state != 0 xáo trộn ngẫu nhiên tập huấn luyện qua các lần thực thi\n",
        "\n",
        "\n",
        "print(X_train_1.shape)\n",
        "print(Y_train_1.shape)\n",
        "print(X_test_1.shape)\n",
        "print(Y_test_1.shape)"
      ],
      "metadata": {
        "colab": {
          "base_uri": "https://localhost:8080/"
        },
        "id": "7CmcUn0lGndV",
        "outputId": "b531cd61-6ba5-420d-db30-884ba08e1653"
      },
      "execution_count": null,
      "outputs": [
        {
          "output_type": "stream",
          "name": "stdout",
          "text": [
            "(404, 1)\n",
            "(404, 1)\n",
            "(102, 1)\n",
            "(102, 1)\n"
          ]
        }
      ]
    },
    {
      "cell_type": "markdown",
      "source": [
        "#B3:Huấn luyện mô hình"
      ],
      "metadata": {
        "id": "ZVDfqyHBGbYv"
      }
    },
    {
      "cell_type": "markdown",
      "source": [
        "Training and testing the model"
      ],
      "metadata": {
        "id": "_GMlD3CnGsqN"
      }
    },
    {
      "cell_type": "code",
      "source": [
        "reg_1 = LinearRegression()\n",
        "# tạo một mô hình hồi quy tính reg_1 bằng phương thức LinearRegression\n",
        "\n",
        "# sử dụng fit để huấn luyện mô hình với dữ liệu X_train_1, Y_train_1\n",
        "reg_1.fit(X_train_1, Y_train_1)\n",
        "\n",
        "# Sử dụng mô hình  dự đoán giá trị đầu ra y_train_predict_1 từ đầu vào X_train_1\n",
        "y_train_predict_1 = reg_1.predict(X_train_1)\n",
        "\n",
        "\n",
        "# đánh giá mô hình, tính toán độ đo RMSE\n",
        "rmse = (np.sqrt(metrics.mean_squared_error(Y_train_1, y_train_predict_1)))\n",
        "\n",
        "#hệ số r2 cho biết mức độ mô hình\n",
        "r2 = round(reg_1.score(X_train_1, Y_train_1),2)\n",
        "\n",
        "print(\"The model performance for training set\")\n",
        "print(\"--------------------------------------\")\n",
        "print('RMSE is {}'.format(rmse))\n",
        "print('R2 score is {}'.format(r2))\n",
        "print(\"\\n\")"
      ],
      "metadata": {
        "colab": {
          "base_uri": "https://localhost:8080/"
        },
        "id": "ukEQ0-uHGuw2",
        "outputId": "043a2e73-8255-42d8-c20d-149a6a3868cc"
      },
      "execution_count": null,
      "outputs": [
        {
          "output_type": "stream",
          "name": "stdout",
          "text": [
            "The model performance for training set\n",
            "--------------------------------------\n",
            "RMSE is 6.972277149440585\n",
            "R2 score is 0.43\n",
            "\n",
            "\n"
          ]
        }
      ]
    },
    {
      "cell_type": "code",
      "source": [
        "X_lstat = bos_pd.LSTAT\n",
        "Y_price_2 = bos_pd.PRICE\n",
        "\n",
        "# chuyển đổi về mảng 2 chiều có số cột là 1 và số hàng không xác định\n",
        "X_lstat = np.array(X_lstat).reshape(-1,1)\n",
        "Y_price_2 = np.array(Y_price_2).reshape(-1,1)\n",
        "\n",
        "print(X_lstat.shape)\n",
        "print(Y_price_2.shape)"
      ],
      "metadata": {
        "colab": {
          "base_uri": "https://localhost:8080/"
        },
        "id": "tdCMfK4aQL3w",
        "outputId": "fe84f2fd-94bb-46a5-cd8a-ccc376bb3916"
      },
      "execution_count": null,
      "outputs": [
        {
          "output_type": "stream",
          "name": "stdout",
          "text": [
            "(506, 1)\n",
            "(506, 1)\n"
          ]
        }
      ]
    },
    {
      "cell_type": "code",
      "source": [
        "X_train_2, X_test_2, Y_train_2, Y_test_2 =\\\n",
        "  train_test_split(X_lstat, Y_price_2 , test_size = 0.2 , random_state=5)\n",
        "\n",
        "\n",
        "print(X_train_2.shape)\n",
        "print(Y_train_2.shape)\n",
        "print(X_test_2.shape)\n",
        "print(Y_test_2.shape)"
      ],
      "metadata": {
        "colab": {
          "base_uri": "https://localhost:8080/"
        },
        "id": "WP6JqcCvS0b0",
        "outputId": "0483e9d5-eb91-4646-941a-e14353ee44a1"
      },
      "execution_count": null,
      "outputs": [
        {
          "output_type": "stream",
          "name": "stdout",
          "text": [
            "(404, 1)\n",
            "(404, 1)\n",
            "(102, 1)\n",
            "(102, 1)\n"
          ]
        }
      ]
    },
    {
      "cell_type": "code",
      "source": [
        "reg_2 = LinearRegression()\n",
        "# tạo 1 mô hình hồi quy reg_2 bằng phương pháp LinearRegression\n",
        "reg_2.fit(X_train_2, Y_train_2)\n",
        "#sử dụng fit để huấn luyện mô hình với 2 tập dữ liệu X_train_2, Y_train_2\n",
        "\n",
        "Y_train_predict_2 = reg_2.predict(X_train_2)\n",
        "#sử dụng mô hình dự đoán giá trị đầu ra từ tập X_train_2\n",
        "\n",
        "rmse_2 = (np.sqrt(metrics.mean_squared_error(Y_train_2, Y_train_predict_2)))\n",
        "# Đánh giá mô hình qua việc tính độ đo RMSE root mean square error\n",
        "\n",
        "r2_2 = round(reg_2.score(X_train_2, Y_train_2),2)\n",
        "# hệ số r2 cho biết mức độ mô hình\n",
        "\n",
        "\n",
        "print(\"The model performance for training set\")\n",
        "print(\"--------------------------------------\")\n",
        "print('RMSE is {}'.format(rmse_2))\n",
        "print('R2 score is {}'.format(r2_2))\n",
        "print(\"\\n\")\n",
        "\n",
        "\n"
      ],
      "metadata": {
        "colab": {
          "base_uri": "https://localhost:8080/"
        },
        "id": "3mCwhdrXSFLb",
        "outputId": "51d18474-9f81-400b-856a-57c4e6c26bce"
      },
      "execution_count": null,
      "outputs": [
        {
          "output_type": "stream",
          "name": "stdout",
          "text": [
            "The model performance for training set\n",
            "--------------------------------------\n",
            "RMSE is 6.201452973865344\n",
            "R2 score is 0.55\n",
            "\n",
            "\n"
          ]
        }
      ]
    },
    {
      "cell_type": "markdown",
      "source": [],
      "metadata": {
        "id": "IZFnXAtQGyDj"
      }
    },
    {
      "cell_type": "markdown",
      "source": [
        "#B4: Đánh giá mô hình"
      ],
      "metadata": {
        "id": "21lb1-hhG5NR"
      }
    },
    {
      "cell_type": "markdown",
      "source": [
        "Model Evaluation for Test Set"
      ],
      "metadata": {
        "id": "0t0mm0ejHLj3"
      }
    },
    {
      "cell_type": "code",
      "source": [
        "y_pred_1 = reg_1.predict(X_test_1)\n",
        "\n",
        "# tính toán độ đo rmse so sánh y_pred_1 và Y_test_1\n",
        "rmse = (np.sqrt(metrics.mean_squared_error(Y_test_1, y_pred_1)))\n",
        "\n",
        "# tính toán hệ số xác định r2 bằng phương thức score()\n",
        "r2 = round(reg_1.score(X_test_1, Y_test_1),2)\n",
        "\n",
        "print(\"The model performance for training set\")\n",
        "print(\"--------------------------------------\")\n",
        "print(\"Root Mean Squared Error: {}\".format(rmse))\n",
        "print(\"R^2: {}\".format(r2))"
      ],
      "metadata": {
        "colab": {
          "base_uri": "https://localhost:8080/"
        },
        "id": "bYO_qFXgHAdu",
        "outputId": "144d11ad-393e-417e-ddf1-04bdd481dec9"
      },
      "execution_count": null,
      "outputs": [
        {
          "output_type": "stream",
          "name": "stdout",
          "text": [
            "The model performance for training set\n",
            "--------------------------------------\n",
            "Root Mean Squared Error: 4.895963186952216\n",
            "R^2: 0.69\n"
          ]
        }
      ]
    },
    {
      "cell_type": "code",
      "source": [
        "print(X_test_1.shape)\n",
        "print(y_pred_1.shape)"
      ],
      "metadata": {
        "colab": {
          "base_uri": "https://localhost:8080/"
        },
        "id": "UWwK_mjlUY9j",
        "outputId": "f200f33f-d880-4c5c-d40b-aa4c34d318b5"
      },
      "execution_count": null,
      "outputs": [
        {
          "output_type": "stream",
          "name": "stdout",
          "text": [
            "(102, 1)\n",
            "(102, 1)\n"
          ]
        }
      ]
    },
    {
      "cell_type": "markdown",
      "source": [
        "# Tính RMSE root mean square error"
      ],
      "metadata": {
        "id": "BC2s_C3sacDq"
      }
    },
    {
      "cell_type": "markdown",
      "source": [
        "![image.png](data:image/png;base64,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)"
      ],
      "metadata": {
        "id": "bGE7NRgLUoru"
      }
    },
    {
      "cell_type": "code",
      "source": [
        "import numpy as np\n",
        "\n",
        "def tinh_rmse(actual, predicted):\n",
        "  if len(actual) != len(predicted):\n",
        "    raise ValueError(\"Chieu dai actual va predicted khong khop\")\n",
        "\n",
        "  #Tinh square errors\n",
        "  sq_errors = (actual - predicted) ** 2\n",
        "  # Tinh mean square errors\n",
        "  mse = np.mean(sq_errors)\n",
        "  # Tinh RMSE\n",
        "  rmse = np.sqrt(mse)\n",
        "\n",
        "  return rmse\n"
      ],
      "metadata": {
        "id": "uLEro8WMU5OT"
      },
      "execution_count": null,
      "outputs": []
    },
    {
      "cell_type": "code",
      "source": [
        "rmse_1 = tinh_rmse(Y_test_1, y_pred_1)\n",
        "\n",
        "rmse_1"
      ],
      "metadata": {
        "colab": {
          "base_uri": "https://localhost:8080/"
        },
        "id": "E3bdZgt5XhxM",
        "outputId": "f23840ff-ab18-433e-8b96-df9dec4edf23"
      },
      "execution_count": null,
      "outputs": [
        {
          "output_type": "execute_result",
          "data": {
            "text/plain": [
              "4.895963186952216"
            ]
          },
          "metadata": {},
          "execution_count": 48
        }
      ]
    },
    {
      "cell_type": "markdown",
      "source": [
        "45-Degree Plot"
      ],
      "metadata": {
        "id": "WSkGCahfHNj-"
      }
    },
    {
      "cell_type": "code",
      "source": [
        "plt.figure(figsize=(8, 5))# tạo figure có kích thước 8x5\n",
        "plt.scatter(Y_test_1, y_pred_1)\n",
        "# tạo mô hình scatter có cột x là Y_test_1, y là y_pred_1\n",
        "\n",
        "plt.plot([0, 50], [0, 50], '--k')\n",
        "# tạo đường đứt chéo từ điểm (0,0) tới (50,50)\n",
        "\n",
        "plt.axis('tight')\n",
        "# tự điều chỉnh các giới hạn trục biểu đồ khít xung quanh điểm dữ liệu\n",
        "plt.xlabel(\"Actual House Prices ($1000)\")\n",
        "plt.ylabel(\"Predicted House Prices: ($1000)\")\n",
        "#plt.xticks(range(0, int(max(y_test)),2))\n",
        "#plt.yticks(range(0, int(max(y_test)),2))\n",
        "plt.title(\"Actual Prices vs Predicted prices\")\n",
        "plt.tight_layout()\n",
        "# điều chỉnh bố cục ô, đảm bảo các phần tử được đặt cách đều và hợp lí"
      ],
      "metadata": {
        "colab": {
          "base_uri": "https://localhost:8080/",
          "height": 507
        },
        "id": "2BVOH6XLHQv-",
        "outputId": "08c62864-f9c4-43fe-95a2-14442ce06704"
      },
      "execution_count": null,
      "outputs": [
        {
          "output_type": "display_data",
          "data": {
            "text/plain": [
              "<Figure size 800x500 with 1 Axes>"
            ],
            "image/png": "[encoded data removed]"
          },
          "metadata": {}
        }
      ]
    },
    {
      "cell_type": "markdown",
      "source": [
        "## Linear Regression Model with All Variables\n",
        "</br>"
      ],
      "metadata": {
        "id": "_pm9Hh6P5pT8"
      }
    },
    {
      "cell_type": "markdown",
      "source": [
        "Create the model"
      ],
      "metadata": {
        "id": "8Fufr4V85zDk"
      }
    },
    {
      "cell_type": "code",
      "source": [
        "bos_pd.head()"
      ],
      "metadata": {
        "colab": {
          "base_uri": "https://localhost:8080/",
          "height": 226
        },
        "id": "6SHpyqdN6iWc",
        "outputId": "cf75ddf7-9ab6-44e6-ef7d-f8131a9801d0"
      },
      "execution_count": null,
      "outputs": [
        {
          "output_type": "execute_result",
          "data": {
            "text/plain": [
              "      CRIM    ZN  INDUS  CHAS    NOX     RM   AGE     DIS  RAD    TAX  \\\n",
              "0  0.00632  18.0   2.31   0.0  0.538  6.575  65.2  4.0900  1.0  296.0   \n",
              "1  0.02731   0.0   7.07   0.0  0.469  6.421  78.9  4.9671  2.0  242.0   \n",
              "2  0.02729   0.0   7.07   0.0  0.469  7.185  61.1  4.9671  2.0  242.0   \n",
              "3  0.03237   0.0   2.18   0.0  0.458  6.998  45.8  6.0622  3.0  222.0   \n",
              "4  0.06905   0.0   2.18   0.0  0.458  7.147  54.2  6.0622  3.0  222.0   \n",
              "\n",
              "   PTRATIO       B  LSTAT  \n",
              "0     15.3  396.90   4.98  \n",
              "1     17.8  396.90   9.14  \n",
              "2     17.8  392.83   4.03  \n",
              "3     18.7  394.63   2.94  \n",
              "4     18.7  396.90   5.33  "
            ],
            "text/html": [
              "\n",
              "  <div id=\"df-559edb8f-18f6-41cb-82f1-6e40cedde6b7\" class=\"colab-df-container\">\n",
              "    <div>\n",
              "<style scoped>\n",
              "    .dataframe tbody tr th:only-of-type {\n",
              "        vertical-align: middle;\n",
              "    }\n",
              "\n",
              "    .dataframe tbody tr th {\n",
              "        vertical-align: top;\n",
              "    }\n",
              "\n",
              "    .dataframe thead th {\n",
              "        text-align: right;\n",
              "    }\n",
              "</style>\n",
              "<table border=\"1\" class=\"dataframe\">\n",
              "  <thead>\n",
              "    <tr style=\"text-align: right;\">\n",
              "      <th></th>\n",
              "      <th>CRIM</th>\n",
              "      <th>ZN</th>\n",
              "      <th>INDUS</th>\n",
              "      <th>CHAS</th>\n",
              "      <th>NOX</th>\n",
              "      <th>RM</th>\n",
              "      <th>AGE</th>\n",
              "      <th>DIS</th>\n",
              "      <th>RAD</th>\n",
              "      <th>TAX</th>\n",
              "      <th>PTRATIO</th>\n",
              "      <th>B</th>\n",
              "      <th>LSTAT</th>\n",
              "    </tr>\n",
              "  </thead>\n",
              "  <tbody>\n",
              "    <tr>\n",
              "      <th>0</th>\n",
              "      <td>0.00632</td>\n",
              "      <td>18.0</td>\n",
              "      <td>2.31</td>\n",
              "      <td>0.0</td>\n",
              "      <td>0.538</td>\n",
              "      <td>6.575</td>\n",
              "      <td>65.2</td>\n",
              "      <td>4.0900</td>\n",
              "      <td>1.0</td>\n",
              "      <td>296.0</td>\n",
              "      <td>15.3</td>\n",
              "      <td>396.90</td>\n",
              "      <td>4.98</td>\n",
              "    </tr>\n",
              "    <tr>\n",
              "      <th>1</th>\n",
              "      <td>0.02731</td>\n",
              "      <td>0.0</td>\n",
              "      <td>7.07</td>\n",
              "      <td>0.0</td>\n",
              "      <td>0.469</td>\n",
              "      <td>6.421</td>\n",
              "      <td>78.9</td>\n",
              "      <td>4.9671</td>\n",
              "      <td>2.0</td>\n",
              "      <td>242.0</td>\n",
              "      <td>17.8</td>\n",
              "      <td>396.90</td>\n",
              "      <td>9.14</td>\n",
              "    </tr>\n",
              "    <tr>\n",
              "      <th>2</th>\n",
              "      <td>0.02729</td>\n",
              "      <td>0.0</td>\n",
              "      <td>7.07</td>\n",
              "      <td>0.0</td>\n",
              "      <td>0.469</td>\n",
              "      <td>7.185</td>\n",
              "      <td>61.1</td>\n",
              "      <td>4.9671</td>\n",
              "      <td>2.0</td>\n",
              "      <td>242.0</td>\n",
              "      <td>17.8</td>\n",
              "      <td>392.83</td>\n",
              "      <td>4.03</td>\n",
              "    </tr>\n",
              "    <tr>\n",
              "      <th>3</th>\n",
              "      <td>0.03237</td>\n",
              "      <td>0.0</td>\n",
              "      <td>2.18</td>\n",
              "      <td>0.0</td>\n",
              "      <td>0.458</td>\n",
              "      <td>6.998</td>\n",
              "      <td>45.8</td>\n",
              "      <td>6.0622</td>\n",
              "      <td>3.0</td>\n",
              "      <td>222.0</td>\n",
              "      <td>18.7</td>\n",
              "      <td>394.63</td>\n",
              "      <td>2.94</td>\n",
              "    </tr>\n",
              "    <tr>\n",
              "      <th>4</th>\n",
              "      <td>0.06905</td>\n",
              "      <td>0.0</td>\n",
              "      <td>2.18</td>\n",
              "      <td>0.0</td>\n",
              "      <td>0.458</td>\n",
              "      <td>7.147</td>\n",
              "      <td>54.2</td>\n",
              "      <td>6.0622</td>\n",
              "      <td>3.0</td>\n",
              "      <td>222.0</td>\n",
              "      <td>18.7</td>\n",
              "      <td>396.90</td>\n",
              "      <td>5.33</td>\n",
              "    </tr>\n",
              "  </tbody>\n",
              "</table>\n",
              "</div>\n",
              "    <div class=\"colab-df-buttons\">\n",
              "\n",
              "  <div class=\"colab-df-container\">\n",
              "    <button class=\"colab-df-convert\" onclick=\"convertToInteractive('df-559edb8f-18f6-41cb-82f1-6e40cedde6b7')\"\n",
              "            title=\"Convert this dataframe to an interactive table.\"\n",
              "            style=\"display:none;\">\n",
              "\n",
              "  <svg xmlns=\"http://www.w3.org/2000/svg\" height=\"24px\" viewBox=\"0 -960 960 960\">\n",
              "    <path d=\"M120-120v-720h720v720H120Zm60-500h600v-160H180v160Zm220 220h160v-160H400v160Zm0 220h160v-160H400v160ZM180-400h160v-160H180v160Zm440 0h160v-160H620v160ZM180-180h160v-160H180v160Zm440 0h160v-160H620v160Z\"/>\n",
              "  </svg>\n",
              "    </button>\n",
              "\n",
              "  <style>\n",
              "    .colab-df-container {\n",
              "      display:flex;\n",
              "      gap: 12px;\n",
              "    }\n",
              "\n",
              "    .colab-df-convert {\n",
              "      background-color: #E8F0FE;\n",
              "      border: none;\n",
              "      border-radius: 50%;\n",
              "      cursor: pointer;\n",
              "      display: none;\n",
              "      fill: #1967D2;\n",
              "      height: 32px;\n",
              "      padding: 0 0 0 0;\n",
              "      width: 32px;\n",
              "    }\n",
              "\n",
              "    .colab-df-convert:hover {\n",
              "      background-color: #E2EBFA;\n",
              "      box-shadow: 0px 1px 2px rgba(60, 64, 67, 0.3), 0px 1px 3px 1px rgba(60, 64, 67, 0.15);\n",
              "      fill: #174EA6;\n",
              "    }\n",
              "\n",
              "    .colab-df-buttons div {\n",
              "      margin-bottom: 4px;\n",
              "    }\n",
              "\n",
              "    [theme=dark] .colab-df-convert {\n",
              "      background-color: #3B4455;\n",
              "      fill: #D2E3FC;\n",
              "    }\n",
              "\n",
              "    [theme=dark] .colab-df-convert:hover {\n",
              "      background-color: #434B5C;\n",
              "      box-shadow: 0px 1px 3px 1px rgba(0, 0, 0, 0.15);\n",
              "      filter: drop-shadow(0px 1px 2px rgba(0, 0, 0, 0.3));\n",
              "      fill: #FFFFFF;\n",
              "    }\n",
              "  </style>\n",
              "\n",
              "    <script>\n",
              "      const buttonEl =\n",
              "        document.querySelector('#df-559edb8f-18f6-41cb-82f1-6e40cedde6b7 button.colab-df-convert');\n",
              "      buttonEl.style.display =\n",
              "        google.colab.kernel.accessAllowed ? 'block' : 'none';\n",
              "\n",
              "      async function convertToInteractive(key) {\n",
              "        const element = document.querySelector('#df-559edb8f-18f6-41cb-82f1-6e40cedde6b7');\n",
              "        const dataTable =\n",
              "          await google.colab.kernel.invokeFunction('convertToInteractive',\n",
              "                                                    [key], {});\n",
              "        if (!dataTable) return;\n",
              "\n",
              "        const docLinkHtml = 'Like what you see? Visit the ' +\n",
              "          '<a target=\"_blank\" href=https://colab.research.google.com/notebooks/data_table.ipynb>data table notebook</a>'\n",
              "          + ' to learn more about interactive tables.';\n",
              "        element.innerHTML = '';\n",
              "        dataTable['output_type'] = 'display_data';\n",
              "        await google.colab.output.renderOutput(dataTable, element);\n",
              "        const docLink = document.createElement('div');\n",
              "        docLink.innerHTML = docLinkHtml;\n",
              "        element.appendChild(docLink);\n",
              "      }\n",
              "    </script>\n",
              "  </div>\n",
              "\n",
              "\n",
              "<div id=\"df-39d3cf26-a3b9-4b54-8d7e-0f28a5d220eb\">\n",
              "  <button class=\"colab-df-quickchart\" onclick=\"quickchart('df-39d3cf26-a3b9-4b54-8d7e-0f28a5d220eb')\"\n",
              "            title=\"Suggest charts.\"\n",
              "            style=\"display:none;\">\n",
              "\n",
              "<svg xmlns=\"http://www.w3.org/2000/svg\" height=\"24px\"viewBox=\"0 0 24 24\"\n",
              "     width=\"24px\">\n",
              "    <g>\n",
              "        <path d=\"M19 3H5c-1.1 0-2 .9-2 2v14c0 1.1.9 2 2 2h14c1.1 0 2-.9 2-2V5c0-1.1-.9-2-2-2zM9 17H7v-7h2v7zm4 0h-2V7h2v10zm4 0h-2v-4h2v4z\"/>\n",
              "    </g>\n",
              "</svg>\n",
              "  </button>\n",
              "\n",
              "<style>\n",
              "  .colab-df-quickchart {\n",
              "      --bg-color: #E8F0FE;\n",
              "      --fill-color: #1967D2;\n",
              "      --hover-bg-color: #E2EBFA;\n",
              "      --hover-fill-color: #174EA6;\n",
              "      --disabled-fill-color: #AAA;\n",
              "      --disabled-bg-color: #DDD;\n",
              "  }\n",
              "\n",
              "  [theme=dark] .colab-df-quickchart {\n",
              "      --bg-color: #3B4455;\n",
              "      --fill-color: #D2E3FC;\n",
              "      --hover-bg-color: #434B5C;\n",
              "      --hover-fill-color: #FFFFFF;\n",
              "      --disabled-bg-color: #3B4455;\n",
              "      --disabled-fill-color: #666;\n",
              "  }\n",
              "\n",
              "  .colab-df-quickchart {\n",
              "    background-color: var(--bg-color);\n",
              "    border: none;\n",
              "    border-radius: 50%;\n",
              "    cursor: pointer;\n",
              "    display: none;\n",
              "    fill: var(--fill-color);\n",
              "    height: 32px;\n",
              "    padding: 0;\n",
              "    width: 32px;\n",
              "  }\n",
              "\n",
              "  .colab-df-quickchart:hover {\n",
              "    background-color: var(--hover-bg-color);\n",
              "    box-shadow: 0 1px 2px rgba(60, 64, 67, 0.3), 0 1px 3px 1px rgba(60, 64, 67, 0.15);\n",
              "    fill: var(--button-hover-fill-color);\n",
              "  }\n",
              "\n",
              "  .colab-df-quickchart-complete:disabled,\n",
              "  .colab-df-quickchart-complete:disabled:hover {\n",
              "    background-color: var(--disabled-bg-color);\n",
              "    fill: var(--disabled-fill-color);\n",
              "    box-shadow: none;\n",
              "  }\n",
              "\n",
              "  .colab-df-spinner {\n",
              "    border: 2px solid var(--fill-color);\n",
              "    border-color: transparent;\n",
              "    border-bottom-color: var(--fill-color);\n",
              "    animation:\n",
              "      spin 1s steps(1) infinite;\n",
              "  }\n",
              "\n",
              "  @keyframes spin {\n",
              "    0% {\n",
              "      border-color: transparent;\n",
              "      border-bottom-color: var(--fill-color);\n",
              "      border-left-color: var(--fill-color);\n",
              "    }\n",
              "    20% {\n",
              "      border-color: transparent;\n",
              "      border-left-color: var(--fill-color);\n",
              "      border-top-color: var(--fill-color);\n",
              "    }\n",
              "    30% {\n",
              "      border-color: transparent;\n",
              "      border-left-color: var(--fill-color);\n",
              "      border-top-color: var(--fill-color);\n",
              "      border-right-color: var(--fill-color);\n",
              "    }\n",
              "    40% {\n",
              "      border-color: transparent;\n",
              "      border-right-color: var(--fill-color);\n",
              "      border-top-color: var(--fill-color);\n",
              "    }\n",
              "    60% {\n",
              "      border-color: transparent;\n",
              "      border-right-color: var(--fill-color);\n",
              "    }\n",
              "    80% {\n",
              "      border-color: transparent;\n",
              "      border-right-color: var(--fill-color);\n",
              "      border-bottom-color: var(--fill-color);\n",
              "    }\n",
              "    90% {\n",
              "      border-color: transparent;\n",
              "      border-bottom-color: var(--fill-color);\n",
              "    }\n",
              "  }\n",
              "</style>\n",
              "\n",
              "  <script>\n",
              "    async function quickchart(key) {\n",
              "      const quickchartButtonEl =\n",
              "        document.querySelector('#' + key + ' button');\n",
              "      quickchartButtonEl.disabled = true;  // To prevent multiple clicks.\n",
              "      quickchartButtonEl.classList.add('colab-df-spinner');\n",
              "      try {\n",
              "        const charts = await google.colab.kernel.invokeFunction(\n",
              "            'suggestCharts', [key], {});\n",
              "      } catch (error) {\n",
              "        console.error('Error during call to suggestCharts:', error);\n",
              "      }\n",
              "      quickchartButtonEl.classList.remove('colab-df-spinner');\n",
              "      quickchartButtonEl.classList.add('colab-df-quickchart-complete');\n",
              "    }\n",
              "    (() => {\n",
              "      let quickchartButtonEl =\n",
              "        document.querySelector('#df-39d3cf26-a3b9-4b54-8d7e-0f28a5d220eb button');\n",
              "      quickchartButtonEl.style.display =\n",
              "        google.colab.kernel.accessAllowed ? 'block' : 'none';\n",
              "    })();\n",
              "  </script>\n",
              "</div>\n",
              "    </div>\n",
              "  </div>\n"
            ]
          },
          "metadata": {},
          "execution_count": 11
        }
      ]
    },
    {
      "cell_type": "code",
      "source": [
        "X = bos_pd"
      ],
      "metadata": {
        "id": "RpgDHlSD7ImE"
      },
      "execution_count": null,
      "outputs": []
    },
    {
      "cell_type": "code",
      "source": [
        "y=boston_data.target"
      ],
      "metadata": {
        "id": "7jwij-kO6w_O"
      },
      "execution_count": null,
      "outputs": []
    },
    {
      "cell_type": "code",
      "source": [
        "X_train, X_test, y_train, y_test =\\\n",
        "  train_test_split(X,y, test_size = 0.2, random_state = 30)\n",
        "\n",
        "# chia dữ liệu X, y thành 4 tập dữ liệu để huấn luyện mô hình"
      ],
      "metadata": {
        "id": "y60WAm0d5xfV"
      },
      "execution_count": null,
      "outputs": []
    },
    {
      "cell_type": "code",
      "source": [
        "reg_all = LinearRegression()\n",
        "# tạo mô hình hồi quy reg_all bằng phương thức LinearRegression\n",
        "\n",
        "reg_all.fit(X_train, y_train)\n",
        "# sử dụng fit để huấn luyện X_train, y_train"
      ],
      "metadata": {
        "colab": {
          "base_uri": "https://localhost:8080/",
          "height": 75
        },
        "id": "3iD5MHTJ7fj9",
        "outputId": "20d5b989-8658-4b18-8592-d67084f98a29"
      },
      "execution_count": null,
      "outputs": [
        {
          "output_type": "execute_result",
          "data": {
            "text/plain": [
              "LinearRegression()"
            ],
            "text/html": [
              "<style>#sk-container-id-1 {color: black;background-color: white;}#sk-container-id-1 pre{padding: 0;}#sk-container-id-1 div.sk-toggleable {background-color: white;}#sk-container-id-1 label.sk-toggleable__label {cursor: pointer;display: block;width: 100%;margin-bottom: 0;padding: 0.3em;box-sizing: border-box;text-align: center;}#sk-container-id-1 label.sk-toggleable__label-arrow:before {content: \"▸\";float: left;margin-right: 0.25em;color: #696969;}#sk-container-id-1 label.sk-toggleable__label-arrow:hover:before {color: black;}#sk-container-id-1 div.sk-estimator:hover label.sk-toggleable__label-arrow:before {color: black;}#sk-container-id-1 div.sk-toggleable__content {max-height: 0;max-width: 0;overflow: hidden;text-align: left;background-color: #f0f8ff;}#sk-container-id-1 div.sk-toggleable__content pre {margin: 0.2em;color: black;border-radius: 0.25em;background-color: #f0f8ff;}#sk-container-id-1 input.sk-toggleable__control:checked~div.sk-toggleable__content {max-height: 200px;max-width: 100%;overflow: auto;}#sk-container-id-1 input.sk-toggleable__control:checked~label.sk-toggleable__label-arrow:before {content: \"▾\";}#sk-container-id-1 div.sk-estimator input.sk-toggleable__control:checked~label.sk-toggleable__label {background-color: #d4ebff;}#sk-container-id-1 div.sk-label input.sk-toggleable__control:checked~label.sk-toggleable__label {background-color: #d4ebff;}#sk-container-id-1 input.sk-hidden--visually {border: 0;clip: rect(1px 1px 1px 1px);clip: rect(1px, 1px, 1px, 1px);height: 1px;margin: -1px;overflow: hidden;padding: 0;position: absolute;width: 1px;}#sk-container-id-1 div.sk-estimator {font-family: monospace;background-color: #f0f8ff;border: 1px dotted black;border-radius: 0.25em;box-sizing: border-box;margin-bottom: 0.5em;}#sk-container-id-1 div.sk-estimator:hover {background-color: #d4ebff;}#sk-container-id-1 div.sk-parallel-item::after {content: \"\";width: 100%;border-bottom: 1px solid gray;flex-grow: 1;}#sk-container-id-1 div.sk-label:hover label.sk-toggleable__label {background-color: #d4ebff;}#sk-container-id-1 div.sk-serial::before {content: \"\";position: absolute;border-left: 1px solid gray;box-sizing: border-box;top: 0;bottom: 0;left: 50%;z-index: 0;}#sk-container-id-1 div.sk-serial {display: flex;flex-direction: column;align-items: center;background-color: white;padding-right: 0.2em;padding-left: 0.2em;position: relative;}#sk-container-id-1 div.sk-item {position: relative;z-index: 1;}#sk-container-id-1 div.sk-parallel {display: flex;align-items: stretch;justify-content: center;background-color: white;position: relative;}#sk-container-id-1 div.sk-item::before, #sk-container-id-1 div.sk-parallel-item::before {content: \"\";position: absolute;border-left: 1px solid gray;box-sizing: border-box;top: 0;bottom: 0;left: 50%;z-index: -1;}#sk-container-id-1 div.sk-parallel-item {display: flex;flex-direction: column;z-index: 1;position: relative;background-color: white;}#sk-container-id-1 div.sk-parallel-item:first-child::after {align-self: flex-end;width: 50%;}#sk-container-id-1 div.sk-parallel-item:last-child::after {align-self: flex-start;width: 50%;}#sk-container-id-1 div.sk-parallel-item:only-child::after {width: 0;}#sk-container-id-1 div.sk-dashed-wrapped {border: 1px dashed gray;margin: 0 0.4em 0.5em 0.4em;box-sizing: border-box;padding-bottom: 0.4em;background-color: white;}#sk-container-id-1 div.sk-label label {font-family: monospace;font-weight: bold;display: inline-block;line-height: 1.2em;}#sk-container-id-1 div.sk-label-container {text-align: center;}#sk-container-id-1 div.sk-container {/* jupyter's `normalize.less` sets `[hidden] { display: none; }` but bootstrap.min.css set `[hidden] { display: none !important; }` so we also need the `!important` here to be able to override the default hidden behavior on the sphinx rendered scikit-learn.org. See: https://github.com/scikit-learn/scikit-learn/issues/21755 */display: inline-block !important;position: relative;}#sk-container-id-1 div.sk-text-repr-fallback {display: none;}</style><div id=\"sk-container-id-1\" class=\"sk-top-container\"><div class=\"sk-text-repr-fallback\"><pre>LinearRegression()</pre><b>In a Jupyter environment, please rerun this cell to show the HTML representation or trust the notebook. <br />On GitHub, the HTML representation is unable to render, please try loading this page with nbviewer.org.</b></div><div class=\"sk-container\" hidden><div class=\"sk-item\"><div class=\"sk-estimator sk-toggleable\"><input class=\"sk-toggleable__control sk-hidden--visually\" id=\"sk-estimator-id-1\" type=\"checkbox\" checked><label for=\"sk-estimator-id-1\" class=\"sk-toggleable__label sk-toggleable__label-arrow\">LinearRegression</label><div class=\"sk-toggleable__content\"><pre>LinearRegression()</pre></div></div></div></div></div>"
            ]
          },
          "metadata": {},
          "execution_count": 17
        }
      ]
    },
    {
      "cell_type": "code",
      "source": [
        "y_train_predict = reg_all.predict(X_train)\n",
        "# sử dụng mô hình reg_all để dự đoán đầu ra y_train_predict từ X_train"
      ],
      "metadata": {
        "id": "tiCuY9Pl8C9s"
      },
      "execution_count": null,
      "outputs": []
    },
    {
      "cell_type": "code",
      "source": [
        "rmse = (np.sqrt(metrics.mean_squared_error(y_train, y_train_predict)))\n",
        "# đánh giá mô hình qua việc tính độ đo rmse\n",
        "\n",
        "r2 = round(reg_all.score(X_train, y_train), 2)\n",
        "# đánh giá hệ số mô hình qua r2\n",
        "\n",
        "print(\"The model performance for training set\")\n",
        "print(\"--------------------------------------\")\n",
        "print('RMSE is {}'.format(rmse))\n",
        "print('R2 score is {}'.format(r2))\n",
        "print(\"\\n\")"
      ],
      "metadata": {
        "colab": {
          "base_uri": "https://localhost:8080/"
        },
        "id": "JB8FBLaR8RRM",
        "outputId": "d1c3c0a8-b714-4653-a1af-50753e79f632"
      },
      "execution_count": null,
      "outputs": [
        {
          "output_type": "stream",
          "name": "stdout",
          "text": [
            "The model performance for training set\n",
            "--------------------------------------\n",
            "RMSE is 4.800337843297697\n",
            "R2 score is 0.74\n",
            "\n",
            "\n"
          ]
        }
      ]
    },
    {
      "cell_type": "markdown",
      "source": [
        "Đánh giá mô hình cho tập test"
      ],
      "metadata": {
        "id": "9MKQiwC59DSv"
      }
    },
    {
      "cell_type": "code",
      "source": [
        "y_pred = reg_all.predict(X_test)\n",
        "#sử dụng mô hình dự đoán đầu ra y_pred cho tập X_test"
      ],
      "metadata": {
        "id": "8p3yez_g9Glj"
      },
      "execution_count": null,
      "outputs": []
    },
    {
      "cell_type": "code",
      "source": [
        "X_train.shape"
      ],
      "metadata": {
        "colab": {
          "base_uri": "https://localhost:8080/"
        },
        "id": "cWqc0vNk97zs",
        "outputId": "80ee44d1-7ad4-4b00-d416-f1db8af9fa48"
      },
      "execution_count": null,
      "outputs": [
        {
          "output_type": "execute_result",
          "data": {
            "text/plain": [
              "(404, 13)"
            ]
          },
          "metadata": {},
          "execution_count": 24
        }
      ]
    },
    {
      "cell_type": "code",
      "source": [
        "y_test.shape"
      ],
      "metadata": {
        "colab": {
          "base_uri": "https://localhost:8080/"
        },
        "id": "KZLPkgKz-ADT",
        "outputId": "e96e6e5d-0dfd-4d75-84c3-13e550f23017"
      },
      "execution_count": null,
      "outputs": [
        {
          "output_type": "execute_result",
          "data": {
            "text/plain": [
              "(102,)"
            ]
          },
          "metadata": {},
          "execution_count": 25
        }
      ]
    },
    {
      "cell_type": "code",
      "source": [
        "rmse = np.sqrt(metrics.mean_squared_error(y_test, y_pred))\n",
        "r2 = round(reg_all.score(X_test, y_test),2)\n",
        "\n",
        "print(\"The model performance for training set\")\n",
        "print(\"--------------------------------------\")\n",
        "print(\"Root Mean Squared Error: {}\".format(rmse))\n",
        "print(\"R^2: {}\".format(r2))"
      ],
      "metadata": {
        "colab": {
          "base_uri": "https://localhost:8080/"
        },
        "id": "C7-t-Pdd894b",
        "outputId": "69429323-bc7e-4e1b-f860-d0d6e48460ea"
      },
      "execution_count": null,
      "outputs": [
        {
          "output_type": "stream",
          "name": "stdout",
          "text": [
            "The model performance for training set\n",
            "--------------------------------------\n",
            "Root Mean Squared Error: 4.234742281260946\n",
            "R^2: 0.72\n"
          ]
        }
      ]
    },
    {
      "cell_type": "code",
      "source": [
        "print('Coefficient of determination: {:.4f}'.format(metrics.r2_score(y_test, y_pred)))"
      ],
      "metadata": {
        "colab": {
          "base_uri": "https://localhost:8080/"
        },
        "id": "zN13sxa--Okk",
        "outputId": "bed368a6-1a40-4fb5-f246-cf17e2e624c8"
      },
      "execution_count": null,
      "outputs": [
        {
          "output_type": "stream",
          "name": "stdout",
          "text": [
            "Coefficient of determination: 0.7181\n"
          ]
        }
      ]
    },
    {
      "cell_type": "markdown",
      "source": [
        "Error Distribution\n",
        "</br>\n",
        "phân phối lỗi\n"
      ],
      "metadata": {
        "id": "yIGKK7YaGD_T"
      }
    },
    {
      "cell_type": "code",
      "source": [
        "sns.distplot(y_test - y_pred)\n",
        "# trực quan hóa độ chính xác dự đoán sô với thực tế\n"
      ],
      "metadata": {
        "colab": {
          "base_uri": "https://localhost:8080/",
          "height": 638
        },
        "id": "o4Wh8Irm-QAE",
        "outputId": "6a10f3ad-9690-4f93-c770-d3f49fe3f444"
      },
      "execution_count": null,
      "outputs": [
        {
          "output_type": "stream",
          "name": "stderr",
          "text": [
            "<ipython-input-28-99fbca297671>:1: UserWarning: \n",
            "\n",
            "`distplot` is a deprecated function and will be removed in seaborn v0.14.0.\n",
            "\n",
            "Please adapt your code to use either `displot` (a figure-level function with\n",
            "similar flexibility) or `histplot` (an axes-level function for histograms).\n",
            "\n",
            "For a guide to updating your code to use the new functions, please see\n",
            "https://gist.github.com/mwaskom/de44147ed2974457ad6372750bbe5751\n",
            "\n",
            "  sns.distplot(y_test - y_pred)\n"
          ]
        },
        {
          "output_type": "execute_result",
          "data": {
            "text/plain": [
              "<Axes: ylabel='Density'>"
            ]
          },
          "metadata": {},
          "execution_count": 28
        },
        {
          "output_type": "display_data",
          "data": {
            "text/plain": [
              "<Figure size 640x480 with 1 Axes>"
            ],
            "image/png": "[encoded data removed]"
          },
          "metadata": {}
        }
      ]
    },
    {
      "cell_type": "code",
      "source": [
        "plt.figure(figsize = (8,5)) # tạo figure có kích thước 8x5\n",
        "plt.scatter(y_test, y_pred)\n",
        "# tạo đồ thị scatter có cột x là y_test, cột y là y_pred\n",
        "plt.plot([0,50], [0,50], \"--k\")\n",
        "# vẽ đường nét đứt từ (0,0) tới (50,50)\n",
        "plt.axis('tight')\n",
        "# tự điều chỉnh giới hạn trục biểu đồ khít với điểm dữ liệu\n",
        "plt.xlabel(\"Actual House Prices ($1000)\")\n",
        "plt.ylabel(\"Predicted House Prices ($1000)\")\n",
        "plt.title(\"Actual Prices vs Predicted Prices\")\n",
        "\n",
        "plt.tight_layout()\n",
        "#điều chỉnh bố cục , đảm bảo các ô cách đều và hợp lí"
      ],
      "metadata": {
        "colab": {
          "base_uri": "https://localhost:8080/",
          "height": 507
        },
        "id": "rk60DlXtG2Z1",
        "outputId": "447b6dae-d6d4-4cb0-aa8f-34afed159448"
      },
      "execution_count": null,
      "outputs": [
        {
          "output_type": "display_data",
          "data": {
            "text/plain": [
              "<Figure size 800x500 with 1 Axes>"
            ],
            "image/png": "[encoded data removed]"
          },
          "metadata": {}
        }
      ]
    },
    {
      "cell_type": "code",
      "source": [
        "print(\"RMS: %r \" % np.sqrt(np.mean((y_test - y_pred) ** 2)))\n",
        "# tính RMS"
      ],
      "metadata": {
        "colab": {
          "base_uri": "https://localhost:8080/"
        },
        "id": "CegmTctdIPS7",
        "outputId": "527892aa-709f-48a9-c28a-4824cf22d4a2"
      },
      "execution_count": null,
      "outputs": [
        {
          "output_type": "stream",
          "name": "stdout",
          "text": [
            "RMS: 4.234742281260946 \n"
          ]
        }
      ]
    },
    {
      "cell_type": "code",
      "source": [
        "df1 = pd.DataFrame({'Actual': y_test, \"Predicted\": y_pred})\n",
        "# tạo dataframe có 2 cột gán gái trị y_test, y_pred\n",
        "df2 =df1.head()\n",
        "df2"
      ],
      "metadata": {
        "colab": {
          "base_uri": "https://localhost:8080/",
          "height": 206
        },
        "id": "Cmb7wUidIXEB",
        "outputId": "93d347c5-b881-43cc-8bd4-a623878bf7df"
      },
      "execution_count": null,
      "outputs": [
        {
          "output_type": "execute_result",
          "data": {
            "text/plain": [
              "   Actual  Predicted\n",
              "0    19.6  17.592141\n",
              "1    10.5  12.159254\n",
              "2    19.3  20.244936\n",
              "3    29.9  31.704388\n",
              "4    15.2  15.569746"
            ],
            "text/html": [
              "\n",
              "  <div id=\"df-9a8a1f2e-5246-4e44-896f-853bb617f6e5\" class=\"colab-df-container\">\n",
              "    <div>\n",
              "<style scoped>\n",
              "    .dataframe tbody tr th:only-of-type {\n",
              "        vertical-align: middle;\n",
              "    }\n",
              "\n",
              "    .dataframe tbody tr th {\n",
              "        vertical-align: top;\n",
              "    }\n",
              "\n",
              "    .dataframe thead th {\n",
              "        text-align: right;\n",
              "    }\n",
              "</style>\n",
              "<table border=\"1\" class=\"dataframe\">\n",
              "  <thead>\n",
              "    <tr style=\"text-align: right;\">\n",
              "      <th></th>\n",
              "      <th>Actual</th>\n",
              "      <th>Predicted</th>\n",
              "    </tr>\n",
              "  </thead>\n",
              "  <tbody>\n",
              "    <tr>\n",
              "      <th>0</th>\n",
              "      <td>19.6</td>\n",
              "      <td>17.592141</td>\n",
              "    </tr>\n",
              "    <tr>\n",
              "      <th>1</th>\n",
              "      <td>10.5</td>\n",
              "      <td>12.159254</td>\n",
              "    </tr>\n",
              "    <tr>\n",
              "      <th>2</th>\n",
              "      <td>19.3</td>\n",
              "      <td>20.244936</td>\n",
              "    </tr>\n",
              "    <tr>\n",
              "      <th>3</th>\n",
              "      <td>29.9</td>\n",
              "      <td>31.704388</td>\n",
              "    </tr>\n",
              "    <tr>\n",
              "      <th>4</th>\n",
              "      <td>15.2</td>\n",
              "      <td>15.569746</td>\n",
              "    </tr>\n",
              "  </tbody>\n",
              "</table>\n",
              "</div>\n",
              "    <div class=\"colab-df-buttons\">\n",
              "\n",
              "  <div class=\"colab-df-container\">\n",
              "    <button class=\"colab-df-convert\" onclick=\"convertToInteractive('df-9a8a1f2e-5246-4e44-896f-853bb617f6e5')\"\n",
              "            title=\"Convert this dataframe to an interactive table.\"\n",
              "            style=\"display:none;\">\n",
              "\n",
              "  <svg xmlns=\"http://www.w3.org/2000/svg\" height=\"24px\" viewBox=\"0 -960 960 960\">\n",
              "    <path d=\"M120-120v-720h720v720H120Zm60-500h600v-160H180v160Zm220 220h160v-160H400v160Zm0 220h160v-160H400v160ZM180-400h160v-160H180v160Zm440 0h160v-160H620v160ZM180-180h160v-160H180v160Zm440 0h160v-160H620v160Z\"/>\n",
              "  </svg>\n",
              "    </button>\n",
              "\n",
              "  <style>\n",
              "    .colab-df-container {\n",
              "      display:flex;\n",
              "      gap: 12px;\n",
              "    }\n",
              "\n",
              "    .colab-df-convert {\n",
              "      background-color: #E8F0FE;\n",
              "      border: none;\n",
              "      border-radius: 50%;\n",
              "      cursor: pointer;\n",
              "      display: none;\n",
              "      fill: #1967D2;\n",
              "      height: 32px;\n",
              "      padding: 0 0 0 0;\n",
              "      width: 32px;\n",
              "    }\n",
              "\n",
              "    .colab-df-convert:hover {\n",
              "      background-color: #E2EBFA;\n",
              "      box-shadow: 0px 1px 2px rgba(60, 64, 67, 0.3), 0px 1px 3px 1px rgba(60, 64, 67, 0.15);\n",
              "      fill: #174EA6;\n",
              "    }\n",
              "\n",
              "    .colab-df-buttons div {\n",
              "      margin-bottom: 4px;\n",
              "    }\n",
              "\n",
              "    [theme=dark] .colab-df-convert {\n",
              "      background-color: #3B4455;\n",
              "      fill: #D2E3FC;\n",
              "    }\n",
              "\n",
              "    [theme=dark] .colab-df-convert:hover {\n",
              "      background-color: #434B5C;\n",
              "      box-shadow: 0px 1px 3px 1px rgba(0, 0, 0, 0.15);\n",
              "      filter: drop-shadow(0px 1px 2px rgba(0, 0, 0, 0.3));\n",
              "      fill: #FFFFFF;\n",
              "    }\n",
              "  </style>\n",
              "\n",
              "    <script>\n",
              "      const buttonEl =\n",
              "        document.querySelector('#df-9a8a1f2e-5246-4e44-896f-853bb617f6e5 button.colab-df-convert');\n",
              "      buttonEl.style.display =\n",
              "        google.colab.kernel.accessAllowed ? 'block' : 'none';\n",
              "\n",
              "      async function convertToInteractive(key) {\n",
              "        const element = document.querySelector('#df-9a8a1f2e-5246-4e44-896f-853bb617f6e5');\n",
              "        const dataTable =\n",
              "          await google.colab.kernel.invokeFunction('convertToInteractive',\n",
              "                                                    [key], {});\n",
              "        if (!dataTable) return;\n",
              "\n",
              "        const docLinkHtml = 'Like what you see? Visit the ' +\n",
              "          '<a target=\"_blank\" href=https://colab.research.google.com/notebooks/data_table.ipynb>data table notebook</a>'\n",
              "          + ' to learn more about interactive tables.';\n",
              "        element.innerHTML = '';\n",
              "        dataTable['output_type'] = 'display_data';\n",
              "        await google.colab.output.renderOutput(dataTable, element);\n",
              "        const docLink = document.createElement('div');\n",
              "        docLink.innerHTML = docLinkHtml;\n",
              "        element.appendChild(docLink);\n",
              "      }\n",
              "    </script>\n",
              "  </div>\n",
              "\n",
              "\n",
              "<div id=\"df-c4ecf3d5-ad46-48ab-85fa-14be657ad249\">\n",
              "  <button class=\"colab-df-quickchart\" onclick=\"quickchart('df-c4ecf3d5-ad46-48ab-85fa-14be657ad249')\"\n",
              "            title=\"Suggest charts.\"\n",
              "            style=\"display:none;\">\n",
              "\n",
              "<svg xmlns=\"http://www.w3.org/2000/svg\" height=\"24px\"viewBox=\"0 0 24 24\"\n",
              "     width=\"24px\">\n",
              "    <g>\n",
              "        <path d=\"M19 3H5c-1.1 0-2 .9-2 2v14c0 1.1.9 2 2 2h14c1.1 0 2-.9 2-2V5c0-1.1-.9-2-2-2zM9 17H7v-7h2v7zm4 0h-2V7h2v10zm4 0h-2v-4h2v4z\"/>\n",
              "    </g>\n",
              "</svg>\n",
              "  </button>\n",
              "\n",
              "<style>\n",
              "  .colab-df-quickchart {\n",
              "      --bg-color: #E8F0FE;\n",
              "      --fill-color: #1967D2;\n",
              "      --hover-bg-color: #E2EBFA;\n",
              "      --hover-fill-color: #174EA6;\n",
              "      --disabled-fill-color: #AAA;\n",
              "      --disabled-bg-color: #DDD;\n",
              "  }\n",
              "\n",
              "  [theme=dark] .colab-df-quickchart {\n",
              "      --bg-color: #3B4455;\n",
              "      --fill-color: #D2E3FC;\n",
              "      --hover-bg-color: #434B5C;\n",
              "      --hover-fill-color: #FFFFFF;\n",
              "      --disabled-bg-color: #3B4455;\n",
              "      --disabled-fill-color: #666;\n",
              "  }\n",
              "\n",
              "  .colab-df-quickchart {\n",
              "    background-color: var(--bg-color);\n",
              "    border: none;\n",
              "    border-radius: 50%;\n",
              "    cursor: pointer;\n",
              "    display: none;\n",
              "    fill: var(--fill-color);\n",
              "    height: 32px;\n",
              "    padding: 0;\n",
              "    width: 32px;\n",
              "  }\n",
              "\n",
              "  .colab-df-quickchart:hover {\n",
              "    background-color: var(--hover-bg-color);\n",
              "    box-shadow: 0 1px 2px rgba(60, 64, 67, 0.3), 0 1px 3px 1px rgba(60, 64, 67, 0.15);\n",
              "    fill: var(--button-hover-fill-color);\n",
              "  }\n",
              "\n",
              "  .colab-df-quickchart-complete:disabled,\n",
              "  .colab-df-quickchart-complete:disabled:hover {\n",
              "    background-color: var(--disabled-bg-color);\n",
              "    fill: var(--disabled-fill-color);\n",
              "    box-shadow: none;\n",
              "  }\n",
              "\n",
              "  .colab-df-spinner {\n",
              "    border: 2px solid var(--fill-color);\n",
              "    border-color: transparent;\n",
              "    border-bottom-color: var(--fill-color);\n",
              "    animation:\n",
              "      spin 1s steps(1) infinite;\n",
              "  }\n",
              "\n",
              "  @keyframes spin {\n",
              "    0% {\n",
              "      border-color: transparent;\n",
              "      border-bottom-color: var(--fill-color);\n",
              "      border-left-color: var(--fill-color);\n",
              "    }\n",
              "    20% {\n",
              "      border-color: transparent;\n",
              "      border-left-color: var(--fill-color);\n",
              "      border-top-color: var(--fill-color);\n",
              "    }\n",
              "    30% {\n",
              "      border-color: transparent;\n",
              "      border-left-color: var(--fill-color);\n",
              "      border-top-color: var(--fill-color);\n",
              "      border-right-color: var(--fill-color);\n",
              "    }\n",
              "    40% {\n",
              "      border-color: transparent;\n",
              "      border-right-color: var(--fill-color);\n",
              "      border-top-color: var(--fill-color);\n",
              "    }\n",
              "    60% {\n",
              "      border-color: transparent;\n",
              "      border-right-color: var(--fill-color);\n",
              "    }\n",
              "    80% {\n",
              "      border-color: transparent;\n",
              "      border-right-color: var(--fill-color);\n",
              "      border-bottom-color: var(--fill-color);\n",
              "    }\n",
              "    90% {\n",
              "      border-color: transparent;\n",
              "      border-bottom-color: var(--fill-color);\n",
              "    }\n",
              "  }\n",
              "</style>\n",
              "\n",
              "  <script>\n",
              "    async function quickchart(key) {\n",
              "      const quickchartButtonEl =\n",
              "        document.querySelector('#' + key + ' button');\n",
              "      quickchartButtonEl.disabled = true;  // To prevent multiple clicks.\n",
              "      quickchartButtonEl.classList.add('colab-df-spinner');\n",
              "      try {\n",
              "        const charts = await google.colab.kernel.invokeFunction(\n",
              "            'suggestCharts', [key], {});\n",
              "      } catch (error) {\n",
              "        console.error('Error during call to suggestCharts:', error);\n",
              "      }\n",
              "      quickchartButtonEl.classList.remove('colab-df-spinner');\n",
              "      quickchartButtonEl.classList.add('colab-df-quickchart-complete');\n",
              "    }\n",
              "    (() => {\n",
              "      let quickchartButtonEl =\n",
              "        document.querySelector('#df-c4ecf3d5-ad46-48ab-85fa-14be657ad249 button');\n",
              "      quickchartButtonEl.style.display =\n",
              "        google.colab.kernel.accessAllowed ? 'block' : 'none';\n",
              "    })();\n",
              "  </script>\n",
              "</div>\n",
              "    </div>\n",
              "  </div>\n"
            ]
          },
          "metadata": {},
          "execution_count": 31
        }
      ]
    },
    {
      "cell_type": "code",
      "source": [
        "df2.plot(kind='bar')\n",
        "#vẽ đồ thị bar biểu diễn df2"
      ],
      "metadata": {
        "colab": {
          "base_uri": "https://localhost:8080/",
          "height": 442
        },
        "id": "kxAfKW7lIsbJ",
        "outputId": "e61d0454-18f2-4a3f-c699-63ba46e7c08c"
      },
      "execution_count": null,
      "outputs": [
        {
          "output_type": "execute_result",
          "data": {
            "text/plain": [
              "<Axes: >"
            ]
          },
          "metadata": {},
          "execution_count": 32
        },
        {
          "output_type": "display_data",
          "data": {
            "text/plain": [
              "<Figure size 640x480 with 1 Axes>"
            ],
            "image/png": "[encoded data removed]"
          },
          "metadata": {}
        }
      ]
    }
  ]
}